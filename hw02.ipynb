{
  "cells": [
    {
      "cell_type": "markdown",
      "id": "099fcb9c-ef1f-471e-aa52-990f463fe3c5",
      "metadata": {},
      "source": [
        "# BEE 4750 Homework 2: Dissolved Oxygen\n",
        "\n",
        "**Name**: Christine Swanson\n",
        "\n",
        "**ID**: cms549\n",
        "\n",
        "> **Due Date**\n",
        ">\n",
        "> Friday, 09/22/23, 9:00pm\n",
        "\n",
        "## Overview\n",
        "\n",
        "### Instructions\n",
        "\n",
        "This assignment asks you to use a simulation model for dissolved oxygen\n",
        "to assess the impacts of two wastewater streams, including minimum\n",
        "treatment levels and the impact of uncertain environmental conditions.\n",
        "You will also be asked to identify a minimum distance for the addition\n",
        "of a third discharge stream.\n",
        "\n",
        "### Load Environment\n",
        "\n",
        "The following code loads the environment and makes sure all needed\n",
        "packages are installed. This should be at the start of most Julia\n",
        "scripts."
      ]
    },
    {
      "cell_type": "code",
      "execution_count": 1,
      "id": "395abf3d",
      "metadata": {},
      "outputs": [
        {
          "name": "stderr",
          "output_type": "stream",
          "text": [
            "\u001b[32m\u001b[1m  Activating\u001b[22m\u001b[39m project at `c:\\Users\\chris\\Box\\classwork\\2023_Fall\\BEE5750\\hw\\hw02-christinemswanson`"
          ]
        },
        {
          "name": "stderr",
          "output_type": "stream",
          "text": [
            "\n"
          ]
        },
        {
          "name": "stderr",
          "output_type": "stream",
          "text": [
            "\u001b[32m\u001b[1m   Installed\u001b[22m\u001b[39m Calculus ──────────────── v0.5.1\n"
          ]
        },
        {
          "name": "stderr",
          "output_type": "stream",
          "text": [
            "\u001b[32m\u001b[1m   Installed\u001b[22m\u001b[39m Rmath ─────────────────── v0.7.1\n",
            "\u001b[32m\u001b[1m   Installed\u001b[22m\u001b[39m Rmath_jll ─────────────── v0.4.0+0\n",
            "\u001b[32m\u001b[1m   Installed\u001b[22m\u001b[39m FillArrays ────────────── v1.4.1\n",
            "\u001b[32m\u001b[1m   Installed\u001b[22m\u001b[39m PDMats ────────────────── v0.11.17\n",
            "\u001b[32m\u001b[1m   Installed\u001b[22m\u001b[39m DualNumbers ───────────── v0.6.8\n",
            "\u001b[32m\u001b[1m   Installed\u001b[22m\u001b[39m StatsFuns ─────────────── v1.3.0\n",
            "\u001b[32m\u001b[1m   Installed\u001b[22m\u001b[39m HypergeometricFunctions ─ v0.3.21\n"
          ]
        },
        {
          "name": "stderr",
          "output_type": "stream",
          "text": [
            "\u001b[32m\u001b[1m   Installed\u001b[22m\u001b[39m QuadGK ────────────────── v2.8.2\n"
          ]
        },
        {
          "name": "stderr",
          "output_type": "stream",
          "text": [
            "\u001b[32m\u001b[1m   Installed\u001b[22m\u001b[39m Distributions ─────────── v0.25.98\n"
          ]
        },
        {
          "name": "stderr",
          "output_type": "stream",
          "text": [
            "\u001b[32m\u001b[1mPrecompiling\u001b[22m\u001b[39m "
          ]
        },
        {
          "name": "stderr",
          "output_type": "stream",
          "text": [
            "project..."
          ]
        },
        {
          "name": "stderr",
          "output_type": "stream",
          "text": [
            "\n"
          ]
        },
        {
          "name": "stderr",
          "output_type": "stream",
          "text": [
            "\u001b[32m  ✓ \u001b[39m\u001b[90mCalculus\u001b[39m\n",
            "\u001b[32m  ✓ \u001b[39m\u001b[90mPDMats\u001b[39m\n"
          ]
        },
        {
          "name": "stderr",
          "output_type": "stream",
          "text": [
            "\u001b[32m  ✓ \u001b[39m\u001b[90mRmath_jll\u001b[39m\n"
          ]
        },
        {
          "name": "stderr",
          "output_type": "stream",
          "text": [
            "\u001b[32m  ✓ \u001b[39m\u001b[90mFillArrays\u001b[39m\n"
          ]
        },
        {
          "name": "stderr",
          "output_type": "stream",
          "text": [
            "\u001b[32m  ✓ \u001b[39m\u001b[90mQuadGK\u001b[39m\n"
          ]
        },
        {
          "name": "stderr",
          "output_type": "stream",
          "text": [
            "\u001b[32m  ✓ \u001b[39m\u001b[90mRmath\u001b[39m\n"
          ]
        },
        {
          "name": "stderr",
          "output_type": "stream",
          "text": [
            "\u001b[32m  ✓ \u001b[39m\u001b[90mDualNumbers\u001b[39m\n"
          ]
        },
        {
          "name": "stderr",
          "output_type": "stream",
          "text": [
            "\u001b[32m  ✓ \u001b[39m\u001b[90mHypergeometricFunctions\u001b[39m\n"
          ]
        },
        {
          "name": "stderr",
          "output_type": "stream",
          "text": [
            "\u001b[32m  ✓ \u001b[39m\u001b[90mStatsFuns\u001b[39m\n"
          ]
        },
        {
          "name": "stderr",
          "output_type": "stream",
          "text": [
            "\u001b[32m  ✓ \u001b[39mDistributions\n"
          ]
        },
        {
          "name": "stderr",
          "output_type": "stream",
          "text": [
            "  10 dependencies successfully precompiled in 27 seconds. 140 already precompiled.\n"
          ]
        }
      ],
      "source": [
        "import Pkg\n",
        "Pkg.activate(@__DIR__)\n",
        "Pkg.instantiate()"
      ]
    },
    {
      "cell_type": "code",
      "execution_count": 10,
      "id": "26328b47",
      "metadata": {},
      "outputs": [],
      "source": [
        "using Plots\n",
        "using LaTeXStrings\n",
        "using Distributions\n",
        "using Statistics"
      ]
    },
    {
      "cell_type": "markdown",
      "id": "b14f7dd1-d84b-42e3-bfb5-5fe12e7ac523",
      "metadata": {},
      "source": [
        "## Problems (Total: 40 Points)\n",
        "\n",
        "A river which flows at 6 km/d is receiving waste discharges from two\n",
        "sources which are 15 km apart, as shown in\n",
        "<a href=\"#fig-river\" class=\"quarto-xref\">Figure 1</a>. The oxygen\n",
        "reaeration rate is 0.55 day<sup>-1</sup>, and the decay rates of CBOD\n",
        "and NBOD are are 0.35 and 0.25 day<sup>-1</sup>, respectively. The\n",
        "river’s saturated dissolved oxygen concentration is 10m g/L.\n",
        "\n",
        "![Figure 1: Schematic of the\n",
        "system](attachment:figures/river_diagram.png)"
      ]
    },
    {
      "cell_type": "markdown",
      "id": "8d9711cb-a201-4f24-8e47-91e8e4670a63",
      "metadata": {},
      "source": [
        "### Problem 1 (8 points)\n",
        "\n",
        "If the characteristics of the river inflow and waste discharges are\n",
        "given in <a href=\"#tbl-river\" class=\"quarto-xref\">Table 1</a>, write a\n",
        "Julia model to compute the dissolved oxygen concentration from the first\n",
        "wastewater discharge to an arbitrary distance `d` km downstream. Use\n",
        "your model to compute the maximum dissolved oxygen concentration up to\n",
        "50km downstream and how far downriver this maximum occurs.\n",
        "\n",
        "|    Parameter     |            River Inflow |         Waste Stream 1 |         Waste Stream 2 |\n",
        "|:----------------:|------------------------:|-----------------------:|-----------------------:|\n",
        "|      Inflow      | 100,000 m<sup>3</sup>/d | 10,000 m<sup>3</sup>/d | 15,000 m<sup>3</sup>/d |\n",
        "| DO Concentration |                7.5 mg/L |                 5 mg/L |                 5 mg/L |\n",
        "|       CBOD       |                  5 mg/L |                50 mg/L |                45 mg/L |\n",
        "|       NBOD       |                  5 mg/L |                35 mg/L |                35 mg/L |\n",
        "\n",
        "Table 1: River inflow and waste stream characteristics for Problem 1."
      ]
    },
    {
      "cell_type": "code",
      "execution_count": 1,
      "id": "d7a80c44",
      "metadata": {},
      "outputs": [
        {
          "data": {
            "text/plain": [
              "dissolved_oxygen (generic function with 1 method)"
            ]
          },
          "metadata": {},
          "output_type": "display_data"
        }
      ],
      "source": [
        "# DO model (this only works for single discharge point, not 2)\n",
        "\n",
        "function dissolved_oxygen(x, Cs, C0, B0, N0, ka, kc, kn, U)\n",
        "    a1 = exp(-ka * x / U)\n",
        "    a2 = (kc / (ka - kc)) * (exp(-kc * x / U) - a1)\n",
        "    a3 = (kn / (ka - kn)) * (exp(-kn * x / U) - a1)\n",
        "    C = (Cs * (1 - a1)) + (C0 * a1) - (B0 * a2) - (N0 * a3)\n",
        "    return C\n",
        "end"
      ]
    },
    {
      "cell_type": "code",
      "execution_count": 16,
      "id": "e8394ffd",
      "metadata": {},
      "outputs": [
        {
          "data": {
            "text/plain": [
              "151-element Vector{Float64}:\n",
              " 7.27\n",
              " 7.210287468684139\n",
              " 7.151558941408789\n",
              " 7.093803105773068\n",
              " 7.037008765254879\n",
              " 6.981164838083742\n",
              " 6.92626035612431\n",
              " 6.872284463770458\n",
              " 6.81922641684984\n",
              " 6.767075581538838\n",
              " ⋮\n",
              " 4.82507303239822\n",
              " 4.831600254132351\n",
              " 4.838275237864572\n",
              " 4.84509555153357\n",
              " 4.8520587910659625\n",
              " 4.859162580089342\n",
              " 4.866404569648054\n",
              " 4.873782437921795\n",
              " 4.881293889946921"
            ]
          },
          "metadata": {},
          "output_type": "display_data"
        }
      ],
      "source": [
        "x = 0:0.1:15\n",
        "C_1 = (y -> dissolved_oxygen(y, 10, 7.27, 9.09, 7.73, 0.55, 0.35, 0.25, 6)).(x)"
      ]
    },
    {
      "cell_type": "code",
      "execution_count": 17,
      "id": "71ec75b5",
      "metadata": {},
      "outputs": [
        {
          "data": {
            "text/plain": [
              "7.27"
            ]
          },
          "metadata": {},
          "output_type": "display_data"
        }
      ],
      "source": [
        "maximum(C_1)"
      ]
    },
    {
      "cell_type": "code",
      "execution_count": 18,
      "id": "8d3bb58e",
      "metadata": {},
      "outputs": [
        {
          "data": {
            "text/plain": [
              "351-element Vector{Float64}:\n",
              " 4.259681569822657\n",
              " 4.267703180317181\n",
              " 4.275876859253367\n",
              " 4.284200044938762\n",
              " 4.292670205318812\n",
              " 4.301284837672366\n",
              " 4.310041468310125\n",
              " 4.318937652276026\n",
              " 4.327970973051562\n",
              " 4.33713904226294\n",
              " ⋮\n",
              " 8.278927940056272\n",
              " 8.286536432693227\n",
              " 8.29411471509366\n",
              " 8.301662867563945\n",
              " 8.309180970677827\n",
              " 8.316669105268723\n",
              " 8.324127352422115\n",
              " 8.331555793468082\n",
              " 8.33895450997387"
            ]
          },
          "metadata": {},
          "output_type": "display_data"
        }
      ],
      "source": [
        "# from waste point 2 to end\n",
        "x = 15:0.1:50\n",
        "C_2 = (y -> dissolved_oxygen(y, 10, 7.17, 10.2, 8.91, 0.55, 0.35, 0.25, 6)).(x)"
      ]
    },
    {
      "cell_type": "code",
      "execution_count": 19,
      "id": "23e35140",
      "metadata": {},
      "outputs": [
        {
          "data": {
            "text/plain": [
              "8.33895450997387"
            ]
          },
          "metadata": {},
          "output_type": "display_data"
        }
      ],
      "source": [
        "maximum(C_2)"
      ]
    },
    {
      "cell_type": "markdown",
      "id": "469a264d",
      "metadata": {},
      "source": [
        "So it looks like the maximum discharge value is 8.33 mg/L, and this occurs at 50 km downstream? This can't be right..."
      ]
    },
    {
      "cell_type": "markdown",
      "id": "0e93c34c-09f5-48d5-98af-15674255cfed",
      "metadata": {},
      "source": [
        "### Problem 2 (4 points)\n",
        "\n",
        "Use your model to plot the dissolved oxygen concentration in the river\n",
        "from the first waste stream to 50km downstream. What do you notice?"
      ]
    },
    {
      "cell_type": "code",
      "execution_count": 23,
      "id": "f1d2ec3b",
      "metadata": {},
      "outputs": [],
      "source": [
        "# append the 2 vectors together\n",
        "C_combined = [C_1; C_2];"
      ]
    },
    {
      "cell_type": "code",
      "execution_count": 28,
      "id": "25a42820",
      "metadata": {},
      "outputs": [
        {
          "data": {
            "image/png": "[encoded data removed]",
            "image/svg+xml": [
              "<?xml version=\"1.0\" encoding=\"utf-8\"?>\n",
              "<svg xmlns=\"http://www.w3.org/2000/svg\" xmlns:xlink=\"http://www.w3.org/1999/xlink\" width=\"600\" height=\"400\" viewBox=\"0 0 2400 1600\">\n",
              "<defs>\n",
              "  <clipPath id=\"clip940\">\n",
              "    <rect x=\"0\" y=\"0\" width=\"2400\" height=\"1600\"/>\n",
              "  </clipPath>\n",
              "</defs>\n",
              "<path clip-path=\"url(#clip940)\" d=\"M0 1600 L2400 1600 L2400 0 L0 0  Z\" fill=\"#ffffff\" fill-rule=\"evenodd\" fill-opacity=\"1\"/>\n",
              "<defs>\n",
              "  <clipPath id=\"clip941\">\n",
              "    <rect x=\"480\" y=\"0\" width=\"1681\" height=\"1600\"/>\n",
              "  </clipPath>\n",
              "</defs>\n",
              "<path clip-path=\"url(#clip940)\" d=\"M110.858 1486.45 L2352.76 1486.45 L2352.76 47.2441 L110.858 47.2441  Z\" fill=\"#ffffff\" fill-rule=\"evenodd\" fill-opacity=\"1\"/>\n",
              "<defs>\n",
              "  <clipPath id=\"clip942\">\n",
              "    <rect x=\"110\" y=\"47\" width=\"2243\" height=\"1440\"/>\n",
              "  </clipPath>\n",
              "</defs>\n",
              "<polyline clip-path=\"url(#clip942)\" style=\"stroke:#000000; stroke-linecap:round; stroke-linejoin:round; stroke-width:2; stroke-opacity:0.1; fill:none\" points=\"170.086,1486.45 170.086,47.2441 \"/>\n",
              "<polyline clip-path=\"url(#clip942)\" style=\"stroke:#000000; stroke-linecap:round; stroke-linejoin:round; stroke-width:2; stroke-opacity:0.1; fill:none\" points=\"592.241,1486.45 592.241,47.2441 \"/>\n",
              "<polyline clip-path=\"url(#clip942)\" style=\"stroke:#000000; stroke-linecap:round; stroke-linejoin:round; stroke-width:2; stroke-opacity:0.1; fill:none\" points=\"1014.4,1486.45 1014.4,47.2441 \"/>\n",
              "<polyline clip-path=\"url(#clip942)\" style=\"stroke:#000000; stroke-linecap:round; stroke-linejoin:round; stroke-width:2; stroke-opacity:0.1; fill:none\" points=\"1436.55,1486.45 1436.55,47.2441 \"/>\n",
              "<polyline clip-path=\"url(#clip942)\" style=\"stroke:#000000; stroke-linecap:round; stroke-linejoin:round; stroke-width:2; stroke-opacity:0.1; fill:none\" points=\"1858.71,1486.45 1858.71,47.2441 \"/>\n",
              "<polyline clip-path=\"url(#clip942)\" style=\"stroke:#000000; stroke-linecap:round; stroke-linejoin:round; stroke-width:2; stroke-opacity:0.1; fill:none\" points=\"2280.86,1486.45 2280.86,47.2441 \"/>\n",
              "<polyline clip-path=\"url(#clip940)\" style=\"stroke:#000000; stroke-linecap:round; stroke-linejoin:round; stroke-width:4; stroke-opacity:1; fill:none\" points=\"110.858,1486.45 2352.76,1486.45 \"/>\n",
              "<polyline clip-path=\"url(#clip940)\" style=\"stroke:#000000; stroke-linecap:round; stroke-linejoin:round; stroke-width:4; stroke-opacity:1; fill:none\" points=\"170.086,1486.45 170.086,1467.55 \"/>\n",
              "<polyline clip-path=\"url(#clip940)\" style=\"stroke:#000000; stroke-linecap:round; stroke-linejoin:round; stroke-width:4; stroke-opacity:1; fill:none\" points=\"592.241,1486.45 592.241,1467.55 \"/>\n",
              "<polyline clip-path=\"url(#clip940)\" style=\"stroke:#000000; stroke-linecap:round; stroke-linejoin:round; stroke-width:4; stroke-opacity:1; fill:none\" points=\"1014.4,1486.45 1014.4,1467.55 \"/>\n",
              "<polyline clip-path=\"url(#clip940)\" style=\"stroke:#000000; stroke-linecap:round; stroke-linejoin:round; stroke-width:4; stroke-opacity:1; fill:none\" points=\"1436.55,1486.45 1436.55,1467.55 \"/>\n",
              "<polyline clip-path=\"url(#clip940)\" style=\"stroke:#000000; stroke-linecap:round; stroke-linejoin:round; stroke-width:4; stroke-opacity:1; fill:none\" points=\"1858.71,1486.45 1858.71,1467.55 \"/>\n",
              "<polyline clip-path=\"url(#clip940)\" style=\"stroke:#000000; stroke-linecap:round; stroke-linejoin:round; stroke-width:4; stroke-opacity:1; fill:none\" points=\"2280.86,1486.45 2280.86,1467.55 \"/>\n",
              "<path clip-path=\"url(#clip940)\" d=\"M170.086 1517.37 Q166.475 1517.37 164.646 1520.93 Q162.841 1524.47 162.841 1531.6 Q162.841 1538.71 164.646 1542.27 Q166.475 1545.82 170.086 1545.82 Q173.72 1545.82 175.526 1542.27 Q177.355 1538.71 177.355 1531.6 Q177.355 1524.47 175.526 1520.93 Q173.72 1517.37 170.086 1517.37 M170.086 1513.66 Q175.896 1513.66 178.952 1518.27 Q182.031 1522.85 182.031 1531.6 Q182.031 1540.33 178.952 1544.94 Q175.896 1549.52 170.086 1549.52 Q164.276 1549.52 161.197 1544.94 Q158.142 1540.33 158.142 1531.6 Q158.142 1522.85 161.197 1518.27 Q164.276 1513.66 170.086 1513.66 Z\" fill=\"#000000\" fill-rule=\"nonzero\" fill-opacity=\"1\" /><path clip-path=\"url(#clip940)\" d=\"M551.848 1544.91 L559.487 1544.91 L559.487 1518.55 L551.177 1520.21 L551.177 1515.95 L559.441 1514.29 L564.117 1514.29 L564.117 1544.91 L571.755 1544.91 L571.755 1548.85 L551.848 1548.85 L551.848 1544.91 Z\" fill=\"#000000\" fill-rule=\"nonzero\" fill-opacity=\"1\" /><path clip-path=\"url(#clip940)\" d=\"M591.2 1517.37 Q587.589 1517.37 585.76 1520.93 Q583.954 1524.47 583.954 1531.6 Q583.954 1538.71 585.76 1542.27 Q587.589 1545.82 591.2 1545.82 Q594.834 1545.82 596.64 1542.27 Q598.468 1538.71 598.468 1531.6 Q598.468 1524.47 596.64 1520.93 Q594.834 1517.37 591.2 1517.37 M591.2 1513.66 Q597.01 1513.66 600.066 1518.27 Q603.144 1522.85 603.144 1531.6 Q603.144 1540.33 600.066 1544.94 Q597.01 1549.52 591.2 1549.52 Q585.39 1549.52 582.311 1544.94 Q579.255 1540.33 579.255 1531.6 Q579.255 1522.85 582.311 1518.27 Q585.39 1513.66 591.2 1513.66 Z\" fill=\"#000000\" fill-rule=\"nonzero\" fill-opacity=\"1\" /><path clip-path=\"url(#clip940)\" d=\"M621.362 1517.37 Q617.751 1517.37 615.922 1520.93 Q614.116 1524.47 614.116 1531.6 Q614.116 1538.71 615.922 1542.27 Q617.751 1545.82 621.362 1545.82 Q624.996 1545.82 626.801 1542.27 Q628.63 1538.71 628.63 1531.6 Q628.63 1524.47 626.801 1520.93 Q624.996 1517.37 621.362 1517.37 M621.362 1513.66 Q627.172 1513.66 630.227 1518.27 Q633.306 1522.85 633.306 1531.6 Q633.306 1540.33 630.227 1544.94 Q627.172 1549.52 621.362 1549.52 Q615.552 1549.52 612.473 1544.94 Q609.417 1540.33 609.417 1531.6 Q609.417 1522.85 612.473 1518.27 Q615.552 1513.66 621.362 1513.66 Z\" fill=\"#000000\" fill-rule=\"nonzero\" fill-opacity=\"1\" /><path clip-path=\"url(#clip940)\" d=\"M978.089 1544.91 L994.409 1544.91 L994.409 1548.85 L972.464 1548.85 L972.464 1544.91 Q975.126 1542.16 979.71 1537.53 Q984.316 1532.88 985.497 1531.53 Q987.742 1529.01 988.621 1527.27 Q989.524 1525.51 989.524 1523.82 Q989.524 1521.07 987.58 1519.33 Q985.659 1517.6 982.557 1517.6 Q980.358 1517.6 977.904 1518.36 Q975.473 1519.13 972.696 1520.68 L972.696 1515.95 Q975.52 1514.82 977.973 1514.24 Q980.427 1513.66 982.464 1513.66 Q987.834 1513.66 991.029 1516.35 Q994.223 1519.03 994.223 1523.52 Q994.223 1525.65 993.413 1527.57 Q992.626 1529.47 990.52 1532.07 Q989.941 1532.74 986.839 1535.95 Q983.737 1539.15 978.089 1544.91 Z\" fill=\"#000000\" fill-rule=\"nonzero\" fill-opacity=\"1\" /><path clip-path=\"url(#clip940)\" d=\"M1014.22 1517.37 Q1010.61 1517.37 1008.78 1520.93 Q1006.98 1524.47 1006.98 1531.6 Q1006.98 1538.71 1008.78 1542.27 Q1010.61 1545.82 1014.22 1545.82 Q1017.86 1545.82 1019.66 1542.27 Q1021.49 1538.71 1021.49 1531.6 Q1021.49 1524.47 1019.66 1520.93 Q1017.86 1517.37 1014.22 1517.37 M1014.22 1513.66 Q1020.03 1513.66 1023.09 1518.27 Q1026.17 1522.85 1026.17 1531.6 Q1026.17 1540.33 1023.09 1544.94 Q1020.03 1549.52 1014.22 1549.52 Q1008.41 1549.52 1005.33 1544.94 Q1002.28 1540.33 1002.28 1531.6 Q1002.28 1522.85 1005.33 1518.27 Q1008.41 1513.66 1014.22 1513.66 Z\" fill=\"#000000\" fill-rule=\"nonzero\" fill-opacity=\"1\" /><path clip-path=\"url(#clip940)\" d=\"M1044.39 1517.37 Q1040.77 1517.37 1038.95 1520.93 Q1037.14 1524.47 1037.14 1531.6 Q1037.14 1538.71 1038.95 1542.27 Q1040.77 1545.82 1044.39 1545.82 Q1048.02 1545.82 1049.82 1542.27 Q1051.65 1538.71 1051.65 1531.6 Q1051.65 1524.47 1049.82 1520.93 Q1048.02 1517.37 1044.39 1517.37 M1044.39 1513.66 Q1050.2 1513.66 1053.25 1518.27 Q1056.33 1522.85 1056.33 1531.6 Q1056.33 1540.33 1053.25 1544.94 Q1050.2 1549.52 1044.39 1549.52 Q1038.57 1549.52 1035.5 1544.94 Q1032.44 1540.33 1032.44 1531.6 Q1032.44 1522.85 1035.5 1518.27 Q1038.57 1513.66 1044.39 1513.66 Z\" fill=\"#000000\" fill-rule=\"nonzero\" fill-opacity=\"1\" /><path clip-path=\"url(#clip940)\" d=\"M1410.31 1530.21 Q1413.67 1530.93 1415.55 1533.2 Q1417.44 1535.47 1417.44 1538.8 Q1417.44 1543.92 1413.92 1546.72 Q1410.41 1549.52 1403.93 1549.52 Q1401.75 1549.52 1399.43 1549.08 Q1397.14 1548.66 1394.69 1547.81 L1394.69 1543.29 Q1396.63 1544.43 1398.95 1545.01 Q1401.26 1545.58 1403.79 1545.58 Q1408.18 1545.58 1410.48 1543.85 Q1412.79 1542.11 1412.79 1538.8 Q1412.79 1535.75 1410.64 1534.03 Q1408.51 1532.3 1404.69 1532.3 L1400.66 1532.3 L1400.66 1528.45 L1404.87 1528.45 Q1408.32 1528.45 1410.15 1527.09 Q1411.98 1525.7 1411.98 1523.11 Q1411.98 1520.45 1410.08 1519.03 Q1408.21 1517.6 1404.69 1517.6 Q1402.77 1517.6 1400.57 1518.01 Q1398.37 1518.43 1395.73 1519.31 L1395.73 1515.14 Q1398.39 1514.4 1400.71 1514.03 Q1403.05 1513.66 1405.11 1513.66 Q1410.43 1513.66 1413.53 1516.09 Q1416.63 1518.5 1416.63 1522.62 Q1416.63 1525.49 1414.99 1527.48 Q1413.35 1529.45 1410.31 1530.21 Z\" fill=\"#000000\" fill-rule=\"nonzero\" fill-opacity=\"1\" /><path clip-path=\"url(#clip940)\" d=\"M1436.31 1517.37 Q1432.7 1517.37 1430.87 1520.93 Q1429.06 1524.47 1429.06 1531.6 Q1429.06 1538.71 1430.87 1542.27 Q1432.7 1545.82 1436.31 1545.82 Q1439.94 1545.82 1441.75 1542.27 Q1443.58 1538.71 1443.58 1531.6 Q1443.58 1524.47 1441.75 1520.93 Q1439.94 1517.37 1436.31 1517.37 M1436.31 1513.66 Q1442.12 1513.66 1445.17 1518.27 Q1448.25 1522.85 1448.25 1531.6 Q1448.25 1540.33 1445.17 1544.94 Q1442.12 1549.52 1436.31 1549.52 Q1430.5 1549.52 1427.42 1544.94 Q1424.36 1540.33 1424.36 1531.6 Q1424.36 1522.85 1427.42 1518.27 Q1430.5 1513.66 1436.31 1513.66 Z\" fill=\"#000000\" fill-rule=\"nonzero\" fill-opacity=\"1\" /><path clip-path=\"url(#clip940)\" d=\"M1466.47 1517.37 Q1462.86 1517.37 1461.03 1520.93 Q1459.23 1524.47 1459.23 1531.6 Q1459.23 1538.71 1461.03 1542.27 Q1462.86 1545.82 1466.47 1545.82 Q1470.11 1545.82 1471.91 1542.27 Q1473.74 1538.71 1473.74 1531.6 Q1473.74 1524.47 1471.91 1520.93 Q1470.11 1517.37 1466.47 1517.37 M1466.47 1513.66 Q1472.28 1513.66 1475.34 1518.27 Q1478.42 1522.85 1478.42 1531.6 Q1478.42 1540.33 1475.34 1544.94 Q1472.28 1549.52 1466.47 1549.52 Q1460.66 1549.52 1457.58 1544.94 Q1454.53 1540.33 1454.53 1531.6 Q1454.53 1522.85 1457.58 1518.27 Q1460.66 1513.66 1466.47 1513.66 Z\" fill=\"#000000\" fill-rule=\"nonzero\" fill-opacity=\"1\" /><path clip-path=\"url(#clip940)\" d=\"M1831.8 1518.36 L1819.99 1536.81 L1831.8 1536.81 L1831.8 1518.36 M1830.57 1514.29 L1836.45 1514.29 L1836.45 1536.81 L1841.38 1536.81 L1841.38 1540.7 L1836.45 1540.7 L1836.45 1548.85 L1831.8 1548.85 L1831.8 1540.7 L1816.2 1540.7 L1816.2 1536.19 L1830.57 1514.29 Z\" fill=\"#000000\" fill-rule=\"nonzero\" fill-opacity=\"1\" /><path clip-path=\"url(#clip940)\" d=\"M1859.11 1517.37 Q1855.5 1517.37 1853.67 1520.93 Q1851.87 1524.47 1851.87 1531.6 Q1851.87 1538.71 1853.67 1542.27 Q1855.5 1545.82 1859.11 1545.82 Q1862.75 1545.82 1864.55 1542.27 Q1866.38 1538.71 1866.38 1531.6 Q1866.38 1524.47 1864.55 1520.93 Q1862.75 1517.37 1859.11 1517.37 M1859.11 1513.66 Q1864.92 1513.66 1867.98 1518.27 Q1871.06 1522.85 1871.06 1531.6 Q1871.06 1540.33 1867.98 1544.94 Q1864.92 1549.52 1859.11 1549.52 Q1853.3 1549.52 1850.22 1544.94 Q1847.17 1540.33 1847.17 1531.6 Q1847.17 1522.85 1850.22 1518.27 Q1853.3 1513.66 1859.11 1513.66 Z\" fill=\"#000000\" fill-rule=\"nonzero\" fill-opacity=\"1\" /><path clip-path=\"url(#clip940)\" d=\"M1889.27 1517.37 Q1885.66 1517.37 1883.83 1520.93 Q1882.03 1524.47 1882.03 1531.6 Q1882.03 1538.71 1883.83 1542.27 Q1885.66 1545.82 1889.27 1545.82 Q1892.91 1545.82 1894.71 1542.27 Q1896.54 1538.71 1896.54 1531.6 Q1896.54 1524.47 1894.71 1520.93 Q1892.91 1517.37 1889.27 1517.37 M1889.27 1513.66 Q1895.08 1513.66 1898.14 1518.27 Q1901.22 1522.85 1901.22 1531.6 Q1901.22 1540.33 1898.14 1544.94 Q1895.08 1549.52 1889.27 1549.52 Q1883.46 1549.52 1880.39 1544.94 Q1877.33 1540.33 1877.33 1531.6 Q1877.33 1522.85 1880.39 1518.27 Q1883.46 1513.66 1889.27 1513.66 Z\" fill=\"#000000\" fill-rule=\"nonzero\" fill-opacity=\"1\" /><path clip-path=\"url(#clip940)\" d=\"M2240.48 1514.29 L2258.84 1514.29 L2258.84 1518.22 L2244.76 1518.22 L2244.76 1526.7 Q2245.78 1526.35 2246.8 1526.19 Q2247.82 1526 2248.84 1526 Q2254.62 1526 2258 1529.17 Q2261.38 1532.34 2261.38 1537.76 Q2261.38 1543.34 2257.91 1546.44 Q2254.44 1549.52 2248.12 1549.52 Q2245.94 1549.52 2243.68 1549.15 Q2241.43 1548.78 2239.02 1548.04 L2239.02 1543.34 Q2241.11 1544.47 2243.33 1545.03 Q2245.55 1545.58 2248.03 1545.58 Q2252.03 1545.58 2254.37 1543.48 Q2256.71 1541.37 2256.71 1537.76 Q2256.71 1534.15 2254.37 1532.04 Q2252.03 1529.94 2248.03 1529.94 Q2246.15 1529.94 2244.28 1530.35 Q2242.43 1530.77 2240.48 1531.65 L2240.48 1514.29 Z\" fill=\"#000000\" fill-rule=\"nonzero\" fill-opacity=\"1\" /><path clip-path=\"url(#clip940)\" d=\"M2280.6 1517.37 Q2276.99 1517.37 2275.16 1520.93 Q2273.35 1524.47 2273.35 1531.6 Q2273.35 1538.71 2275.16 1542.27 Q2276.99 1545.82 2280.6 1545.82 Q2284.23 1545.82 2286.04 1542.27 Q2287.87 1538.71 2287.87 1531.6 Q2287.87 1524.47 2286.04 1520.93 Q2284.23 1517.37 2280.6 1517.37 M2280.6 1513.66 Q2286.41 1513.66 2289.46 1518.27 Q2292.54 1522.85 2292.54 1531.6 Q2292.54 1540.33 2289.46 1544.94 Q2286.41 1549.52 2280.6 1549.52 Q2274.79 1549.52 2271.71 1544.94 Q2268.65 1540.33 2268.65 1531.6 Q2268.65 1522.85 2271.71 1518.27 Q2274.79 1513.66 2280.6 1513.66 Z\" fill=\"#000000\" fill-rule=\"nonzero\" fill-opacity=\"1\" /><path clip-path=\"url(#clip940)\" d=\"M2310.76 1517.37 Q2307.15 1517.37 2305.32 1520.93 Q2303.51 1524.47 2303.51 1531.6 Q2303.51 1538.71 2305.32 1542.27 Q2307.15 1545.82 2310.76 1545.82 Q2314.39 1545.82 2316.2 1542.27 Q2318.03 1538.71 2318.03 1531.6 Q2318.03 1524.47 2316.2 1520.93 Q2314.39 1517.37 2310.76 1517.37 M2310.76 1513.66 Q2316.57 1513.66 2319.62 1518.27 Q2322.7 1522.85 2322.7 1531.6 Q2322.7 1540.33 2319.62 1544.94 Q2316.57 1549.52 2310.76 1549.52 Q2304.95 1549.52 2301.87 1544.94 Q2298.81 1540.33 2298.81 1531.6 Q2298.81 1522.85 2301.87 1518.27 Q2304.95 1513.66 2310.76 1513.66 Z\" fill=\"#000000\" fill-rule=\"nonzero\" fill-opacity=\"1\" /><polyline clip-path=\"url(#clip942)\" style=\"stroke:#000000; stroke-linecap:round; stroke-linejoin:round; stroke-width:2; stroke-opacity:0.1; fill:none\" points=\"110.858,1199.31 2352.76,1199.31 \"/>\n",
              "<polyline clip-path=\"url(#clip942)\" style=\"stroke:#000000; stroke-linecap:round; stroke-linejoin:round; stroke-width:2; stroke-opacity:0.1; fill:none\" points=\"110.858,866.471 2352.76,866.471 \"/>\n",
              "<polyline clip-path=\"url(#clip942)\" style=\"stroke:#000000; stroke-linecap:round; stroke-linejoin:round; stroke-width:2; stroke-opacity:0.1; fill:none\" points=\"110.858,533.632 2352.76,533.632 \"/>\n",
              "<polyline clip-path=\"url(#clip942)\" style=\"stroke:#000000; stroke-linecap:round; stroke-linejoin:round; stroke-width:2; stroke-opacity:0.1; fill:none\" points=\"110.858,200.793 2352.76,200.793 \"/>\n",
              "<polyline clip-path=\"url(#clip940)\" style=\"stroke:#000000; stroke-linecap:round; stroke-linejoin:round; stroke-width:4; stroke-opacity:1; fill:none\" points=\"110.858,1486.45 110.858,47.2441 \"/>\n",
              "<polyline clip-path=\"url(#clip940)\" style=\"stroke:#000000; stroke-linecap:round; stroke-linejoin:round; stroke-width:4; stroke-opacity:1; fill:none\" points=\"110.858,1199.31 129.755,1199.31 \"/>\n",
              "<polyline clip-path=\"url(#clip940)\" style=\"stroke:#000000; stroke-linecap:round; stroke-linejoin:round; stroke-width:4; stroke-opacity:1; fill:none\" points=\"110.858,866.471 129.755,866.471 \"/>\n",
              "<polyline clip-path=\"url(#clip940)\" style=\"stroke:#000000; stroke-linecap:round; stroke-linejoin:round; stroke-width:4; stroke-opacity:1; fill:none\" points=\"110.858,533.632 129.755,533.632 \"/>\n",
              "<polyline clip-path=\"url(#clip940)\" style=\"stroke:#000000; stroke-linecap:round; stroke-linejoin:round; stroke-width:4; stroke-opacity:1; fill:none\" points=\"110.858,200.793 129.755,200.793 \"/>\n",
              "<path clip-path=\"url(#clip940)\" d=\"M53.9551 1182.03 L72.3115 1182.03 L72.3115 1185.96 L58.2375 1185.96 L58.2375 1194.44 Q59.256 1194.09 60.2745 1193.93 Q61.293 1193.74 62.3115 1193.74 Q68.0985 1193.74 71.4781 1196.91 Q74.8577 1200.08 74.8577 1205.5 Q74.8577 1211.08 71.3855 1214.18 Q67.9133 1217.26 61.5939 1217.26 Q59.418 1217.26 57.1495 1216.89 Q54.9041 1216.52 52.4967 1215.78 L52.4967 1211.08 Q54.5801 1212.21 56.8023 1212.77 Q59.0245 1213.33 61.5013 1213.33 Q65.5059 1213.33 67.8439 1211.22 Q70.1818 1209.11 70.1818 1205.5 Q70.1818 1201.89 67.8439 1199.78 Q65.5059 1197.68 61.5013 1197.68 Q59.6263 1197.68 57.7513 1198.09 Q55.8995 1198.51 53.9551 1199.39 L53.9551 1182.03 Z\" fill=\"#000000\" fill-rule=\"nonzero\" fill-opacity=\"1\" /><path clip-path=\"url(#clip940)\" d=\"M63.33 864.607 Q60.1819 864.607 58.33 866.76 Q56.5014 868.913 56.5014 872.663 Q56.5014 876.39 58.33 878.565 Q60.1819 880.718 63.33 880.718 Q66.4782 880.718 68.3068 878.565 Q70.1587 876.39 70.1587 872.663 Q70.1587 868.913 68.3068 866.76 Q66.4782 864.607 63.33 864.607 M72.6124 849.954 L72.6124 854.214 Q70.8531 853.38 69.0476 852.941 Q67.2652 852.501 65.5059 852.501 Q60.8763 852.501 58.4226 855.626 Q55.9921 858.751 55.6449 865.07 Q57.0106 863.056 59.0708 861.991 Q61.131 860.903 63.6078 860.903 Q68.8161 860.903 71.8253 864.075 Q74.8577 867.223 74.8577 872.663 Q74.8577 877.987 71.7096 881.204 Q68.5615 884.422 63.33 884.422 Q57.3347 884.422 54.1634 879.839 Q50.9921 875.232 50.9921 866.505 Q50.9921 858.311 54.881 853.45 Q58.7699 848.566 65.3208 848.566 Q67.08 848.566 68.8624 848.913 Q70.6679 849.26 72.6124 849.954 Z\" fill=\"#000000\" fill-rule=\"nonzero\" fill-opacity=\"1\" /><path clip-path=\"url(#clip940)\" d=\"M52.6356 516.352 L74.8577 516.352 L74.8577 518.343 L62.3115 550.912 L57.4273 550.912 L69.2328 520.287 L52.6356 520.287 L52.6356 516.352 Z\" fill=\"#000000\" fill-rule=\"nonzero\" fill-opacity=\"1\" /><path clip-path=\"url(#clip940)\" d=\"M63.006 201.661 Q59.6726 201.661 57.7513 203.444 Q55.8532 205.226 55.8532 208.351 Q55.8532 211.476 57.7513 213.259 Q59.6726 215.041 63.006 215.041 Q66.3393 215.041 68.2606 213.259 Q70.1818 211.453 70.1818 208.351 Q70.1818 205.226 68.2606 203.444 Q66.3624 201.661 63.006 201.661 M58.33 199.671 Q55.3208 198.93 53.631 196.87 Q51.9643 194.81 51.9643 191.847 Q51.9643 187.703 54.9041 185.296 Q57.8671 182.888 63.006 182.888 Q68.168 182.888 71.1078 185.296 Q74.0476 187.703 74.0476 191.847 Q74.0476 194.81 72.3578 196.87 Q70.6911 198.93 67.705 199.671 Q71.0846 200.458 72.9596 202.749 Q74.8577 205.041 74.8577 208.351 Q74.8577 213.374 71.7791 216.06 Q68.7235 218.745 63.006 218.745 Q57.2884 218.745 54.2097 216.06 Q51.1542 213.374 51.1542 208.351 Q51.1542 205.041 53.0523 202.749 Q54.9504 200.458 58.33 199.671 M56.6171 192.287 Q56.6171 194.972 58.2838 196.476 Q59.9736 197.981 63.006 197.981 Q66.0152 197.981 67.705 196.476 Q69.418 194.972 69.418 192.287 Q69.418 189.601 67.705 188.097 Q66.0152 186.592 63.006 186.592 Q59.9736 186.592 58.2838 188.097 Q56.6171 189.601 56.6171 192.287 Z\" fill=\"#000000\" fill-rule=\"nonzero\" fill-opacity=\"1\" /><polyline clip-path=\"url(#clip942)\" style=\"stroke:#009af9; stroke-linecap:round; stroke-linejoin:round; stroke-width:4; stroke-opacity:1; fill:none\" points=\"174.308,443.766 178.529,463.64 182.751,483.187 186.972,502.411 191.194,521.314 195.415,539.901 199.637,558.175 203.859,576.141 208.08,593.8 212.302,611.158 216.523,628.218 220.745,644.982 224.966,661.455 229.188,677.639 233.409,693.539 237.631,709.158 241.853,724.498 246.074,739.563 250.296,754.357 254.517,768.882 258.739,783.142 262.96,797.139 267.182,810.878 271.403,824.36 275.625,837.589 279.847,850.568 284.068,863.301 288.29,875.789 292.511,888.036 296.733,900.044 300.954,911.817 305.176,923.357 309.397,934.668 313.619,945.751 317.841,956.61 322.062,967.247 326.284,977.665 330.505,987.866 334.727,997.854 338.948,1007.63 343.17,1017.2 347.391,1026.56 351.613,1035.72 355.834,1044.68 360.056,1053.43 364.278,1062 368.499,1070.37 372.721,1078.54 376.942,1086.53 381.164,1094.33 385.385,1101.95 389.607,1109.38 393.828,1116.64 398.05,1123.72 402.272,1130.62 406.493,1137.35 410.715,1143.9 414.936,1150.29 419.158,1156.51 423.379,1162.57 427.601,1168.46 431.822,1174.2 436.044,1179.77 440.266,1185.19 444.487,1190.45 448.709,1195.56 452.93,1200.53 457.152,1205.34 461.373,1210 465.595,1214.52 469.816,1218.9 474.038,1223.13 478.26,1227.23 482.481,1231.19 486.703,1235.01 490.924,1238.7 495.146,1242.25 499.367,1245.68 503.589,1248.98 507.81,1252.14 512.032,1255.19 516.254,1258.11 520.475,1260.91 524.697,1263.58 528.918,1266.14 533.14,1268.58 537.361,1270.9 541.583,1273.11 545.804,1275.21 550.026,1277.2 554.247,1279.07 558.469,1280.84 562.691,1282.5 566.912,1284.06 571.134,1285.51 575.355,1286.86 579.577,1288.11 583.798,1289.26 588.02,1290.31 592.241,1291.26 596.463,1292.12 600.685,1292.88 604.906,1293.55 609.128,1294.13 613.349,1294.62 617.571,1295.01 621.792,1295.33 626.014,1295.55 630.235,1295.69 634.457,1295.74 638.679,1295.71 642.9,1295.6 647.122,1295.41 651.343,1295.14 655.565,1294.79 659.786,1294.37 664.008,1293.87 668.229,1293.29 672.451,1292.64 676.673,1291.92 680.894,1291.12 685.116,1290.26 689.337,1289.32 693.559,1288.32 697.78,1287.25 702.002,1286.11 706.223,1284.9 710.445,1283.64 714.667,1282.31 718.888,1280.91 723.11,1279.46 727.331,1277.94 731.553,1276.37 735.774,1274.73 739.996,1273.04 744.217,1271.29 748.439,1269.49 752.661,1267.63 756.882,1265.71 761.104,1263.75 765.325,1261.73 769.547,1259.65 773.768,1257.53 777.99,1255.36 782.211,1253.14 786.433,1250.87 790.654,1248.55 794.876,1246.19 799.098,1243.77 803.319,1241.32 807.541,1238.82 811.762,1445.72 815.984,1443.05 820.205,1440.33 824.427,1437.55 828.648,1434.74 832.87,1431.87 837.092,1428.95 841.313,1425.99 845.535,1422.99 849.756,1419.93 853.978,1416.84 858.199,1413.7 862.421,1410.52 866.642,1407.3 870.864,1404.03 875.086,1400.73 879.307,1397.38 883.529,1394 887.75,1390.58 891.972,1387.12 896.193,1383.63 900.415,1380.1 904.636,1376.53 908.858,1372.93 913.08,1369.29 917.301,1365.63 921.523,1361.92 925.744,1358.19 929.966,1354.43 934.187,1350.63 938.409,1346.81 942.63,1342.95 946.852,1339.07 951.074,1335.16 955.295,1331.22 959.517,1327.25 963.738,1323.26 967.96,1319.24 972.181,1315.19 976.403,1311.12 980.624,1307.03 984.846,1302.91 989.067,1298.77 993.289,1294.6 997.511,1290.42 1001.73,1286.21 1005.95,1281.98 1010.18,1277.73 1014.4,1273.46 1018.62,1269.17 1022.84,1264.86 1027.06,1260.53 1031.28,1256.18 1035.5,1251.82 1039.73,1247.44 1043.95,1243.04 1048.17,1238.62 1052.39,1234.19 1056.61,1229.75 1060.83,1225.28 1065.06,1220.81 1069.28,1216.32 1073.5,1211.81 1077.72,1207.3 1081.94,1202.76 1086.16,1198.22 1090.38,1193.66 1094.61,1189.1 1098.83,1184.52 1103.05,1179.93 1107.27,1175.32 1111.49,1170.71 1115.71,1166.09 1119.94,1161.46 1124.16,1156.82 1128.38,1152.17 1132.6,1147.51 1136.82,1142.85 1141.04,1138.17 1145.26,1133.49 1149.49,1128.8 1153.71,1124.1 1157.93,1119.4 1162.15,1114.69 1166.37,1109.98 1170.59,1105.26 1174.82,1100.53 1179.04,1095.8 1183.26,1091.06 1187.48,1086.32 1191.7,1081.58 1195.92,1076.83 1200.15,1072.08 1204.37,1067.32 1208.59,1062.56 1212.81,1057.8 1217.03,1053.04 1221.25,1048.27 1225.47,1043.5 1229.7,1038.73 1233.92,1033.96 1238.14,1029.19 1242.36,1024.42 1246.58,1019.64 1250.8,1014.87 1255.03,1010.09 1259.25,1005.31 1263.47,1000.54 1267.69,995.763 1271.91,990.988 1276.13,986.214 1280.35,981.441 1284.58,976.669 1288.8,971.898 1293.02,967.129 1297.24,962.362 1301.46,957.597 1305.68,952.834 1309.91,948.074 1314.13,943.316 1318.35,938.56 1322.57,933.808 1326.79,929.059 1331.01,924.313 1335.23,919.571 1339.46,914.832 1343.68,910.097 1347.9,905.367 1352.12,900.64 1356.34,895.918 1360.56,891.2 1364.79,886.486 1369.01,881.778 1373.23,877.074 1377.45,872.376 1381.67,867.683 1385.89,862.995 1390.12,858.313 1394.34,853.636 1398.56,848.965 1402.78,844.3 1407,839.641 1411.22,834.989 1415.44,830.343 1419.67,825.703 1423.89,821.069 1428.11,816.443 1432.33,811.823 1436.55,807.211 1440.77,802.605 1445,798.006 1449.22,793.415 1453.44,788.831 1457.66,784.255 1461.88,779.686 1466.1,775.126 1470.32,770.572 1474.55,766.027 1478.77,761.49 1482.99,756.961 1487.21,752.44 1491.43,747.928 1495.65,743.424 1499.88,738.928 1504.1,734.441 1508.32,729.963 1512.54,725.493 1516.76,721.033 1520.98,716.581 1525.2,712.138 1529.43,707.704 1533.65,703.28 1537.87,698.865 1542.09,694.459 1546.31,690.062 1550.53,685.675 1554.76,681.297 1558.98,676.929 1563.2,672.571 1567.42,668.222 1571.64,663.884 1575.86,659.555 1580.08,655.236 1584.31,650.927 1588.53,646.628 1592.75,642.339 1596.97,638.06 1601.19,633.791 1605.41,629.533 1609.64,625.285 1613.86,621.048 1618.08,616.82 1622.3,612.604 1626.52,608.397 1630.74,604.202 1634.97,600.017 1639.19,595.842 1643.41,591.678 1647.63,587.525 1651.85,583.383 1656.07,579.252 1660.29,575.131 1664.52,571.022 1668.74,566.923 1672.96,562.835 1677.18,558.758 1681.4,554.692 1685.62,550.638 1689.85,546.594 1694.07,542.561 1698.29,538.54 1702.51,534.53 1706.73,530.531 1710.95,526.543 1715.17,522.567 1719.4,518.601 1723.62,514.647 1727.84,510.705 1732.06,506.774 1736.28,502.854 1740.5,498.945 1744.73,495.048 1748.95,491.162 1753.17,487.288 1757.39,483.426 1761.61,479.574 1765.83,475.734 1770.05,471.906 1774.28,468.09 1778.5,464.284 1782.72,460.491 1786.94,456.709 1791.16,452.938 1795.38,449.179 1799.61,445.432 1803.83,441.696 1808.05,437.972 1812.27,434.26 1816.49,430.559 1820.71,426.87 1824.94,423.192 1829.16,419.526 1833.38,415.872 1837.6,412.229 1841.82,408.598 1846.04,404.979 1850.26,401.371 1854.49,397.775 1858.71,394.191 1862.93,390.618 1867.15,387.057 1871.37,383.508 1875.59,379.97 1879.82,376.444 1884.04,372.93 1888.26,369.427 1892.48,365.936 1896.7,362.457 1900.92,358.989 1905.14,355.533 1909.37,352.088 1913.59,348.655 1917.81,345.234 1922.03,341.825 1926.25,338.427 1930.47,335.04 1934.7,331.665 1938.92,328.302 1943.14,324.95 1947.36,321.61 1951.58,318.282 1955.8,314.965 1960.02,311.659 1964.25,308.365 1968.47,305.083 1972.69,301.812 1976.91,298.552 1981.13,295.304 1985.35,292.068 1989.58,288.842 1993.8,285.629 1998.02,282.427 2002.24,279.236 2006.46,276.056 2010.68,272.888 2014.9,269.731 2019.13,266.586 2023.35,263.452 2027.57,260.329 2031.79,257.218 2036.01,254.118 2040.23,251.029 2044.46,247.951 2048.68,244.885 2052.9,241.83 2057.12,238.786 2061.34,235.753 2065.56,232.731 2069.79,229.721 2074.01,226.721 2078.23,223.733 2082.45,220.756 2086.67,217.789 2090.89,214.834 2095.11,211.89 2099.34,208.957 2103.56,206.035 2107.78,203.124 2112,200.223 2116.22,197.334 2120.44,194.456 2124.67,191.588 2128.89,188.731 2133.11,185.885 2137.33,183.05 2141.55,180.226 2145.77,177.412 2149.99,174.609 2154.22,171.817 2158.44,169.036 2162.66,166.265 2166.88,163.505 2171.1,160.755 2175.32,158.016 2179.55,155.288 2183.77,152.57 2187.99,149.863 2192.21,147.166 2196.43,144.48 2200.65,141.804 2204.87,139.138 2209.1,136.483 2213.32,133.838 2217.54,131.204 2221.76,128.58 2225.98,125.966 2230.2,123.362 2234.43,120.769 2238.65,118.186 2242.87,115.613 2247.09,113.051 2251.31,110.498 2255.53,107.955 2259.76,105.423 2263.98,102.901 2268.2,100.388 2272.42,97.8861 2276.64,95.3937 2280.86,92.9113 2285.08,90.4389 2289.31,87.9763 \"/>\n",
              "<path clip-path=\"url(#clip940)\" d=\"M185.588 198.898 L462.208 198.898 L462.208 95.2176 L185.588 95.2176  Z\" fill=\"#ffffff\" fill-rule=\"evenodd\" fill-opacity=\"1\"/>\n",
              "<polyline clip-path=\"url(#clip940)\" style=\"stroke:#000000; stroke-linecap:round; stroke-linejoin:round; stroke-width:4; stroke-opacity:1; fill:none\" points=\"185.588,198.898 462.208,198.898 462.208,95.2176 185.588,95.2176 185.588,198.898 \"/>\n",
              "<polyline clip-path=\"url(#clip940)\" style=\"stroke:#009af9; stroke-linecap:round; stroke-linejoin:round; stroke-width:4; stroke-opacity:1; fill:none\" points=\"210.498,147.058 359.958,147.058 \"/>\n",
              "<path clip-path=\"url(#clip940)\" d=\"M398.71 166.745 Q396.904 171.375 395.192 172.787 Q393.479 174.199 390.608 174.199 L387.205 174.199 L387.205 170.634 L389.705 170.634 Q391.465 170.634 392.437 169.8 Q393.409 168.967 394.59 165.865 L395.354 163.921 L384.868 138.412 L389.381 138.412 L397.483 158.689 L405.585 138.412 L410.099 138.412 L398.71 166.745 Z\" fill=\"#000000\" fill-rule=\"nonzero\" fill-opacity=\"1\" /><path clip-path=\"url(#clip940)\" d=\"M417.39 160.402 L425.029 160.402 L425.029 134.037 L416.719 135.703 L416.719 131.444 L424.983 129.778 L429.659 129.778 L429.659 160.402 L437.298 160.402 L437.298 164.338 L417.39 164.338 L417.39 160.402 Z\" fill=\"#000000\" fill-rule=\"nonzero\" fill-opacity=\"1\" /></svg>\n"
            ],
            "text/html": [
              "<?xml version=\"1.0\" encoding=\"utf-8\"?>\n",
              "<svg xmlns=\"http://www.w3.org/2000/svg\" xmlns:xlink=\"http://www.w3.org/1999/xlink\" width=\"600\" height=\"400\" viewBox=\"0 0 2400 1600\">\n",
              "<defs>\n",
              "  <clipPath id=\"clip990\">\n",
              "    <rect x=\"0\" y=\"0\" width=\"2400\" height=\"1600\"/>\n",
              "  </clipPath>\n",
              "</defs>\n",
              "<path clip-path=\"url(#clip990)\" d=\"M0 1600 L2400 1600 L2400 0 L0 0  Z\" fill=\"#ffffff\" fill-rule=\"evenodd\" fill-opacity=\"1\"/>\n",
              "<defs>\n",
              "  <clipPath id=\"clip991\">\n",
              "    <rect x=\"480\" y=\"0\" width=\"1681\" height=\"1600\"/>\n",
              "  </clipPath>\n",
              "</defs>\n",
              "<path clip-path=\"url(#clip990)\" d=\"M110.858 1486.45 L2352.76 1486.45 L2352.76 47.2441 L110.858 47.2441  Z\" fill=\"#ffffff\" fill-rule=\"evenodd\" fill-opacity=\"1\"/>\n",
              "<defs>\n",
              "  <clipPath id=\"clip992\">\n",
              "    <rect x=\"110\" y=\"47\" width=\"2243\" height=\"1440\"/>\n",
              "  </clipPath>\n",
              "</defs>\n",
              "<polyline clip-path=\"url(#clip992)\" style=\"stroke:#000000; stroke-linecap:round; stroke-linejoin:round; stroke-width:2; stroke-opacity:0.1; fill:none\" points=\"170.086,1486.45 170.086,47.2441 \"/>\n",
              "<polyline clip-path=\"url(#clip992)\" style=\"stroke:#000000; stroke-linecap:round; stroke-linejoin:round; stroke-width:2; stroke-opacity:0.1; fill:none\" points=\"592.241,1486.45 592.241,47.2441 \"/>\n",
              "<polyline clip-path=\"url(#clip992)\" style=\"stroke:#000000; stroke-linecap:round; stroke-linejoin:round; stroke-width:2; stroke-opacity:0.1; fill:none\" points=\"1014.4,1486.45 1014.4,47.2441 \"/>\n",
              "<polyline clip-path=\"url(#clip992)\" style=\"stroke:#000000; stroke-linecap:round; stroke-linejoin:round; stroke-width:2; stroke-opacity:0.1; fill:none\" points=\"1436.55,1486.45 1436.55,47.2441 \"/>\n",
              "<polyline clip-path=\"url(#clip992)\" style=\"stroke:#000000; stroke-linecap:round; stroke-linejoin:round; stroke-width:2; stroke-opacity:0.1; fill:none\" points=\"1858.71,1486.45 1858.71,47.2441 \"/>\n",
              "<polyline clip-path=\"url(#clip992)\" style=\"stroke:#000000; stroke-linecap:round; stroke-linejoin:round; stroke-width:2; stroke-opacity:0.1; fill:none\" points=\"2280.86,1486.45 2280.86,47.2441 \"/>\n",
              "<polyline clip-path=\"url(#clip990)\" style=\"stroke:#000000; stroke-linecap:round; stroke-linejoin:round; stroke-width:4; stroke-opacity:1; fill:none\" points=\"110.858,1486.45 2352.76,1486.45 \"/>\n",
              "<polyline clip-path=\"url(#clip990)\" style=\"stroke:#000000; stroke-linecap:round; stroke-linejoin:round; stroke-width:4; stroke-opacity:1; fill:none\" points=\"170.086,1486.45 170.086,1467.55 \"/>\n",
              "<polyline clip-path=\"url(#clip990)\" style=\"stroke:#000000; stroke-linecap:round; stroke-linejoin:round; stroke-width:4; stroke-opacity:1; fill:none\" points=\"592.241,1486.45 592.241,1467.55 \"/>\n",
              "<polyline clip-path=\"url(#clip990)\" style=\"stroke:#000000; stroke-linecap:round; stroke-linejoin:round; stroke-width:4; stroke-opacity:1; fill:none\" points=\"1014.4,1486.45 1014.4,1467.55 \"/>\n",
              "<polyline clip-path=\"url(#clip990)\" style=\"stroke:#000000; stroke-linecap:round; stroke-linejoin:round; stroke-width:4; stroke-opacity:1; fill:none\" points=\"1436.55,1486.45 1436.55,1467.55 \"/>\n",
              "<polyline clip-path=\"url(#clip990)\" style=\"stroke:#000000; stroke-linecap:round; stroke-linejoin:round; stroke-width:4; stroke-opacity:1; fill:none\" points=\"1858.71,1486.45 1858.71,1467.55 \"/>\n",
              "<polyline clip-path=\"url(#clip990)\" style=\"stroke:#000000; stroke-linecap:round; stroke-linejoin:round; stroke-width:4; stroke-opacity:1; fill:none\" points=\"2280.86,1486.45 2280.86,1467.55 \"/>\n",
              "<path clip-path=\"url(#clip990)\" d=\"M170.086 1517.37 Q166.475 1517.37 164.646 1520.93 Q162.841 1524.47 162.841 1531.6 Q162.841 1538.71 164.646 1542.27 Q166.475 1545.82 170.086 1545.82 Q173.72 1545.82 175.526 1542.27 Q177.355 1538.71 177.355 1531.6 Q177.355 1524.47 175.526 1520.93 Q173.72 1517.37 170.086 1517.37 M170.086 1513.66 Q175.896 1513.66 178.952 1518.27 Q182.031 1522.85 182.031 1531.6 Q182.031 1540.33 178.952 1544.94 Q175.896 1549.52 170.086 1549.52 Q164.276 1549.52 161.197 1544.94 Q158.142 1540.33 158.142 1531.6 Q158.142 1522.85 161.197 1518.27 Q164.276 1513.66 170.086 1513.66 Z\" fill=\"#000000\" fill-rule=\"nonzero\" fill-opacity=\"1\" /><path clip-path=\"url(#clip990)\" d=\"M551.848 1544.91 L559.487 1544.91 L559.487 1518.55 L551.177 1520.21 L551.177 1515.95 L559.441 1514.29 L564.117 1514.29 L564.117 1544.91 L571.755 1544.91 L571.755 1548.85 L551.848 1548.85 L551.848 1544.91 Z\" fill=\"#000000\" fill-rule=\"nonzero\" fill-opacity=\"1\" /><path clip-path=\"url(#clip990)\" d=\"M591.2 1517.37 Q587.589 1517.37 585.76 1520.93 Q583.954 1524.47 583.954 1531.6 Q583.954 1538.71 585.76 1542.27 Q587.589 1545.82 591.2 1545.82 Q594.834 1545.82 596.64 1542.27 Q598.468 1538.71 598.468 1531.6 Q598.468 1524.47 596.64 1520.93 Q594.834 1517.37 591.2 1517.37 M591.2 1513.66 Q597.01 1513.66 600.066 1518.27 Q603.144 1522.85 603.144 1531.6 Q603.144 1540.33 600.066 1544.94 Q597.01 1549.52 591.2 1549.52 Q585.39 1549.52 582.311 1544.94 Q579.255 1540.33 579.255 1531.6 Q579.255 1522.85 582.311 1518.27 Q585.39 1513.66 591.2 1513.66 Z\" fill=\"#000000\" fill-rule=\"nonzero\" fill-opacity=\"1\" /><path clip-path=\"url(#clip990)\" d=\"M621.362 1517.37 Q617.751 1517.37 615.922 1520.93 Q614.116 1524.47 614.116 1531.6 Q614.116 1538.71 615.922 1542.27 Q617.751 1545.82 621.362 1545.82 Q624.996 1545.82 626.801 1542.27 Q628.63 1538.71 628.63 1531.6 Q628.63 1524.47 626.801 1520.93 Q624.996 1517.37 621.362 1517.37 M621.362 1513.66 Q627.172 1513.66 630.227 1518.27 Q633.306 1522.85 633.306 1531.6 Q633.306 1540.33 630.227 1544.94 Q627.172 1549.52 621.362 1549.52 Q615.552 1549.52 612.473 1544.94 Q609.417 1540.33 609.417 1531.6 Q609.417 1522.85 612.473 1518.27 Q615.552 1513.66 621.362 1513.66 Z\" fill=\"#000000\" fill-rule=\"nonzero\" fill-opacity=\"1\" /><path clip-path=\"url(#clip990)\" d=\"M978.089 1544.91 L994.409 1544.91 L994.409 1548.85 L972.464 1548.85 L972.464 1544.91 Q975.126 1542.16 979.71 1537.53 Q984.316 1532.88 985.497 1531.53 Q987.742 1529.01 988.621 1527.27 Q989.524 1525.51 989.524 1523.82 Q989.524 1521.07 987.58 1519.33 Q985.659 1517.6 982.557 1517.6 Q980.358 1517.6 977.904 1518.36 Q975.473 1519.13 972.696 1520.68 L972.696 1515.95 Q975.52 1514.82 977.973 1514.24 Q980.427 1513.66 982.464 1513.66 Q987.834 1513.66 991.029 1516.35 Q994.223 1519.03 994.223 1523.52 Q994.223 1525.65 993.413 1527.57 Q992.626 1529.47 990.52 1532.07 Q989.941 1532.74 986.839 1535.95 Q983.737 1539.15 978.089 1544.91 Z\" fill=\"#000000\" fill-rule=\"nonzero\" fill-opacity=\"1\" /><path clip-path=\"url(#clip990)\" d=\"M1014.22 1517.37 Q1010.61 1517.37 1008.78 1520.93 Q1006.98 1524.47 1006.98 1531.6 Q1006.98 1538.71 1008.78 1542.27 Q1010.61 1545.82 1014.22 1545.82 Q1017.86 1545.82 1019.66 1542.27 Q1021.49 1538.71 1021.49 1531.6 Q1021.49 1524.47 1019.66 1520.93 Q1017.86 1517.37 1014.22 1517.37 M1014.22 1513.66 Q1020.03 1513.66 1023.09 1518.27 Q1026.17 1522.85 1026.17 1531.6 Q1026.17 1540.33 1023.09 1544.94 Q1020.03 1549.52 1014.22 1549.52 Q1008.41 1549.52 1005.33 1544.94 Q1002.28 1540.33 1002.28 1531.6 Q1002.28 1522.85 1005.33 1518.27 Q1008.41 1513.66 1014.22 1513.66 Z\" fill=\"#000000\" fill-rule=\"nonzero\" fill-opacity=\"1\" /><path clip-path=\"url(#clip990)\" d=\"M1044.39 1517.37 Q1040.77 1517.37 1038.95 1520.93 Q1037.14 1524.47 1037.14 1531.6 Q1037.14 1538.71 1038.95 1542.27 Q1040.77 1545.82 1044.39 1545.82 Q1048.02 1545.82 1049.82 1542.27 Q1051.65 1538.71 1051.65 1531.6 Q1051.65 1524.47 1049.82 1520.93 Q1048.02 1517.37 1044.39 1517.37 M1044.39 1513.66 Q1050.2 1513.66 1053.25 1518.27 Q1056.33 1522.85 1056.33 1531.6 Q1056.33 1540.33 1053.25 1544.94 Q1050.2 1549.52 1044.39 1549.52 Q1038.57 1549.52 1035.5 1544.94 Q1032.44 1540.33 1032.44 1531.6 Q1032.44 1522.85 1035.5 1518.27 Q1038.57 1513.66 1044.39 1513.66 Z\" fill=\"#000000\" fill-rule=\"nonzero\" fill-opacity=\"1\" /><path clip-path=\"url(#clip990)\" d=\"M1410.31 1530.21 Q1413.67 1530.93 1415.55 1533.2 Q1417.44 1535.47 1417.44 1538.8 Q1417.44 1543.92 1413.92 1546.72 Q1410.41 1549.52 1403.93 1549.52 Q1401.75 1549.52 1399.43 1549.08 Q1397.14 1548.66 1394.69 1547.81 L1394.69 1543.29 Q1396.63 1544.43 1398.95 1545.01 Q1401.26 1545.58 1403.79 1545.58 Q1408.18 1545.58 1410.48 1543.85 Q1412.79 1542.11 1412.79 1538.8 Q1412.79 1535.75 1410.64 1534.03 Q1408.51 1532.3 1404.69 1532.3 L1400.66 1532.3 L1400.66 1528.45 L1404.87 1528.45 Q1408.32 1528.45 1410.15 1527.09 Q1411.98 1525.7 1411.98 1523.11 Q1411.98 1520.45 1410.08 1519.03 Q1408.21 1517.6 1404.69 1517.6 Q1402.77 1517.6 1400.57 1518.01 Q1398.37 1518.43 1395.73 1519.31 L1395.73 1515.14 Q1398.39 1514.4 1400.71 1514.03 Q1403.05 1513.66 1405.11 1513.66 Q1410.43 1513.66 1413.53 1516.09 Q1416.63 1518.5 1416.63 1522.62 Q1416.63 1525.49 1414.99 1527.48 Q1413.35 1529.45 1410.31 1530.21 Z\" fill=\"#000000\" fill-rule=\"nonzero\" fill-opacity=\"1\" /><path clip-path=\"url(#clip990)\" d=\"M1436.31 1517.37 Q1432.7 1517.37 1430.87 1520.93 Q1429.06 1524.47 1429.06 1531.6 Q1429.06 1538.71 1430.87 1542.27 Q1432.7 1545.82 1436.31 1545.82 Q1439.94 1545.82 1441.75 1542.27 Q1443.58 1538.71 1443.58 1531.6 Q1443.58 1524.47 1441.75 1520.93 Q1439.94 1517.37 1436.31 1517.37 M1436.31 1513.66 Q1442.12 1513.66 1445.17 1518.27 Q1448.25 1522.85 1448.25 1531.6 Q1448.25 1540.33 1445.17 1544.94 Q1442.12 1549.52 1436.31 1549.52 Q1430.5 1549.52 1427.42 1544.94 Q1424.36 1540.33 1424.36 1531.6 Q1424.36 1522.85 1427.42 1518.27 Q1430.5 1513.66 1436.31 1513.66 Z\" fill=\"#000000\" fill-rule=\"nonzero\" fill-opacity=\"1\" /><path clip-path=\"url(#clip990)\" d=\"M1466.47 1517.37 Q1462.86 1517.37 1461.03 1520.93 Q1459.23 1524.47 1459.23 1531.6 Q1459.23 1538.71 1461.03 1542.27 Q1462.86 1545.82 1466.47 1545.82 Q1470.11 1545.82 1471.91 1542.27 Q1473.74 1538.71 1473.74 1531.6 Q1473.74 1524.47 1471.91 1520.93 Q1470.11 1517.37 1466.47 1517.37 M1466.47 1513.66 Q1472.28 1513.66 1475.34 1518.27 Q1478.42 1522.85 1478.42 1531.6 Q1478.42 1540.33 1475.34 1544.94 Q1472.28 1549.52 1466.47 1549.52 Q1460.66 1549.52 1457.58 1544.94 Q1454.53 1540.33 1454.53 1531.6 Q1454.53 1522.85 1457.58 1518.27 Q1460.66 1513.66 1466.47 1513.66 Z\" fill=\"#000000\" fill-rule=\"nonzero\" fill-opacity=\"1\" /><path clip-path=\"url(#clip990)\" d=\"M1831.8 1518.36 L1819.99 1536.81 L1831.8 1536.81 L1831.8 1518.36 M1830.57 1514.29 L1836.45 1514.29 L1836.45 1536.81 L1841.38 1536.81 L1841.38 1540.7 L1836.45 1540.7 L1836.45 1548.85 L1831.8 1548.85 L1831.8 1540.7 L1816.2 1540.7 L1816.2 1536.19 L1830.57 1514.29 Z\" fill=\"#000000\" fill-rule=\"nonzero\" fill-opacity=\"1\" /><path clip-path=\"url(#clip990)\" d=\"M1859.11 1517.37 Q1855.5 1517.37 1853.67 1520.93 Q1851.87 1524.47 1851.87 1531.6 Q1851.87 1538.71 1853.67 1542.27 Q1855.5 1545.82 1859.11 1545.82 Q1862.75 1545.82 1864.55 1542.27 Q1866.38 1538.71 1866.38 1531.6 Q1866.38 1524.47 1864.55 1520.93 Q1862.75 1517.37 1859.11 1517.37 M1859.11 1513.66 Q1864.92 1513.66 1867.98 1518.27 Q1871.06 1522.85 1871.06 1531.6 Q1871.06 1540.33 1867.98 1544.94 Q1864.92 1549.52 1859.11 1549.52 Q1853.3 1549.52 1850.22 1544.94 Q1847.17 1540.33 1847.17 1531.6 Q1847.17 1522.85 1850.22 1518.27 Q1853.3 1513.66 1859.11 1513.66 Z\" fill=\"#000000\" fill-rule=\"nonzero\" fill-opacity=\"1\" /><path clip-path=\"url(#clip990)\" d=\"M1889.27 1517.37 Q1885.66 1517.37 1883.83 1520.93 Q1882.03 1524.47 1882.03 1531.6 Q1882.03 1538.71 1883.83 1542.27 Q1885.66 1545.82 1889.27 1545.82 Q1892.91 1545.82 1894.71 1542.27 Q1896.54 1538.71 1896.54 1531.6 Q1896.54 1524.47 1894.71 1520.93 Q1892.91 1517.37 1889.27 1517.37 M1889.27 1513.66 Q1895.08 1513.66 1898.14 1518.27 Q1901.22 1522.85 1901.22 1531.6 Q1901.22 1540.33 1898.14 1544.94 Q1895.08 1549.52 1889.27 1549.52 Q1883.46 1549.52 1880.39 1544.94 Q1877.33 1540.33 1877.33 1531.6 Q1877.33 1522.85 1880.39 1518.27 Q1883.46 1513.66 1889.27 1513.66 Z\" fill=\"#000000\" fill-rule=\"nonzero\" fill-opacity=\"1\" /><path clip-path=\"url(#clip990)\" d=\"M2240.48 1514.29 L2258.84 1514.29 L2258.84 1518.22 L2244.76 1518.22 L2244.76 1526.7 Q2245.78 1526.35 2246.8 1526.19 Q2247.82 1526 2248.84 1526 Q2254.62 1526 2258 1529.17 Q2261.38 1532.34 2261.38 1537.76 Q2261.38 1543.34 2257.91 1546.44 Q2254.44 1549.52 2248.12 1549.52 Q2245.94 1549.52 2243.68 1549.15 Q2241.43 1548.78 2239.02 1548.04 L2239.02 1543.34 Q2241.11 1544.47 2243.33 1545.03 Q2245.55 1545.58 2248.03 1545.58 Q2252.03 1545.58 2254.37 1543.48 Q2256.71 1541.37 2256.71 1537.76 Q2256.71 1534.15 2254.37 1532.04 Q2252.03 1529.94 2248.03 1529.94 Q2246.15 1529.94 2244.28 1530.35 Q2242.43 1530.77 2240.48 1531.65 L2240.48 1514.29 Z\" fill=\"#000000\" fill-rule=\"nonzero\" fill-opacity=\"1\" /><path clip-path=\"url(#clip990)\" d=\"M2280.6 1517.37 Q2276.99 1517.37 2275.16 1520.93 Q2273.35 1524.47 2273.35 1531.6 Q2273.35 1538.71 2275.16 1542.27 Q2276.99 1545.82 2280.6 1545.82 Q2284.23 1545.82 2286.04 1542.27 Q2287.87 1538.71 2287.87 1531.6 Q2287.87 1524.47 2286.04 1520.93 Q2284.23 1517.37 2280.6 1517.37 M2280.6 1513.66 Q2286.41 1513.66 2289.46 1518.27 Q2292.54 1522.85 2292.54 1531.6 Q2292.54 1540.33 2289.46 1544.94 Q2286.41 1549.52 2280.6 1549.52 Q2274.79 1549.52 2271.71 1544.94 Q2268.65 1540.33 2268.65 1531.6 Q2268.65 1522.85 2271.71 1518.27 Q2274.79 1513.66 2280.6 1513.66 Z\" fill=\"#000000\" fill-rule=\"nonzero\" fill-opacity=\"1\" /><path clip-path=\"url(#clip990)\" d=\"M2310.76 1517.37 Q2307.15 1517.37 2305.32 1520.93 Q2303.51 1524.47 2303.51 1531.6 Q2303.51 1538.71 2305.32 1542.27 Q2307.15 1545.82 2310.76 1545.82 Q2314.39 1545.82 2316.2 1542.27 Q2318.03 1538.71 2318.03 1531.6 Q2318.03 1524.47 2316.2 1520.93 Q2314.39 1517.37 2310.76 1517.37 M2310.76 1513.66 Q2316.57 1513.66 2319.62 1518.27 Q2322.7 1522.85 2322.7 1531.6 Q2322.7 1540.33 2319.62 1544.94 Q2316.57 1549.52 2310.76 1549.52 Q2304.95 1549.52 2301.87 1544.94 Q2298.81 1540.33 2298.81 1531.6 Q2298.81 1522.85 2301.87 1518.27 Q2304.95 1513.66 2310.76 1513.66 Z\" fill=\"#000000\" fill-rule=\"nonzero\" fill-opacity=\"1\" /><polyline clip-path=\"url(#clip992)\" style=\"stroke:#000000; stroke-linecap:round; stroke-linejoin:round; stroke-width:2; stroke-opacity:0.1; fill:none\" points=\"110.858,1199.31 2352.76,1199.31 \"/>\n",
              "<polyline clip-path=\"url(#clip992)\" style=\"stroke:#000000; stroke-linecap:round; stroke-linejoin:round; stroke-width:2; stroke-opacity:0.1; fill:none\" points=\"110.858,866.471 2352.76,866.471 \"/>\n",
              "<polyline clip-path=\"url(#clip992)\" style=\"stroke:#000000; stroke-linecap:round; stroke-linejoin:round; stroke-width:2; stroke-opacity:0.1; fill:none\" points=\"110.858,533.632 2352.76,533.632 \"/>\n",
              "<polyline clip-path=\"url(#clip992)\" style=\"stroke:#000000; stroke-linecap:round; stroke-linejoin:round; stroke-width:2; stroke-opacity:0.1; fill:none\" points=\"110.858,200.793 2352.76,200.793 \"/>\n",
              "<polyline clip-path=\"url(#clip990)\" style=\"stroke:#000000; stroke-linecap:round; stroke-linejoin:round; stroke-width:4; stroke-opacity:1; fill:none\" points=\"110.858,1486.45 110.858,47.2441 \"/>\n",
              "<polyline clip-path=\"url(#clip990)\" style=\"stroke:#000000; stroke-linecap:round; stroke-linejoin:round; stroke-width:4; stroke-opacity:1; fill:none\" points=\"110.858,1199.31 129.755,1199.31 \"/>\n",
              "<polyline clip-path=\"url(#clip990)\" style=\"stroke:#000000; stroke-linecap:round; stroke-linejoin:round; stroke-width:4; stroke-opacity:1; fill:none\" points=\"110.858,866.471 129.755,866.471 \"/>\n",
              "<polyline clip-path=\"url(#clip990)\" style=\"stroke:#000000; stroke-linecap:round; stroke-linejoin:round; stroke-width:4; stroke-opacity:1; fill:none\" points=\"110.858,533.632 129.755,533.632 \"/>\n",
              "<polyline clip-path=\"url(#clip990)\" style=\"stroke:#000000; stroke-linecap:round; stroke-linejoin:round; stroke-width:4; stroke-opacity:1; fill:none\" points=\"110.858,200.793 129.755,200.793 \"/>\n",
              "<path clip-path=\"url(#clip990)\" d=\"M53.9551 1182.03 L72.3115 1182.03 L72.3115 1185.96 L58.2375 1185.96 L58.2375 1194.44 Q59.256 1194.09 60.2745 1193.93 Q61.293 1193.74 62.3115 1193.74 Q68.0985 1193.74 71.4781 1196.91 Q74.8577 1200.08 74.8577 1205.5 Q74.8577 1211.08 71.3855 1214.18 Q67.9133 1217.26 61.5939 1217.26 Q59.418 1217.26 57.1495 1216.89 Q54.9041 1216.52 52.4967 1215.78 L52.4967 1211.08 Q54.5801 1212.21 56.8023 1212.77 Q59.0245 1213.33 61.5013 1213.33 Q65.5059 1213.33 67.8439 1211.22 Q70.1818 1209.11 70.1818 1205.5 Q70.1818 1201.89 67.8439 1199.78 Q65.5059 1197.68 61.5013 1197.68 Q59.6263 1197.68 57.7513 1198.09 Q55.8995 1198.51 53.9551 1199.39 L53.9551 1182.03 Z\" fill=\"#000000\" fill-rule=\"nonzero\" fill-opacity=\"1\" /><path clip-path=\"url(#clip990)\" d=\"M63.33 864.607 Q60.1819 864.607 58.33 866.76 Q56.5014 868.913 56.5014 872.663 Q56.5014 876.39 58.33 878.565 Q60.1819 880.718 63.33 880.718 Q66.4782 880.718 68.3068 878.565 Q70.1587 876.39 70.1587 872.663 Q70.1587 868.913 68.3068 866.76 Q66.4782 864.607 63.33 864.607 M72.6124 849.954 L72.6124 854.214 Q70.8531 853.38 69.0476 852.941 Q67.2652 852.501 65.5059 852.501 Q60.8763 852.501 58.4226 855.626 Q55.9921 858.751 55.6449 865.07 Q57.0106 863.056 59.0708 861.991 Q61.131 860.903 63.6078 860.903 Q68.8161 860.903 71.8253 864.075 Q74.8577 867.223 74.8577 872.663 Q74.8577 877.987 71.7096 881.204 Q68.5615 884.422 63.33 884.422 Q57.3347 884.422 54.1634 879.839 Q50.9921 875.232 50.9921 866.505 Q50.9921 858.311 54.881 853.45 Q58.7699 848.566 65.3208 848.566 Q67.08 848.566 68.8624 848.913 Q70.6679 849.26 72.6124 849.954 Z\" fill=\"#000000\" fill-rule=\"nonzero\" fill-opacity=\"1\" /><path clip-path=\"url(#clip990)\" d=\"M52.6356 516.352 L74.8577 516.352 L74.8577 518.343 L62.3115 550.912 L57.4273 550.912 L69.2328 520.287 L52.6356 520.287 L52.6356 516.352 Z\" fill=\"#000000\" fill-rule=\"nonzero\" fill-opacity=\"1\" /><path clip-path=\"url(#clip990)\" d=\"M63.006 201.661 Q59.6726 201.661 57.7513 203.444 Q55.8532 205.226 55.8532 208.351 Q55.8532 211.476 57.7513 213.259 Q59.6726 215.041 63.006 215.041 Q66.3393 215.041 68.2606 213.259 Q70.1818 211.453 70.1818 208.351 Q70.1818 205.226 68.2606 203.444 Q66.3624 201.661 63.006 201.661 M58.33 199.671 Q55.3208 198.93 53.631 196.87 Q51.9643 194.81 51.9643 191.847 Q51.9643 187.703 54.9041 185.296 Q57.8671 182.888 63.006 182.888 Q68.168 182.888 71.1078 185.296 Q74.0476 187.703 74.0476 191.847 Q74.0476 194.81 72.3578 196.87 Q70.6911 198.93 67.705 199.671 Q71.0846 200.458 72.9596 202.749 Q74.8577 205.041 74.8577 208.351 Q74.8577 213.374 71.7791 216.06 Q68.7235 218.745 63.006 218.745 Q57.2884 218.745 54.2097 216.06 Q51.1542 213.374 51.1542 208.351 Q51.1542 205.041 53.0523 202.749 Q54.9504 200.458 58.33 199.671 M56.6171 192.287 Q56.6171 194.972 58.2838 196.476 Q59.9736 197.981 63.006 197.981 Q66.0152 197.981 67.705 196.476 Q69.418 194.972 69.418 192.287 Q69.418 189.601 67.705 188.097 Q66.0152 186.592 63.006 186.592 Q59.9736 186.592 58.2838 188.097 Q56.6171 189.601 56.6171 192.287 Z\" fill=\"#000000\" fill-rule=\"nonzero\" fill-opacity=\"1\" /><polyline clip-path=\"url(#clip992)\" style=\"stroke:#009af9; stroke-linecap:round; stroke-linejoin:round; stroke-width:4; stroke-opacity:1; fill:none\" points=\"174.308,443.766 178.529,463.64 182.751,483.187 186.972,502.411 191.194,521.314 195.415,539.901 199.637,558.175 203.859,576.141 208.08,593.8 212.302,611.158 216.523,628.218 220.745,644.982 224.966,661.455 229.188,677.639 233.409,693.539 237.631,709.158 241.853,724.498 246.074,739.563 250.296,754.357 254.517,768.882 258.739,783.142 262.96,797.139 267.182,810.878 271.403,824.36 275.625,837.589 279.847,850.568 284.068,863.301 288.29,875.789 292.511,888.036 296.733,900.044 300.954,911.817 305.176,923.357 309.397,934.668 313.619,945.751 317.841,956.61 322.062,967.247 326.284,977.665 330.505,987.866 334.727,997.854 338.948,1007.63 343.17,1017.2 347.391,1026.56 351.613,1035.72 355.834,1044.68 360.056,1053.43 364.278,1062 368.499,1070.37 372.721,1078.54 376.942,1086.53 381.164,1094.33 385.385,1101.95 389.607,1109.38 393.828,1116.64 398.05,1123.72 402.272,1130.62 406.493,1137.35 410.715,1143.9 414.936,1150.29 419.158,1156.51 423.379,1162.57 427.601,1168.46 431.822,1174.2 436.044,1179.77 440.266,1185.19 444.487,1190.45 448.709,1195.56 452.93,1200.53 457.152,1205.34 461.373,1210 465.595,1214.52 469.816,1218.9 474.038,1223.13 478.26,1227.23 482.481,1231.19 486.703,1235.01 490.924,1238.7 495.146,1242.25 499.367,1245.68 503.589,1248.98 507.81,1252.14 512.032,1255.19 516.254,1258.11 520.475,1260.91 524.697,1263.58 528.918,1266.14 533.14,1268.58 537.361,1270.9 541.583,1273.11 545.804,1275.21 550.026,1277.2 554.247,1279.07 558.469,1280.84 562.691,1282.5 566.912,1284.06 571.134,1285.51 575.355,1286.86 579.577,1288.11 583.798,1289.26 588.02,1290.31 592.241,1291.26 596.463,1292.12 600.685,1292.88 604.906,1293.55 609.128,1294.13 613.349,1294.62 617.571,1295.01 621.792,1295.33 626.014,1295.55 630.235,1295.69 634.457,1295.74 638.679,1295.71 642.9,1295.6 647.122,1295.41 651.343,1295.14 655.565,1294.79 659.786,1294.37 664.008,1293.87 668.229,1293.29 672.451,1292.64 676.673,1291.92 680.894,1291.12 685.116,1290.26 689.337,1289.32 693.559,1288.32 697.78,1287.25 702.002,1286.11 706.223,1284.9 710.445,1283.64 714.667,1282.31 718.888,1280.91 723.11,1279.46 727.331,1277.94 731.553,1276.37 735.774,1274.73 739.996,1273.04 744.217,1271.29 748.439,1269.49 752.661,1267.63 756.882,1265.71 761.104,1263.75 765.325,1261.73 769.547,1259.65 773.768,1257.53 777.99,1255.36 782.211,1253.14 786.433,1250.87 790.654,1248.55 794.876,1246.19 799.098,1243.77 803.319,1241.32 807.541,1238.82 811.762,1445.72 815.984,1443.05 820.205,1440.33 824.427,1437.55 828.648,1434.74 832.87,1431.87 837.092,1428.95 841.313,1425.99 845.535,1422.99 849.756,1419.93 853.978,1416.84 858.199,1413.7 862.421,1410.52 866.642,1407.3 870.864,1404.03 875.086,1400.73 879.307,1397.38 883.529,1394 887.75,1390.58 891.972,1387.12 896.193,1383.63 900.415,1380.1 904.636,1376.53 908.858,1372.93 913.08,1369.29 917.301,1365.63 921.523,1361.92 925.744,1358.19 929.966,1354.43 934.187,1350.63 938.409,1346.81 942.63,1342.95 946.852,1339.07 951.074,1335.16 955.295,1331.22 959.517,1327.25 963.738,1323.26 967.96,1319.24 972.181,1315.19 976.403,1311.12 980.624,1307.03 984.846,1302.91 989.067,1298.77 993.289,1294.6 997.511,1290.42 1001.73,1286.21 1005.95,1281.98 1010.18,1277.73 1014.4,1273.46 1018.62,1269.17 1022.84,1264.86 1027.06,1260.53 1031.28,1256.18 1035.5,1251.82 1039.73,1247.44 1043.95,1243.04 1048.17,1238.62 1052.39,1234.19 1056.61,1229.75 1060.83,1225.28 1065.06,1220.81 1069.28,1216.32 1073.5,1211.81 1077.72,1207.3 1081.94,1202.76 1086.16,1198.22 1090.38,1193.66 1094.61,1189.1 1098.83,1184.52 1103.05,1179.93 1107.27,1175.32 1111.49,1170.71 1115.71,1166.09 1119.94,1161.46 1124.16,1156.82 1128.38,1152.17 1132.6,1147.51 1136.82,1142.85 1141.04,1138.17 1145.26,1133.49 1149.49,1128.8 1153.71,1124.1 1157.93,1119.4 1162.15,1114.69 1166.37,1109.98 1170.59,1105.26 1174.82,1100.53 1179.04,1095.8 1183.26,1091.06 1187.48,1086.32 1191.7,1081.58 1195.92,1076.83 1200.15,1072.08 1204.37,1067.32 1208.59,1062.56 1212.81,1057.8 1217.03,1053.04 1221.25,1048.27 1225.47,1043.5 1229.7,1038.73 1233.92,1033.96 1238.14,1029.19 1242.36,1024.42 1246.58,1019.64 1250.8,1014.87 1255.03,1010.09 1259.25,1005.31 1263.47,1000.54 1267.69,995.763 1271.91,990.988 1276.13,986.214 1280.35,981.441 1284.58,976.669 1288.8,971.898 1293.02,967.129 1297.24,962.362 1301.46,957.597 1305.68,952.834 1309.91,948.074 1314.13,943.316 1318.35,938.56 1322.57,933.808 1326.79,929.059 1331.01,924.313 1335.23,919.571 1339.46,914.832 1343.68,910.097 1347.9,905.367 1352.12,900.64 1356.34,895.918 1360.56,891.2 1364.79,886.486 1369.01,881.778 1373.23,877.074 1377.45,872.376 1381.67,867.683 1385.89,862.995 1390.12,858.313 1394.34,853.636 1398.56,848.965 1402.78,844.3 1407,839.641 1411.22,834.989 1415.44,830.343 1419.67,825.703 1423.89,821.069 1428.11,816.443 1432.33,811.823 1436.55,807.211 1440.77,802.605 1445,798.006 1449.22,793.415 1453.44,788.831 1457.66,784.255 1461.88,779.686 1466.1,775.126 1470.32,770.572 1474.55,766.027 1478.77,761.49 1482.99,756.961 1487.21,752.44 1491.43,747.928 1495.65,743.424 1499.88,738.928 1504.1,734.441 1508.32,729.963 1512.54,725.493 1516.76,721.033 1520.98,716.581 1525.2,712.138 1529.43,707.704 1533.65,703.28 1537.87,698.865 1542.09,694.459 1546.31,690.062 1550.53,685.675 1554.76,681.297 1558.98,676.929 1563.2,672.571 1567.42,668.222 1571.64,663.884 1575.86,659.555 1580.08,655.236 1584.31,650.927 1588.53,646.628 1592.75,642.339 1596.97,638.06 1601.19,633.791 1605.41,629.533 1609.64,625.285 1613.86,621.048 1618.08,616.82 1622.3,612.604 1626.52,608.397 1630.74,604.202 1634.97,600.017 1639.19,595.842 1643.41,591.678 1647.63,587.525 1651.85,583.383 1656.07,579.252 1660.29,575.131 1664.52,571.022 1668.74,566.923 1672.96,562.835 1677.18,558.758 1681.4,554.692 1685.62,550.638 1689.85,546.594 1694.07,542.561 1698.29,538.54 1702.51,534.53 1706.73,530.531 1710.95,526.543 1715.17,522.567 1719.4,518.601 1723.62,514.647 1727.84,510.705 1732.06,506.774 1736.28,502.854 1740.5,498.945 1744.73,495.048 1748.95,491.162 1753.17,487.288 1757.39,483.426 1761.61,479.574 1765.83,475.734 1770.05,471.906 1774.28,468.09 1778.5,464.284 1782.72,460.491 1786.94,456.709 1791.16,452.938 1795.38,449.179 1799.61,445.432 1803.83,441.696 1808.05,437.972 1812.27,434.26 1816.49,430.559 1820.71,426.87 1824.94,423.192 1829.16,419.526 1833.38,415.872 1837.6,412.229 1841.82,408.598 1846.04,404.979 1850.26,401.371 1854.49,397.775 1858.71,394.191 1862.93,390.618 1867.15,387.057 1871.37,383.508 1875.59,379.97 1879.82,376.444 1884.04,372.93 1888.26,369.427 1892.48,365.936 1896.7,362.457 1900.92,358.989 1905.14,355.533 1909.37,352.088 1913.59,348.655 1917.81,345.234 1922.03,341.825 1926.25,338.427 1930.47,335.04 1934.7,331.665 1938.92,328.302 1943.14,324.95 1947.36,321.61 1951.58,318.282 1955.8,314.965 1960.02,311.659 1964.25,308.365 1968.47,305.083 1972.69,301.812 1976.91,298.552 1981.13,295.304 1985.35,292.068 1989.58,288.842 1993.8,285.629 1998.02,282.427 2002.24,279.236 2006.46,276.056 2010.68,272.888 2014.9,269.731 2019.13,266.586 2023.35,263.452 2027.57,260.329 2031.79,257.218 2036.01,254.118 2040.23,251.029 2044.46,247.951 2048.68,244.885 2052.9,241.83 2057.12,238.786 2061.34,235.753 2065.56,232.731 2069.79,229.721 2074.01,226.721 2078.23,223.733 2082.45,220.756 2086.67,217.789 2090.89,214.834 2095.11,211.89 2099.34,208.957 2103.56,206.035 2107.78,203.124 2112,200.223 2116.22,197.334 2120.44,194.456 2124.67,191.588 2128.89,188.731 2133.11,185.885 2137.33,183.05 2141.55,180.226 2145.77,177.412 2149.99,174.609 2154.22,171.817 2158.44,169.036 2162.66,166.265 2166.88,163.505 2171.1,160.755 2175.32,158.016 2179.55,155.288 2183.77,152.57 2187.99,149.863 2192.21,147.166 2196.43,144.48 2200.65,141.804 2204.87,139.138 2209.1,136.483 2213.32,133.838 2217.54,131.204 2221.76,128.58 2225.98,125.966 2230.2,123.362 2234.43,120.769 2238.65,118.186 2242.87,115.613 2247.09,113.051 2251.31,110.498 2255.53,107.955 2259.76,105.423 2263.98,102.901 2268.2,100.388 2272.42,97.8861 2276.64,95.3937 2280.86,92.9113 2285.08,90.4389 2289.31,87.9763 \"/>\n",
              "<path clip-path=\"url(#clip990)\" d=\"M185.588 198.898 L462.208 198.898 L462.208 95.2176 L185.588 95.2176  Z\" fill=\"#ffffff\" fill-rule=\"evenodd\" fill-opacity=\"1\"/>\n",
              "<polyline clip-path=\"url(#clip990)\" style=\"stroke:#000000; stroke-linecap:round; stroke-linejoin:round; stroke-width:4; stroke-opacity:1; fill:none\" points=\"185.588,198.898 462.208,198.898 462.208,95.2176 185.588,95.2176 185.588,198.898 \"/>\n",
              "<polyline clip-path=\"url(#clip990)\" style=\"stroke:#009af9; stroke-linecap:round; stroke-linejoin:round; stroke-width:4; stroke-opacity:1; fill:none\" points=\"210.498,147.058 359.958,147.058 \"/>\n",
              "<path clip-path=\"url(#clip990)\" d=\"M398.71 166.745 Q396.904 171.375 395.192 172.787 Q393.479 174.199 390.608 174.199 L387.205 174.199 L387.205 170.634 L389.705 170.634 Q391.465 170.634 392.437 169.8 Q393.409 168.967 394.59 165.865 L395.354 163.921 L384.868 138.412 L389.381 138.412 L397.483 158.689 L405.585 138.412 L410.099 138.412 L398.71 166.745 Z\" fill=\"#000000\" fill-rule=\"nonzero\" fill-opacity=\"1\" /><path clip-path=\"url(#clip990)\" d=\"M417.39 160.402 L425.029 160.402 L425.029 134.037 L416.719 135.703 L416.719 131.444 L424.983 129.778 L429.659 129.778 L429.659 160.402 L437.298 160.402 L437.298 164.338 L417.39 164.338 L417.39 160.402 Z\" fill=\"#000000\" fill-rule=\"nonzero\" fill-opacity=\"1\" /></svg>\n"
            ]
          },
          "metadata": {},
          "output_type": "display_data"
        }
      ],
      "source": [
        "# plot [DO] versus distance downstream\n",
        "# need to label this plot once I have it correct \n",
        "plot(C_combined)"
      ]
    },
    {
      "cell_type": "markdown",
      "id": "6d098b0d-5a16-4711-8926-d63cad06a894",
      "metadata": {},
      "source": [
        "### Problem 3 (3 points)\n",
        "\n",
        "Under the assumptions of Problem 1, determine the distance from waste\n",
        "stream 2 it will take for the dissolved oxygen concentration of the\n",
        "river to recover to 6 mg/L."
      ]
    },
    {
      "cell_type": "markdown",
      "id": "ad5cdcb4-dbf9-4d56-bf03-12c2c4ca2de4",
      "metadata": {},
      "source": [
        "### Problem 4 (5 points)\n",
        "\n",
        "What is the minimum level of treatment (% removal of organic waste) for\n",
        "waste stream 2 that will ensure that the dissolved oxygen concentration\n",
        "never drops below 4 mg/L, assuming that waste stream 1 remains\n",
        "untreated?"
      ]
    },
    {
      "cell_type": "markdown",
      "id": "75a4d521-4a8e-49bd-9ddd-e3a04e545145",
      "metadata": {},
      "source": [
        "### Problem 5 (5 points)\n",
        "\n",
        "If both waste streams are treated equally, what is the minimum level of\n",
        "treatment (% removal of organic waste) for the two sources required to\n",
        "ensure that the dissolved oxygen concentration never drops below 4 mg/L?"
      ]
    },
    {
      "cell_type": "markdown",
      "id": "a31a496a-35d5-42e2-be89-35bd93269b75",
      "metadata": {},
      "source": [
        "### Problem 6 (5 points)\n",
        "\n",
        "Suppose you are responsible for designing a waste treatment plan for\n",
        "discharges into the river, with a regulatory mandate to keep the\n",
        "dissolved oxygen concentration above 4 mg/L. Discuss whether you’d opt\n",
        "to treat waste stream 2 alone or both waste streams equally. What other\n",
        "information might you need to make a conclusion, if any?"
      ]
    },
    {
      "cell_type": "markdown",
      "id": "87aecc56-2578-4e19-8ccb-065895c5dd3f",
      "metadata": {},
      "source": [
        "### Problem 7 (5 points)\n",
        "\n",
        "Suppose that it is known that the DO concentrations at the river inflow\n",
        "can vary uniformly between 6 mg/L and 8 mg/L. How often will the\n",
        "treatment plan identified in Problem 5 (both waste streams treated\n",
        "equally) fail to comply with the regulatory standard?"
      ]
    },
    {
      "cell_type": "markdown",
      "id": "049f84b1-c21c-4539-83e8-ea8a441d18d1",
      "metadata": {},
      "source": [
        "### Problem 8 (5 points)\n",
        "\n",
        "A factory is planning a third wastewater discharge into the river\n",
        "downstream of the second plant. This discharge would consist of 5\n",
        "m<sup>3</sup>/day of wastewater with a dissolved oxygen content of 4.5\n",
        "mg/L and CBOD and NBOD levels of 50 and 45 mg/L, respectively.\n",
        "\n",
        "Assume that the treatment plan you identified in Problem 5 is still in\n",
        "place for the existing discharges. If the third discharge will not be\n",
        "treated, under the original inflow conditions (7.5 mg/L DO), how far\n",
        "downstream from the second discharge does this third discharge need to\n",
        "be placed to keep the river concentration from dropping below 4 mg/L?"
      ]
    },
    {
      "cell_type": "markdown",
      "id": "beaf7155-2b73-4559-a2d2-b41e2eb1e1de",
      "metadata": {},
      "source": [
        "## References\n",
        "\n",
        "List any external references consulted, including classmates."
      ]
    }
  ],
  "metadata": {
    "kernelspec": {
      "display_name": "Julia 1.9.2",
      "language": "julia",
      "name": "julia-1.9"
    },
    "language_info": {
      "file_extension": ".jl",
      "mimetype": "application/julia",
      "name": "julia",
      "version": "1.9.2"
    }
  },
  "nbformat": 4,
  "nbformat_minor": 5
}
