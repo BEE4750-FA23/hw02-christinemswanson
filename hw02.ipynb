{
  "cells": [
    {
      "cell_type": "markdown",
      "id": "099fcb9c-ef1f-471e-aa52-990f463fe3c5",
      "metadata": {},
      "source": [
        "# BEE 4750 Homework 2: Dissolved Oxygen\n",
        "\n",
        "**Name**: Christine Swanson\n",
        "\n",
        "**ID**: cms549\n",
        "\n",
        "> **Due Date**\n",
        ">\n",
        "> Wednesday, 09/27/23, 9:00pm\n",
        "\n",
        "## Overview\n",
        "\n",
        "### Instructions\n",
        "\n",
        "This assignment asks you to use a simulation model for dissolved oxygen\n",
        "to assess the impacts of two wastewater streams, including minimum\n",
        "treatment levels and the impact of uncertain environmental conditions.\n",
        "You will also be asked to identify a minimum distance for the addition\n",
        "of a third discharge stream.\n",
        "\n",
        "### Load Environment\n",
        "\n",
        "The following code loads the environment and makes sure all needed\n",
        "packages are installed. This should be at the start of most Julia\n",
        "scripts."
      ]
    },
    {
      "cell_type": "code",
      "execution_count": 492,
      "id": "395abf3d",
      "metadata": {},
      "outputs": [],
      "source": [
        "import Pkg\n",
        "Pkg.activate(@__DIR__)\n",
        "Pkg.instantiate()"
      ]
    },
    {
      "cell_type": "code",
      "execution_count": 493,
      "id": "26328b47",
      "metadata": {},
      "outputs": [],
      "source": [
        "using Plots\n",
        "using LaTeXStrings\n",
        "using Distributions\n",
        "using Statistics"
      ]
    },
    {
      "cell_type": "markdown",
      "id": "b14f7dd1-d84b-42e3-bfb5-5fe12e7ac523",
      "metadata": {},
      "source": [
        "## Problems (Total: 40 Points)\n",
        "\n",
        "A river which flows at 6 km/d is receiving waste discharges from two\n",
        "sources which are 15 km apart, as shown in\n",
        "<a href=\"#fig-river\" class=\"quarto-xref\">Figure 1</a>. The oxygen\n",
        "reaeration rate is 0.55 day<sup>-1</sup>, and the decay rates of CBOD\n",
        "and NBOD are are 0.35 and 0.25 day<sup>-1</sup>, respectively. The\n",
        "river’s saturated dissolved oxygen concentration is 10m g/L.\n",
        "\n",
        "![Figure 1: Schematic of the\n",
        "system](attachment:figures/river_diagram.png)"
      ]
    },
    {
      "cell_type": "markdown",
      "id": "8d9711cb-a201-4f24-8e47-91e8e4670a63",
      "metadata": {},
      "source": [
        "### Problem 1 (8 points)\n",
        "\n",
        "If the characteristics of the river inflow and waste discharges are\n",
        "given in <a href=\"#tbl-river\" class=\"quarto-xref\">Table 1</a>, write a\n",
        "Julia model to compute the dissolved oxygen concentration from the first\n",
        "wastewater discharge to an arbitrary distance `d` km downstream. Use\n",
        "your model to compute the maximum dissolved oxygen concentration up to\n",
        "50km downstream and how far downriver this maximum occurs.\n",
        "\n",
        "|    Parameter     |            River Inflow |         Waste Stream 1 |         Waste Stream 2 |\n",
        "|:----------------:|------------------------:|-----------------------:|-----------------------:|\n",
        "|      Inflow      | 100,000 m<sup>3</sup>/d | 10,000 m<sup>3</sup>/d | 15,000 m<sup>3</sup>/d |\n",
        "| DO Concentration |                7.5 mg/L |                 5 mg/L |                 5 mg/L |\n",
        "|       CBOD       |                  5 mg/L |                50 mg/L |                45 mg/L |\n",
        "|       NBOD       |                  5 mg/L |                35 mg/L |                35 mg/L |\n",
        "\n",
        "Table 1: River inflow and waste stream characteristics for Problem 1."
      ]
    },
    {
      "cell_type": "code",
      "execution_count": 494,
      "id": "5b434724",
      "metadata": {},
      "outputs": [
        {
          "data": {
            "text/plain": [
              "35"
            ]
          },
          "metadata": {},
          "output_type": "display_data"
        }
      ],
      "source": [
        "# define variables before running function \n",
        "\n",
        "river_inflow = 100000\n",
        "waste1_inflow = 10000\n",
        "\n",
        "waste2_Ci = 5\n",
        "waste2_inflow = 15000\n",
        "\n",
        "B0 = 9.09 # calculated by hand\n",
        "N0 = 7.73 # calculated by hand\n",
        "C0 = 7.27 # calculated by hand\n",
        "\n",
        "waste2_Bi = 45\n",
        "waste2_Ni = 35"
      ]
    },
    {
      "cell_type": "code",
      "execution_count": 495,
      "id": "b068d795",
      "metadata": {},
      "outputs": [
        {
          "data": {
            "text/plain": [
              "diss_oxygen (generic function with 1 method)"
            ]
          },
          "metadata": {},
          "output_type": "display_data"
        }
      ],
      "source": [
        "# revised DO model\n",
        "function diss_oxygen(x, Cs, ka, kc, kn, U)\n",
        "    if (x >= 0) && (x <= 15) # check if the distance is within the first section (0 to 15 km)\n",
        "\n",
        "        # calculate decay factors\n",
        "        a1 = exp(-ka * x / U)\n",
        "        a2 = (kc / (ka - kc)) * (exp(-kc * x / U) - a1)\n",
        "        a3 = (kn / (ka - kn)) * (exp(-kn * x / U) - a1)\n",
        "\n",
        "        C = (Cs * (1 - a1)) + (C0 * a1) - (B0 * a2) - (N0 * a3) # calculate DO concentration \n",
        "        return C\n",
        "\n",
        "    else # calculate distance in the second section (beyond 15 km)\n",
        "        x2 = x - 15 # reset the distance at the second box\n",
        "\n",
        "        # calculate decay factors for the second section\n",
        "        a1 = exp(-ka * x2 / U)\n",
        "        a2 = (kc / (ka - kc)) * (exp(-kc * x2 / U) - a1)\n",
        "        a3 = (kn / (ka - kn)) * (exp(-kn * x2 / U) - a1)\n",
        "\n",
        "        C_at_15 = 4.88 # initial DO concentration at 15 km, computed by hand\n",
        "\n",
        "        # calculate mixed concentrations for the second section\n",
        "        C_at_15_mixed = (((C_at_15 * (river_inflow + waste1_inflow)) + (waste2_Ci * waste2_inflow)) / (river_inflow + waste1_inflow + waste2_inflow))\n",
        "        B_at_15_mixed = (((B0 * exp(-kc * 15 / U)) * (river_inflow + waste1_inflow)) + (waste2_Bi * waste2_inflow)) / (river_inflow + waste1_inflow + waste2_inflow)\n",
        "        N_at_15_mixed = (((N0 * exp(-kn * 15 / U)) * (river_inflow + waste1_inflow)) + (waste2_Ni * waste2_inflow)) / (river_inflow + waste1_inflow + waste2_inflow)\n",
        "        C = (Cs * (1 - a1)) + (C_at_15_mixed * a1) - (B_at_15_mixed * a2) - (N_at_15_mixed * a3)\n",
        "        return C\n",
        "    end\n",
        "end"
      ]
    },
    {
      "cell_type": "code",
      "execution_count": 496,
      "id": "a008c87a",
      "metadata": {},
      "outputs": [],
      "source": [
        "x = 0:0.1:50 \n",
        "\n",
        "C = [] # create empty vector to store DO concentrations\n",
        "\n",
        "for distance in x\n",
        "    # calculate the [DO] at the current distance\n",
        "    concentration = diss_oxygen(distance, 10, 0.55, 0.35, 0.25, 6)\n",
        "    \n",
        "    # append the concentration to initial vector\n",
        "    push!(C, concentration)\n",
        "end"
      ]
    },
    {
      "cell_type": "code",
      "execution_count": 497,
      "id": "af0a0140",
      "metadata": {},
      "outputs": [
        {
          "data": {
            "text/plain": [
              "(3.754475723767745, 224)"
            ]
          },
          "metadata": {},
          "output_type": "display_data"
        }
      ],
      "source": [
        "# find minimum DO and where this occurs\n",
        "x_axis = collect(0:0.1:50)\n",
        "min_val = findmin(C) # find minimum value in the array and the associated index position\n",
        "#x_axis[min_val[2]] # extract the distance"
      ]
    },
    {
      "cell_type": "code",
      "execution_count": 498,
      "id": "b6bef719",
      "metadata": {},
      "outputs": [
        {
          "data": {
            "text/plain": [
              "(7.27, 1)"
            ]
          },
          "metadata": {},
          "output_type": "display_data"
        }
      ],
      "source": [
        "# find maximum DO and where this occurs\n",
        "x_axis = collect(0:0.1:50)\n",
        "max_val = findmax(C) # find maximum value in the array and the associated index position\n",
        "#x_axis[max_val[2]] # extract the distance"
      ]
    },
    {
      "cell_type": "markdown",
      "id": "333c9fc6",
      "metadata": {},
      "source": [
        "Response: So, the minimum DO value is 3.75 mg/L, and this occurs approximately 22.4 km downstream. The maximum DO value occurs right at 0 km, with an associated value of 7.27 mg/L. "
      ]
    },
    {
      "cell_type": "markdown",
      "id": "0e93c34c-09f5-48d5-98af-15674255cfed",
      "metadata": {},
      "source": [
        "### Problem 2 (4 points)\n",
        "\n",
        "Use your model to plot the dissolved oxygen concentration in the river\n",
        "from the first waste stream to 50km downstream. What do you notice?"
      ]
    },
    {
      "cell_type": "code",
      "execution_count": 499,
      "id": "dd5459bc",
      "metadata": {},
      "outputs": [
        {
          "data": {
            "image/png": "[encoded data removed]",
            "image/svg+xml": [
              "<?xml version=\"1.0\" encoding=\"utf-8\"?>\n",
              "<svg xmlns=\"http://www.w3.org/2000/svg\" xmlns:xlink=\"http://www.w3.org/1999/xlink\" width=\"600\" height=\"400\" viewBox=\"0 0 2400 1600\">\n",
              "<defs>\n",
              "  <clipPath id=\"clip030\">\n",
              "    <rect x=\"0\" y=\"0\" width=\"2400\" height=\"1600\"/>\n",
              "  </clipPath>\n",
              "</defs>\n",
              "<path clip-path=\"url(#clip030)\" d=\"M0 1600 L2400 1600 L2400 0 L0 0  Z\" fill=\"#ffffff\" fill-rule=\"evenodd\" fill-opacity=\"1\"/>\n",
              "<defs>\n",
              "  <clipPath id=\"clip031\">\n",
              "    <rect x=\"480\" y=\"0\" width=\"1681\" height=\"1600\"/>\n",
              "  </clipPath>\n",
              "</defs>\n",
              "<path clip-path=\"url(#clip030)\" d=\"M175.445 1423.18 L2352.76 1423.18 L2352.76 47.2441 L175.445 47.2441  Z\" fill=\"#ffffff\" fill-rule=\"evenodd\" fill-opacity=\"1\"/>\n",
              "<defs>\n",
              "  <clipPath id=\"clip032\">\n",
              "    <rect x=\"175\" y=\"47\" width=\"2178\" height=\"1377\"/>\n",
              "  </clipPath>\n",
              "</defs>\n",
              "<polyline clip-path=\"url(#clip032)\" style=\"stroke:#000000; stroke-linecap:round; stroke-linejoin:round; stroke-width:2; stroke-opacity:0.1; fill:none\" points=\"237.067,1423.18 237.067,47.2441 \"/>\n",
              "<polyline clip-path=\"url(#clip032)\" style=\"stroke:#000000; stroke-linecap:round; stroke-linejoin:round; stroke-width:2; stroke-opacity:0.1; fill:none\" points=\"647.881,1423.18 647.881,47.2441 \"/>\n",
              "<polyline clip-path=\"url(#clip032)\" style=\"stroke:#000000; stroke-linecap:round; stroke-linejoin:round; stroke-width:2; stroke-opacity:0.1; fill:none\" points=\"1058.69,1423.18 1058.69,47.2441 \"/>\n",
              "<polyline clip-path=\"url(#clip032)\" style=\"stroke:#000000; stroke-linecap:round; stroke-linejoin:round; stroke-width:2; stroke-opacity:0.1; fill:none\" points=\"1469.51,1423.18 1469.51,47.2441 \"/>\n",
              "<polyline clip-path=\"url(#clip032)\" style=\"stroke:#000000; stroke-linecap:round; stroke-linejoin:round; stroke-width:2; stroke-opacity:0.1; fill:none\" points=\"1880.32,1423.18 1880.32,47.2441 \"/>\n",
              "<polyline clip-path=\"url(#clip032)\" style=\"stroke:#000000; stroke-linecap:round; stroke-linejoin:round; stroke-width:2; stroke-opacity:0.1; fill:none\" points=\"2291.13,1423.18 2291.13,47.2441 \"/>\n",
              "<polyline clip-path=\"url(#clip030)\" style=\"stroke:#000000; stroke-linecap:round; stroke-linejoin:round; stroke-width:4; stroke-opacity:1; fill:none\" points=\"175.445,1423.18 2352.76,1423.18 \"/>\n",
              "<polyline clip-path=\"url(#clip030)\" style=\"stroke:#000000; stroke-linecap:round; stroke-linejoin:round; stroke-width:4; stroke-opacity:1; fill:none\" points=\"237.067,1423.18 237.067,1404.28 \"/>\n",
              "<polyline clip-path=\"url(#clip030)\" style=\"stroke:#000000; stroke-linecap:round; stroke-linejoin:round; stroke-width:4; stroke-opacity:1; fill:none\" points=\"647.881,1423.18 647.881,1404.28 \"/>\n",
              "<polyline clip-path=\"url(#clip030)\" style=\"stroke:#000000; stroke-linecap:round; stroke-linejoin:round; stroke-width:4; stroke-opacity:1; fill:none\" points=\"1058.69,1423.18 1058.69,1404.28 \"/>\n",
              "<polyline clip-path=\"url(#clip030)\" style=\"stroke:#000000; stroke-linecap:round; stroke-linejoin:round; stroke-width:4; stroke-opacity:1; fill:none\" points=\"1469.51,1423.18 1469.51,1404.28 \"/>\n",
              "<polyline clip-path=\"url(#clip030)\" style=\"stroke:#000000; stroke-linecap:round; stroke-linejoin:round; stroke-width:4; stroke-opacity:1; fill:none\" points=\"1880.32,1423.18 1880.32,1404.28 \"/>\n",
              "<polyline clip-path=\"url(#clip030)\" style=\"stroke:#000000; stroke-linecap:round; stroke-linejoin:round; stroke-width:4; stroke-opacity:1; fill:none\" points=\"2291.13,1423.18 2291.13,1404.28 \"/>\n",
              "<path clip-path=\"url(#clip030)\" d=\"M237.067 1454.1 Q233.456 1454.1 231.627 1457.66 Q229.822 1461.2 229.822 1468.33 Q229.822 1475.44 231.627 1479.01 Q233.456 1482.55 237.067 1482.55 Q240.701 1482.55 242.507 1479.01 Q244.336 1475.44 244.336 1468.33 Q244.336 1461.2 242.507 1457.66 Q240.701 1454.1 237.067 1454.1 M237.067 1450.39 Q242.877 1450.39 245.933 1455 Q249.012 1459.58 249.012 1468.33 Q249.012 1477.06 245.933 1481.67 Q242.877 1486.25 237.067 1486.25 Q231.257 1486.25 228.178 1481.67 Q225.123 1477.06 225.123 1468.33 Q225.123 1459.58 228.178 1455 Q231.257 1450.39 237.067 1450.39 Z\" fill=\"#000000\" fill-rule=\"nonzero\" fill-opacity=\"1\" /><path clip-path=\"url(#clip030)\" d=\"M622.568 1481.64 L630.207 1481.64 L630.207 1455.28 L621.897 1456.95 L621.897 1452.69 L630.161 1451.02 L634.837 1451.02 L634.837 1481.64 L642.475 1481.64 L642.475 1485.58 L622.568 1485.58 L622.568 1481.64 Z\" fill=\"#000000\" fill-rule=\"nonzero\" fill-opacity=\"1\" /><path clip-path=\"url(#clip030)\" d=\"M661.92 1454.1 Q658.309 1454.1 656.48 1457.66 Q654.674 1461.2 654.674 1468.33 Q654.674 1475.44 656.48 1479.01 Q658.309 1482.55 661.92 1482.55 Q665.554 1482.55 667.36 1479.01 Q669.188 1475.44 669.188 1468.33 Q669.188 1461.2 667.36 1457.66 Q665.554 1454.1 661.92 1454.1 M661.92 1450.39 Q667.73 1450.39 670.786 1455 Q673.864 1459.58 673.864 1468.33 Q673.864 1477.06 670.786 1481.67 Q667.73 1486.25 661.92 1486.25 Q656.11 1486.25 653.031 1481.67 Q649.975 1477.06 649.975 1468.33 Q649.975 1459.58 653.031 1455 Q656.11 1450.39 661.92 1450.39 Z\" fill=\"#000000\" fill-rule=\"nonzero\" fill-opacity=\"1\" /><path clip-path=\"url(#clip030)\" d=\"M1037.47 1481.64 L1053.79 1481.64 L1053.79 1485.58 L1031.84 1485.58 L1031.84 1481.64 Q1034.5 1478.89 1039.09 1474.26 Q1043.69 1469.61 1044.87 1468.27 Q1047.12 1465.74 1048 1464.01 Q1048.9 1462.25 1048.9 1460.56 Q1048.9 1457.8 1046.96 1456.07 Q1045.04 1454.33 1041.93 1454.33 Q1039.74 1454.33 1037.28 1455.09 Q1034.85 1455.86 1032.07 1457.41 L1032.07 1452.69 Q1034.9 1451.55 1037.35 1450.97 Q1039.81 1450.39 1041.84 1450.39 Q1047.21 1450.39 1050.41 1453.08 Q1053.6 1455.77 1053.6 1460.26 Q1053.6 1462.39 1052.79 1464.31 Q1052 1466.2 1049.9 1468.8 Q1049.32 1469.47 1046.22 1472.69 Q1043.12 1475.88 1037.47 1481.64 Z\" fill=\"#000000\" fill-rule=\"nonzero\" fill-opacity=\"1\" /><path clip-path=\"url(#clip030)\" d=\"M1073.6 1454.1 Q1069.99 1454.1 1068.16 1457.66 Q1066.36 1461.2 1066.36 1468.33 Q1066.36 1475.44 1068.16 1479.01 Q1069.99 1482.55 1073.6 1482.55 Q1077.24 1482.55 1079.04 1479.01 Q1080.87 1475.44 1080.87 1468.33 Q1080.87 1461.2 1079.04 1457.66 Q1077.24 1454.1 1073.6 1454.1 M1073.6 1450.39 Q1079.41 1450.39 1082.47 1455 Q1085.55 1459.58 1085.55 1468.33 Q1085.55 1477.06 1082.47 1481.67 Q1079.41 1486.25 1073.6 1486.25 Q1067.79 1486.25 1064.71 1481.67 Q1061.66 1477.06 1061.66 1468.33 Q1061.66 1459.58 1064.71 1455 Q1067.79 1450.39 1073.6 1450.39 Z\" fill=\"#000000\" fill-rule=\"nonzero\" fill-opacity=\"1\" /><path clip-path=\"url(#clip030)\" d=\"M1458.35 1466.95 Q1461.71 1467.66 1463.58 1469.93 Q1465.48 1472.2 1465.48 1475.53 Q1465.48 1480.65 1461.96 1483.45 Q1458.44 1486.25 1451.96 1486.25 Q1449.79 1486.25 1447.47 1485.81 Q1445.18 1485.39 1442.72 1484.54 L1442.72 1480.02 Q1444.67 1481.16 1446.98 1481.74 Q1449.3 1482.32 1451.82 1482.32 Q1456.22 1482.32 1458.51 1480.58 Q1460.83 1478.84 1460.83 1475.53 Q1460.83 1472.48 1458.67 1470.77 Q1456.54 1469.03 1452.72 1469.03 L1448.7 1469.03 L1448.7 1465.19 L1452.91 1465.19 Q1456.36 1465.19 1458.19 1463.82 Q1460.02 1462.43 1460.02 1459.84 Q1460.02 1457.18 1458.12 1455.77 Q1456.24 1454.33 1452.72 1454.33 Q1450.8 1454.33 1448.6 1454.75 Q1446.41 1455.16 1443.77 1456.04 L1443.77 1451.88 Q1446.43 1451.14 1448.74 1450.77 Q1451.08 1450.39 1453.14 1450.39 Q1458.47 1450.39 1461.57 1452.83 Q1464.67 1455.23 1464.67 1459.35 Q1464.67 1462.22 1463.03 1464.21 Q1461.38 1466.18 1458.35 1466.95 Z\" fill=\"#000000\" fill-rule=\"nonzero\" fill-opacity=\"1\" /><path clip-path=\"url(#clip030)\" d=\"M1484.35 1454.1 Q1480.73 1454.1 1478.91 1457.66 Q1477.1 1461.2 1477.1 1468.33 Q1477.1 1475.44 1478.91 1479.01 Q1480.73 1482.55 1484.35 1482.55 Q1487.98 1482.55 1489.78 1479.01 Q1491.61 1475.44 1491.61 1468.33 Q1491.61 1461.2 1489.78 1457.66 Q1487.98 1454.1 1484.35 1454.1 M1484.35 1450.39 Q1490.16 1450.39 1493.21 1455 Q1496.29 1459.58 1496.29 1468.33 Q1496.29 1477.06 1493.21 1481.67 Q1490.16 1486.25 1484.35 1486.25 Q1478.53 1486.25 1475.46 1481.67 Q1472.4 1477.06 1472.4 1468.33 Q1472.4 1459.58 1475.46 1455 Q1478.53 1450.39 1484.35 1450.39 Z\" fill=\"#000000\" fill-rule=\"nonzero\" fill-opacity=\"1\" /><path clip-path=\"url(#clip030)\" d=\"M1868.49 1455.09 L1856.69 1473.54 L1868.49 1473.54 L1868.49 1455.09 M1867.27 1451.02 L1873.14 1451.02 L1873.14 1473.54 L1878.08 1473.54 L1878.08 1477.43 L1873.14 1477.43 L1873.14 1485.58 L1868.49 1485.58 L1868.49 1477.43 L1852.89 1477.43 L1852.89 1472.92 L1867.27 1451.02 Z\" fill=\"#000000\" fill-rule=\"nonzero\" fill-opacity=\"1\" /><path clip-path=\"url(#clip030)\" d=\"M1895.81 1454.1 Q1892.2 1454.1 1890.37 1457.66 Q1888.56 1461.2 1888.56 1468.33 Q1888.56 1475.44 1890.37 1479.01 Q1892.2 1482.55 1895.81 1482.55 Q1899.44 1482.55 1901.25 1479.01 Q1903.08 1475.44 1903.08 1468.33 Q1903.08 1461.2 1901.25 1457.66 Q1899.44 1454.1 1895.81 1454.1 M1895.81 1450.39 Q1901.62 1450.39 1904.67 1455 Q1907.75 1459.58 1907.75 1468.33 Q1907.75 1477.06 1904.67 1481.67 Q1901.62 1486.25 1895.81 1486.25 Q1890 1486.25 1886.92 1481.67 Q1883.86 1477.06 1883.86 1468.33 Q1883.86 1459.58 1886.92 1455 Q1890 1450.39 1895.81 1450.39 Z\" fill=\"#000000\" fill-rule=\"nonzero\" fill-opacity=\"1\" /><path clip-path=\"url(#clip030)\" d=\"M2265.83 1451.02 L2284.19 1451.02 L2284.19 1454.96 L2270.12 1454.96 L2270.12 1463.43 Q2271.13 1463.08 2272.15 1462.92 Q2273.17 1462.73 2274.19 1462.73 Q2279.98 1462.73 2283.36 1465.9 Q2286.74 1469.08 2286.74 1474.49 Q2286.74 1480.07 2283.26 1483.17 Q2279.79 1486.25 2273.47 1486.25 Q2271.3 1486.25 2269.03 1485.88 Q2266.78 1485.51 2264.37 1484.77 L2264.37 1480.07 Q2266.46 1481.2 2268.68 1481.76 Q2270.9 1482.32 2273.38 1482.32 Q2277.38 1482.32 2279.72 1480.21 Q2282.06 1478.1 2282.06 1474.49 Q2282.06 1470.88 2279.72 1468.77 Q2277.38 1466.67 2273.38 1466.67 Q2271.5 1466.67 2269.63 1467.08 Q2267.78 1467.5 2265.83 1468.38 L2265.83 1451.02 Z\" fill=\"#000000\" fill-rule=\"nonzero\" fill-opacity=\"1\" /><path clip-path=\"url(#clip030)\" d=\"M2305.95 1454.1 Q2302.34 1454.1 2300.51 1457.66 Q2298.7 1461.2 2298.7 1468.33 Q2298.7 1475.44 2300.51 1479.01 Q2302.34 1482.55 2305.95 1482.55 Q2309.58 1482.55 2311.39 1479.01 Q2313.22 1475.44 2313.22 1468.33 Q2313.22 1461.2 2311.39 1457.66 Q2309.58 1454.1 2305.95 1454.1 M2305.95 1450.39 Q2311.76 1450.39 2314.81 1455 Q2317.89 1459.58 2317.89 1468.33 Q2317.89 1477.06 2314.81 1481.67 Q2311.76 1486.25 2305.95 1486.25 Q2300.14 1486.25 2297.06 1481.67 Q2294 1477.06 2294 1468.33 Q2294 1459.58 2297.06 1455 Q2300.14 1450.39 2305.95 1450.39 Z\" fill=\"#000000\" fill-rule=\"nonzero\" fill-opacity=\"1\" /><path clip-path=\"url(#clip030)\" d=\"M830.676 1525.81 L830.676 1562.76 L838.442 1562.76 Q848.277 1562.76 852.828 1558.3 Q857.411 1553.85 857.411 1544.24 Q857.411 1534.69 852.828 1530.26 Q848.277 1525.81 838.442 1525.81 L830.676 1525.81 M824.246 1520.52 L837.455 1520.52 Q851.269 1520.52 857.73 1526.28 Q864.191 1532.01 864.191 1544.24 Q864.191 1556.52 857.698 1562.28 Q851.205 1568.04 837.455 1568.04 L824.246 1568.04 L824.246 1520.52 Z\" fill=\"#000000\" fill-rule=\"nonzero\" fill-opacity=\"1\" /><path clip-path=\"url(#clip030)\" d=\"M874.185 1532.4 L880.042 1532.4 L880.042 1568.04 L874.185 1568.04 L874.185 1532.4 M874.185 1518.52 L880.042 1518.52 L880.042 1525.93 L874.185 1525.93 L874.185 1518.52 Z\" fill=\"#000000\" fill-rule=\"nonzero\" fill-opacity=\"1\" /><path clip-path=\"url(#clip030)\" d=\"M915.021 1533.45 L915.021 1538.98 Q912.538 1537.71 909.865 1537.07 Q907.191 1536.44 904.327 1536.44 Q899.966 1536.44 897.77 1537.77 Q895.606 1539.11 895.606 1541.79 Q895.606 1543.82 897.165 1545 Q898.725 1546.15 903.436 1547.2 L905.441 1547.64 Q911.679 1548.98 914.289 1551.43 Q916.931 1553.85 916.931 1558.21 Q916.931 1563.17 912.984 1566.07 Q909.069 1568.97 902.194 1568.97 Q899.33 1568.97 896.21 1568.39 Q893.123 1567.85 889.686 1566.74 L889.686 1560.69 Q892.932 1562.38 896.083 1563.24 Q899.234 1564.07 902.322 1564.07 Q906.459 1564.07 908.687 1562.66 Q910.915 1561.23 910.915 1558.65 Q910.915 1556.27 909.292 1554.99 Q907.701 1553.72 902.258 1552.54 L900.221 1552.07 Q894.778 1550.92 892.359 1548.56 Q889.94 1546.18 889.94 1542.04 Q889.94 1537.01 893.505 1534.27 Q897.07 1531.54 903.627 1531.54 Q906.873 1531.54 909.738 1532.01 Q912.602 1532.49 915.021 1533.45 Z\" fill=\"#000000\" fill-rule=\"nonzero\" fill-opacity=\"1\" /><path clip-path=\"url(#clip030)\" d=\"M932.049 1522.27 L932.049 1532.4 L944.112 1532.4 L944.112 1536.95 L932.049 1536.95 L932.049 1556.3 Q932.049 1560.66 933.227 1561.9 Q934.437 1563.14 938.097 1563.14 L944.112 1563.14 L944.112 1568.04 L938.097 1568.04 Q931.317 1568.04 928.739 1565.53 Q926.161 1562.98 926.161 1556.3 L926.161 1536.95 L921.864 1536.95 L921.864 1532.4 L926.161 1532.4 L926.161 1522.27 L932.049 1522.27 Z\" fill=\"#000000\" fill-rule=\"nonzero\" fill-opacity=\"1\" /><path clip-path=\"url(#clip030)\" d=\"M968.016 1550.12 Q960.918 1550.12 958.181 1551.75 Q955.443 1553.37 955.443 1557.29 Q955.443 1560.4 957.48 1562.25 Q959.549 1564.07 963.082 1564.07 Q967.952 1564.07 970.88 1560.63 Q973.84 1557.16 973.84 1551.43 L973.84 1550.12 L968.016 1550.12 M979.697 1547.71 L979.697 1568.04 L973.84 1568.04 L973.84 1562.63 Q971.835 1565.88 968.843 1567.44 Q965.851 1568.97 961.523 1568.97 Q956.048 1568.97 952.802 1565.91 Q949.587 1562.82 949.587 1557.67 Q949.587 1551.65 953.597 1548.6 Q957.64 1545.54 965.628 1545.54 L973.84 1545.54 L973.84 1544.97 Q973.84 1540.93 971.167 1538.73 Q968.525 1536.5 963.719 1536.5 Q960.663 1536.5 957.767 1537.23 Q954.87 1537.97 952.197 1539.43 L952.197 1534.02 Q955.412 1532.78 958.435 1532.17 Q961.459 1531.54 964.324 1531.54 Q972.058 1531.54 975.877 1535.55 Q979.697 1539.56 979.697 1547.71 Z\" fill=\"#000000\" fill-rule=\"nonzero\" fill-opacity=\"1\" /><path clip-path=\"url(#clip030)\" d=\"M1021.39 1546.53 L1021.39 1568.04 L1015.54 1568.04 L1015.54 1546.72 Q1015.54 1541.66 1013.56 1539.14 Q1011.59 1536.63 1007.64 1536.63 Q1002.9 1536.63 1000.16 1539.65 Q997.425 1542.68 997.425 1547.9 L997.425 1568.04 L991.537 1568.04 L991.537 1532.4 L997.425 1532.4 L997.425 1537.93 Q999.526 1534.72 1002.36 1533.13 Q1005.22 1531.54 1008.95 1531.54 Q1015.09 1531.54 1018.24 1535.36 Q1021.39 1539.14 1021.39 1546.53 Z\" fill=\"#000000\" fill-rule=\"nonzero\" fill-opacity=\"1\" /><path clip-path=\"url(#clip030)\" d=\"M1058.73 1533.76 L1058.73 1539.24 Q1056.24 1537.87 1053.73 1537.2 Q1051.25 1536.5 1048.7 1536.5 Q1043 1536.5 1039.85 1540.13 Q1036.7 1543.73 1036.7 1550.25 Q1036.7 1556.78 1039.85 1560.4 Q1043 1564 1048.7 1564 Q1051.25 1564 1053.73 1563.33 Q1056.24 1562.63 1058.73 1561.26 L1058.73 1566.68 Q1056.28 1567.82 1053.63 1568.39 Q1051.02 1568.97 1048.06 1568.97 Q1040.01 1568.97 1035.27 1563.91 Q1030.53 1558.85 1030.53 1550.25 Q1030.53 1541.53 1035.3 1536.53 Q1040.11 1531.54 1048.45 1531.54 Q1051.15 1531.54 1053.73 1532.11 Q1056.31 1532.65 1058.73 1533.76 Z\" fill=\"#000000\" fill-rule=\"nonzero\" fill-opacity=\"1\" /><path clip-path=\"url(#clip030)\" d=\"M1099.4 1548.76 L1099.4 1551.62 L1072.48 1551.62 Q1072.86 1557.67 1076.11 1560.85 Q1079.38 1564 1085.21 1564 Q1088.58 1564 1091.73 1563.17 Q1094.92 1562.35 1098.04 1560.69 L1098.04 1566.23 Q1094.88 1567.57 1091.57 1568.27 Q1088.26 1568.97 1084.86 1568.97 Q1076.33 1568.97 1071.33 1564 Q1066.37 1559.04 1066.37 1550.57 Q1066.37 1541.82 1071.08 1536.69 Q1075.82 1531.54 1083.84 1531.54 Q1091.03 1531.54 1095.2 1536.18 Q1099.4 1540.8 1099.4 1548.76 M1093.55 1547.04 Q1093.48 1542.23 1090.84 1539.37 Q1088.23 1536.5 1083.9 1536.5 Q1079 1536.5 1076.04 1539.27 Q1073.11 1542.04 1072.67 1547.07 L1093.55 1547.04 Z\" fill=\"#000000\" fill-rule=\"nonzero\" fill-opacity=\"1\" /><path clip-path=\"url(#clip030)\" d=\"M1136.42 1525.81 L1136.42 1562.76 L1144.19 1562.76 Q1154.02 1562.76 1158.57 1558.3 Q1163.16 1553.85 1163.16 1544.24 Q1163.16 1534.69 1158.57 1530.26 Q1154.02 1525.81 1144.19 1525.81 L1136.42 1525.81 M1129.99 1520.52 L1143.2 1520.52 Q1157.01 1520.52 1163.47 1526.28 Q1169.94 1532.01 1169.94 1544.24 Q1169.94 1556.52 1163.44 1562.28 Q1156.95 1568.04 1143.2 1568.04 L1129.99 1568.04 L1129.99 1520.52 Z\" fill=\"#000000\" fill-rule=\"nonzero\" fill-opacity=\"1\" /><path clip-path=\"url(#clip030)\" d=\"M1193.74 1536.5 Q1189.03 1536.5 1186.3 1540.19 Q1183.56 1543.85 1183.56 1550.25 Q1183.56 1556.65 1186.26 1560.34 Q1189 1564 1193.74 1564 Q1198.42 1564 1201.16 1560.31 Q1203.9 1556.62 1203.9 1550.25 Q1203.9 1543.92 1201.16 1540.23 Q1198.42 1536.5 1193.74 1536.5 M1193.74 1531.54 Q1201.38 1531.54 1205.74 1536.5 Q1210.1 1541.47 1210.1 1550.25 Q1210.1 1559 1205.74 1564 Q1201.38 1568.97 1193.74 1568.97 Q1186.07 1568.97 1181.71 1564 Q1177.38 1559 1177.38 1550.25 Q1177.38 1541.47 1181.71 1536.5 Q1186.07 1531.54 1193.74 1531.54 Z\" fill=\"#000000\" fill-rule=\"nonzero\" fill-opacity=\"1\" /><path clip-path=\"url(#clip030)\" d=\"M1216.41 1532.4 L1222.26 1532.4 L1229.58 1560.21 L1236.87 1532.4 L1243.78 1532.4 L1251.1 1560.21 L1258.39 1532.4 L1264.24 1532.4 L1254.92 1568.04 L1248.01 1568.04 L1240.34 1538.83 L1232.64 1568.04 L1225.73 1568.04 L1216.41 1532.4 Z\" fill=\"#000000\" fill-rule=\"nonzero\" fill-opacity=\"1\" /><path clip-path=\"url(#clip030)\" d=\"M1302.76 1546.53 L1302.76 1568.04 L1296.9 1568.04 L1296.9 1546.72 Q1296.9 1541.66 1294.93 1539.14 Q1292.95 1536.63 1289.01 1536.63 Q1284.26 1536.63 1281.53 1539.65 Q1278.79 1542.68 1278.79 1547.9 L1278.79 1568.04 L1272.9 1568.04 L1272.9 1532.4 L1278.79 1532.4 L1278.79 1537.93 Q1280.89 1534.72 1283.72 1533.13 Q1286.59 1531.54 1290.31 1531.54 Q1296.45 1531.54 1299.61 1535.36 Q1302.76 1539.14 1302.76 1546.53 Z\" fill=\"#000000\" fill-rule=\"nonzero\" fill-opacity=\"1\" /><path clip-path=\"url(#clip030)\" d=\"M1337.16 1533.45 L1337.16 1538.98 Q1334.68 1537.71 1332.01 1537.07 Q1329.33 1536.44 1326.47 1536.44 Q1322.11 1536.44 1319.91 1537.77 Q1317.75 1539.11 1317.75 1541.79 Q1317.75 1543.82 1319.31 1545 Q1320.87 1546.15 1325.58 1547.2 L1327.58 1547.64 Q1333.82 1548.98 1336.43 1551.43 Q1339.07 1553.85 1339.07 1558.21 Q1339.07 1563.17 1335.13 1566.07 Q1331.21 1568.97 1324.34 1568.97 Q1321.47 1568.97 1318.35 1568.39 Q1315.26 1567.85 1311.83 1566.74 L1311.83 1560.69 Q1315.07 1562.38 1318.22 1563.24 Q1321.38 1564.07 1324.46 1564.07 Q1328.6 1564.07 1330.83 1562.66 Q1333.06 1561.23 1333.06 1558.65 Q1333.06 1556.27 1331.43 1554.99 Q1329.84 1553.72 1324.4 1552.54 L1322.36 1552.07 Q1316.92 1550.92 1314.5 1548.56 Q1312.08 1546.18 1312.08 1542.04 Q1312.08 1537.01 1315.65 1534.27 Q1319.21 1531.54 1325.77 1531.54 Q1329.01 1531.54 1331.88 1532.01 Q1334.74 1532.49 1337.16 1533.45 Z\" fill=\"#000000\" fill-rule=\"nonzero\" fill-opacity=\"1\" /><path clip-path=\"url(#clip030)\" d=\"M1354.19 1522.27 L1354.19 1532.4 L1366.25 1532.4 L1366.25 1536.95 L1354.19 1536.95 L1354.19 1556.3 Q1354.19 1560.66 1355.37 1561.9 Q1356.58 1563.14 1360.24 1563.14 L1366.25 1563.14 L1366.25 1568.04 L1360.24 1568.04 Q1353.46 1568.04 1350.88 1565.53 Q1348.3 1562.98 1348.3 1556.3 L1348.3 1536.95 L1344.01 1536.95 L1344.01 1532.4 L1348.3 1532.4 L1348.3 1522.27 L1354.19 1522.27 Z\" fill=\"#000000\" fill-rule=\"nonzero\" fill-opacity=\"1\" /><path clip-path=\"url(#clip030)\" d=\"M1394.61 1537.87 Q1393.63 1537.3 1392.45 1537.04 Q1391.3 1536.76 1389.9 1536.76 Q1384.94 1536.76 1382.26 1540 Q1379.62 1543.22 1379.62 1549.27 L1379.62 1568.04 L1373.73 1568.04 L1373.73 1532.4 L1379.62 1532.4 L1379.62 1537.93 Q1381.47 1534.69 1384.43 1533.13 Q1387.39 1531.54 1391.62 1531.54 Q1392.23 1531.54 1392.96 1531.63 Q1393.69 1531.7 1394.58 1531.85 L1394.61 1537.87 Z\" fill=\"#000000\" fill-rule=\"nonzero\" fill-opacity=\"1\" /><path clip-path=\"url(#clip030)\" d=\"M1429.82 1548.76 L1429.82 1551.62 L1402.89 1551.62 Q1403.27 1557.67 1406.52 1560.85 Q1409.8 1564 1415.62 1564 Q1418.99 1564 1422.15 1563.17 Q1425.33 1562.35 1428.45 1560.69 L1428.45 1566.23 Q1425.3 1567.57 1421.99 1568.27 Q1418.68 1568.97 1415.27 1568.97 Q1406.74 1568.97 1401.74 1564 Q1396.78 1559.04 1396.78 1550.57 Q1396.78 1541.82 1401.49 1536.69 Q1406.23 1531.54 1414.25 1531.54 Q1421.44 1531.54 1425.61 1536.18 Q1429.82 1540.8 1429.82 1548.76 M1423.96 1547.04 Q1423.9 1542.23 1421.25 1539.37 Q1418.64 1536.5 1414.32 1536.5 Q1409.41 1536.5 1406.45 1539.27 Q1403.53 1542.04 1403.08 1547.07 L1423.96 1547.04 Z\" fill=\"#000000\" fill-rule=\"nonzero\" fill-opacity=\"1\" /><path clip-path=\"url(#clip030)\" d=\"M1455.63 1550.12 Q1448.53 1550.12 1445.79 1551.75 Q1443.06 1553.37 1443.06 1557.29 Q1443.06 1560.4 1445.09 1562.25 Q1447.16 1564.07 1450.7 1564.07 Q1455.57 1564.07 1458.49 1560.63 Q1461.45 1557.16 1461.45 1551.43 L1461.45 1550.12 L1455.63 1550.12 M1467.31 1547.71 L1467.31 1568.04 L1461.45 1568.04 L1461.45 1562.63 Q1459.45 1565.88 1456.46 1567.44 Q1453.46 1568.97 1449.14 1568.97 Q1443.66 1568.97 1440.41 1565.91 Q1437.2 1562.82 1437.2 1557.67 Q1437.2 1551.65 1441.21 1548.6 Q1445.25 1545.54 1453.24 1545.54 L1461.45 1545.54 L1461.45 1544.97 Q1461.45 1540.93 1458.78 1538.73 Q1456.14 1536.5 1451.33 1536.5 Q1448.28 1536.5 1445.38 1537.23 Q1442.48 1537.97 1439.81 1539.43 L1439.81 1534.02 Q1443.02 1532.78 1446.05 1532.17 Q1449.07 1531.54 1451.94 1531.54 Q1459.67 1531.54 1463.49 1535.55 Q1467.31 1539.56 1467.31 1547.71 Z\" fill=\"#000000\" fill-rule=\"nonzero\" fill-opacity=\"1\" /><path clip-path=\"url(#clip030)\" d=\"M1507.13 1539.24 Q1509.32 1535.29 1512.38 1533.41 Q1515.43 1531.54 1519.57 1531.54 Q1525.14 1531.54 1528.17 1535.45 Q1531.19 1539.33 1531.19 1546.53 L1531.19 1568.04 L1525.3 1568.04 L1525.3 1546.72 Q1525.3 1541.59 1523.49 1539.11 Q1521.67 1536.63 1517.95 1536.63 Q1513.4 1536.63 1510.76 1539.65 Q1508.11 1542.68 1508.11 1547.9 L1508.11 1568.04 L1502.23 1568.04 L1502.23 1546.72 Q1502.23 1541.56 1500.41 1539.11 Q1498.6 1536.63 1494.81 1536.63 Q1490.32 1536.63 1487.68 1539.68 Q1485.04 1542.71 1485.04 1547.9 L1485.04 1568.04 L1479.15 1568.04 L1479.15 1532.4 L1485.04 1532.4 L1485.04 1537.93 Q1487.04 1534.66 1489.84 1533.1 Q1492.65 1531.54 1496.5 1531.54 Q1500.38 1531.54 1503.09 1533.51 Q1505.82 1535.48 1507.13 1539.24 Z\" fill=\"#000000\" fill-rule=\"nonzero\" fill-opacity=\"1\" /><path clip-path=\"url(#clip030)\" d=\"M1577.66 1518.58 Q1573.39 1525.9 1571.33 1533.06 Q1569.26 1540.23 1569.26 1547.58 Q1569.26 1554.93 1571.33 1562.16 Q1573.43 1569.35 1577.66 1576.64 L1572.57 1576.64 Q1567.79 1569.16 1565.41 1561.93 Q1563.05 1554.71 1563.05 1547.58 Q1563.05 1540.48 1565.41 1533.29 Q1567.76 1526.09 1572.57 1518.58 L1577.66 1518.58 Z\" fill=\"#000000\" fill-rule=\"nonzero\" fill-opacity=\"1\" /><path clip-path=\"url(#clip030)\" d=\"M1588.8 1518.52 L1594.69 1518.52 L1594.69 1547.77 L1612.16 1532.4 L1619.64 1532.4 L1600.74 1549.07 L1620.44 1568.04 L1612.8 1568.04 L1594.69 1550.63 L1594.69 1568.04 L1588.8 1568.04 L1588.8 1518.52 Z\" fill=\"#000000\" fill-rule=\"nonzero\" fill-opacity=\"1\" /><path clip-path=\"url(#clip030)\" d=\"M1654.53 1539.24 Q1656.72 1535.29 1659.78 1533.41 Q1662.83 1531.54 1666.97 1531.54 Q1672.54 1531.54 1675.56 1535.45 Q1678.59 1539.33 1678.59 1546.53 L1678.59 1568.04 L1672.7 1568.04 L1672.7 1546.72 Q1672.7 1541.59 1670.89 1539.11 Q1669.07 1536.63 1665.35 1536.63 Q1660.8 1536.63 1658.15 1539.65 Q1655.51 1542.68 1655.51 1547.9 L1655.51 1568.04 L1649.62 1568.04 L1649.62 1546.72 Q1649.62 1541.56 1647.81 1539.11 Q1646 1536.63 1642.21 1536.63 Q1637.72 1536.63 1635.08 1539.68 Q1632.44 1542.71 1632.44 1547.9 L1632.44 1568.04 L1626.55 1568.04 L1626.55 1532.4 L1632.44 1532.4 L1632.44 1537.93 Q1634.44 1534.66 1637.24 1533.1 Q1640.04 1531.54 1643.89 1531.54 Q1647.78 1531.54 1650.48 1533.51 Q1653.22 1535.48 1654.53 1539.24 Z\" fill=\"#000000\" fill-rule=\"nonzero\" fill-opacity=\"1\" /><path clip-path=\"url(#clip030)\" d=\"M1689.35 1518.58 L1694.44 1518.58 Q1699.21 1526.09 1701.57 1533.29 Q1703.95 1540.48 1703.95 1547.58 Q1703.95 1554.71 1701.57 1561.93 Q1699.21 1569.16 1694.44 1576.64 L1689.35 1576.64 Q1693.58 1569.35 1695.65 1562.16 Q1697.75 1554.93 1697.75 1547.58 Q1697.75 1540.23 1695.65 1533.06 Q1693.58 1525.9 1689.35 1518.58 Z\" fill=\"#000000\" fill-rule=\"nonzero\" fill-opacity=\"1\" /><polyline clip-path=\"url(#clip032)\" style=\"stroke:#000000; stroke-linecap:round; stroke-linejoin:round; stroke-width:2; stroke-opacity:0.1; fill:none\" points=\"175.445,1293.58 2352.76,1293.58 \"/>\n",
              "<polyline clip-path=\"url(#clip032)\" style=\"stroke:#000000; stroke-linecap:round; stroke-linejoin:round; stroke-width:2; stroke-opacity:0.1; fill:none\" points=\"175.445,924.348 2352.76,924.348 \"/>\n",
              "<polyline clip-path=\"url(#clip032)\" style=\"stroke:#000000; stroke-linecap:round; stroke-linejoin:round; stroke-width:2; stroke-opacity:0.1; fill:none\" points=\"175.445,555.113 2352.76,555.113 \"/>\n",
              "<polyline clip-path=\"url(#clip032)\" style=\"stroke:#000000; stroke-linecap:round; stroke-linejoin:round; stroke-width:2; stroke-opacity:0.1; fill:none\" points=\"175.445,185.879 2352.76,185.879 \"/>\n",
              "<polyline clip-path=\"url(#clip030)\" style=\"stroke:#000000; stroke-linecap:round; stroke-linejoin:round; stroke-width:4; stroke-opacity:1; fill:none\" points=\"175.445,1423.18 175.445,47.2441 \"/>\n",
              "<polyline clip-path=\"url(#clip030)\" style=\"stroke:#000000; stroke-linecap:round; stroke-linejoin:round; stroke-width:4; stroke-opacity:1; fill:none\" points=\"175.445,1293.58 194.343,1293.58 \"/>\n",
              "<polyline clip-path=\"url(#clip030)\" style=\"stroke:#000000; stroke-linecap:round; stroke-linejoin:round; stroke-width:4; stroke-opacity:1; fill:none\" points=\"175.445,924.348 194.343,924.348 \"/>\n",
              "<polyline clip-path=\"url(#clip030)\" style=\"stroke:#000000; stroke-linecap:round; stroke-linejoin:round; stroke-width:4; stroke-opacity:1; fill:none\" points=\"175.445,555.113 194.343,555.113 \"/>\n",
              "<polyline clip-path=\"url(#clip030)\" style=\"stroke:#000000; stroke-linecap:round; stroke-linejoin:round; stroke-width:4; stroke-opacity:1; fill:none\" points=\"175.445,185.879 194.343,185.879 \"/>\n",
              "<path clip-path=\"url(#clip030)\" d=\"M129.862 1280.38 L118.056 1298.83 L129.862 1298.83 L129.862 1280.38 M128.635 1276.3 L134.515 1276.3 L134.515 1298.83 L139.445 1298.83 L139.445 1302.71 L134.515 1302.71 L134.515 1310.86 L129.862 1310.86 L129.862 1302.71 L114.26 1302.71 L114.26 1298.2 L128.635 1276.3 Z\" fill=\"#000000\" fill-rule=\"nonzero\" fill-opacity=\"1\" /><path clip-path=\"url(#clip030)\" d=\"M118.543 907.068 L136.899 907.068 L136.899 911.003 L122.825 911.003 L122.825 919.475 Q123.843 919.128 124.862 918.966 Q125.88 918.781 126.899 918.781 Q132.686 918.781 136.066 921.952 Q139.445 925.123 139.445 930.54 Q139.445 936.119 135.973 939.22 Q132.501 942.299 126.181 942.299 Q124.005 942.299 121.737 941.929 Q119.492 941.558 117.084 940.818 L117.084 936.119 Q119.168 937.253 121.39 937.808 Q123.612 938.364 126.089 938.364 Q130.093 938.364 132.431 936.257 Q134.769 934.151 134.769 930.54 Q134.769 926.929 132.431 924.822 Q130.093 922.716 126.089 922.716 Q124.214 922.716 122.339 923.133 Q120.487 923.549 118.543 924.429 L118.543 907.068 Z\" fill=\"#000000\" fill-rule=\"nonzero\" fill-opacity=\"1\" /><path clip-path=\"url(#clip030)\" d=\"M127.917 553.25 Q124.769 553.25 122.918 555.403 Q121.089 557.556 121.089 561.305 Q121.089 565.032 122.918 567.208 Q124.769 569.361 127.917 569.361 Q131.066 569.361 132.894 567.208 Q134.746 565.032 134.746 561.305 Q134.746 557.556 132.894 555.403 Q131.066 553.25 127.917 553.25 M137.2 538.597 L137.2 542.857 Q135.441 542.023 133.635 541.583 Q131.853 541.144 130.093 541.144 Q125.464 541.144 123.01 544.269 Q120.58 547.394 120.232 553.713 Q121.598 551.699 123.658 550.634 Q125.718 549.546 128.195 549.546 Q133.404 549.546 136.413 552.718 Q139.445 555.866 139.445 561.305 Q139.445 566.63 136.297 569.847 Q133.149 573.065 127.917 573.065 Q121.922 573.065 118.751 568.481 Q115.58 563.875 115.58 555.148 Q115.58 546.954 119.468 542.093 Q123.357 537.208 129.908 537.208 Q131.667 537.208 133.45 537.556 Q135.255 537.903 137.2 538.597 Z\" fill=\"#000000\" fill-rule=\"nonzero\" fill-opacity=\"1\" /><path clip-path=\"url(#clip030)\" d=\"M117.223 168.599 L139.445 168.599 L139.445 170.59 L126.899 203.159 L122.015 203.159 L133.82 172.534 L117.223 172.534 L117.223 168.599 Z\" fill=\"#000000\" fill-rule=\"nonzero\" fill-opacity=\"1\" /><path clip-path=\"url(#clip030)\" d=\"M21.7677 1131.83 L58.7206 1131.83 L58.7206 1124.06 Q58.7206 1114.23 54.2646 1109.67 Q49.8086 1105.09 40.1964 1105.09 Q30.6479 1105.09 26.2237 1109.67 Q21.7677 1114.23 21.7677 1124.06 L21.7677 1131.83 M16.4842 1138.26 L16.4842 1125.05 Q16.4842 1111.23 22.2451 1104.77 Q27.9743 1098.31 40.1964 1098.31 Q52.4822 1098.31 58.2432 1104.8 Q64.0042 1111.3 64.0042 1125.05 L64.0042 1138.26 L16.4842 1138.26 Z\" fill=\"#000000\" fill-rule=\"nonzero\" fill-opacity=\"1\" /><path clip-path=\"url(#clip030)\" d=\"M20.8447 1068.77 Q20.8447 1075.78 26.0645 1079.91 Q31.2844 1084.02 40.2919 1084.02 Q49.2675 1084.02 54.4874 1079.91 Q59.7073 1075.78 59.7073 1068.77 Q59.7073 1061.77 54.4874 1057.7 Q49.2675 1053.59 40.2919 1053.59 Q31.2844 1053.59 26.0645 1057.7 Q20.8447 1061.77 20.8447 1068.77 M15.6248 1068.77 Q15.6248 1058.78 22.3406 1052.8 Q29.0246 1046.81 40.2919 1046.81 Q51.5274 1046.81 58.2432 1052.8 Q64.9272 1058.78 64.9272 1068.77 Q64.9272 1078.8 58.2432 1084.82 Q51.5592 1090.8 40.2919 1090.8 Q29.0246 1090.8 22.3406 1084.82 Q15.6248 1078.8 15.6248 1068.77 Z\" fill=\"#000000\" fill-rule=\"nonzero\" fill-opacity=\"1\" /><path clip-path=\"url(#clip030)\" d=\"M20.1444 980.451 L26.9239 980.451 Q23.9002 983.697 22.4043 987.389 Q20.9083 991.05 20.9083 995.187 Q20.9083 1003.34 25.9054 1007.66 Q30.8707 1011.99 40.2919 1011.99 Q49.6813 1011.99 54.6784 1007.66 Q59.6436 1003.34 59.6436 995.187 Q59.6436 991.05 58.1477 987.389 Q56.6518 983.697 53.6281 980.451 L60.3439 980.451 Q62.6355 983.825 63.7814 987.612 Q64.9272 991.368 64.9272 995.569 Q64.9272 1006.36 58.3387 1012.57 Q51.7183 1018.77 40.2919 1018.77 Q28.8336 1018.77 22.2451 1012.57 Q15.6248 1006.36 15.6248 995.569 Q15.6248 991.304 16.7706 987.549 Q17.8846 983.761 20.1444 980.451 Z\" fill=\"#000000\" fill-rule=\"nonzero\" fill-opacity=\"1\" /><path clip-path=\"url(#clip030)\" d=\"M32.4621 956.961 Q32.4621 961.672 36.1542 964.409 Q39.8145 967.146 46.212 967.146 Q52.6095 967.146 56.3017 964.441 Q59.9619 961.704 59.9619 956.961 Q59.9619 952.283 56.2698 949.545 Q52.5777 946.808 46.212 946.808 Q39.8781 946.808 36.186 949.545 Q32.4621 952.283 32.4621 956.961 M27.4968 956.961 Q27.4968 949.323 32.4621 944.962 Q37.4273 940.601 46.212 940.601 Q54.9649 940.601 59.9619 944.962 Q64.9272 949.323 64.9272 956.961 Q64.9272 964.632 59.9619 968.993 Q54.9649 973.321 46.212 973.321 Q37.4273 973.321 32.4621 968.993 Q27.4968 964.632 27.4968 956.961 Z\" fill=\"#000000\" fill-rule=\"nonzero\" fill-opacity=\"1\" /><path clip-path=\"url(#clip030)\" d=\"M42.4881 901.261 L64.0042 901.261 L64.0042 907.118 L42.679 907.118 Q37.6183 907.118 35.1038 909.091 Q32.5894 911.065 32.5894 915.011 Q32.5894 919.754 35.6131 922.491 Q38.6368 925.228 43.8567 925.228 L64.0042 925.228 L64.0042 931.117 L28.3562 931.117 L28.3562 925.228 L33.8944 925.228 Q30.6797 923.128 29.0883 920.295 Q27.4968 917.43 27.4968 913.706 Q27.4968 907.563 31.3163 904.412 Q35.1038 901.261 42.4881 901.261 Z\" fill=\"#000000\" fill-rule=\"nonzero\" fill-opacity=\"1\" /><path clip-path=\"url(#clip030)\" d=\"M29.7248 863.927 L35.1993 863.927 Q33.8307 866.409 33.1623 868.924 Q32.4621 871.406 32.4621 873.953 Q32.4621 879.65 36.0905 882.801 Q39.6872 885.952 46.212 885.952 Q52.7369 885.952 56.3653 882.801 Q59.9619 879.65 59.9619 873.953 Q59.9619 871.406 59.2935 868.924 Q58.5933 866.409 57.2247 863.927 L62.6355 863.927 Q63.7814 866.377 64.3543 869.019 Q64.9272 871.629 64.9272 874.589 Q64.9272 882.642 59.8664 887.384 Q54.8057 892.127 46.212 892.127 Q37.491 892.127 32.4939 887.352 Q27.4968 882.546 27.4968 874.207 Q27.4968 871.502 28.0697 868.924 Q28.6108 866.346 29.7248 863.927 Z\" fill=\"#000000\" fill-rule=\"nonzero\" fill-opacity=\"1\" /><path clip-path=\"url(#clip030)\" d=\"M44.7161 823.25 L47.5806 823.25 L47.5806 850.177 Q53.6281 849.795 56.8109 846.548 Q59.9619 843.27 59.9619 837.445 Q59.9619 834.071 59.1344 830.92 Q58.3069 827.738 56.6518 824.618 L62.1899 824.618 Q63.5267 827.769 64.227 831.08 Q64.9272 834.39 64.9272 837.795 Q64.9272 846.325 59.9619 851.322 Q54.9967 856.288 46.5303 856.288 Q37.7774 856.288 32.6531 851.577 Q27.4968 846.835 27.4968 838.814 Q27.4968 831.621 32.1438 827.451 Q36.7589 823.25 44.7161 823.25 M42.9973 829.106 Q38.1912 829.17 35.3266 831.812 Q32.4621 834.422 32.4621 838.75 Q32.4621 843.652 35.2312 846.612 Q38.0002 849.54 43.0292 849.986 L42.9973 829.106 Z\" fill=\"#000000\" fill-rule=\"nonzero\" fill-opacity=\"1\" /><path clip-path=\"url(#clip030)\" d=\"M42.4881 784.005 L64.0042 784.005 L64.0042 789.862 L42.679 789.862 Q37.6183 789.862 35.1038 791.835 Q32.5894 793.808 32.5894 797.755 Q32.5894 802.497 35.6131 805.235 Q38.6368 807.972 43.8567 807.972 L64.0042 807.972 L64.0042 813.86 L28.3562 813.86 L28.3562 807.972 L33.8944 807.972 Q30.6797 805.871 29.0883 803.039 Q27.4968 800.174 27.4968 796.45 Q27.4968 790.307 31.3163 787.156 Q35.1038 784.005 42.4881 784.005 Z\" fill=\"#000000\" fill-rule=\"nonzero\" fill-opacity=\"1\" /><path clip-path=\"url(#clip030)\" d=\"M18.2347 766.531 L28.3562 766.531 L28.3562 754.468 L32.9077 754.468 L32.9077 766.531 L52.2594 766.531 Q56.6199 766.531 57.8613 765.354 Q59.1026 764.144 59.1026 760.484 L59.1026 754.468 L64.0042 754.468 L64.0042 760.484 Q64.0042 767.263 61.4897 769.841 Q58.9434 772.42 52.2594 772.42 L32.9077 772.42 L32.9077 776.716 L28.3562 776.716 L28.3562 772.42 L18.2347 772.42 L18.2347 766.531 Z\" fill=\"#000000\" fill-rule=\"nonzero\" fill-opacity=\"1\" /><path clip-path=\"url(#clip030)\" d=\"M33.8307 726.109 Q33.2578 727.096 33.0032 728.273 Q32.7167 729.419 32.7167 730.82 Q32.7167 735.785 35.9632 738.458 Q39.1779 741.1 45.2253 741.1 L64.0042 741.1 L64.0042 746.989 L28.3562 746.989 L28.3562 741.1 L33.8944 741.1 Q30.6479 739.254 29.0883 736.294 Q27.4968 733.334 27.4968 729.101 Q27.4968 728.496 27.5923 727.764 Q27.656 727.032 27.8151 726.141 L33.8307 726.109 Z\" fill=\"#000000\" fill-rule=\"nonzero\" fill-opacity=\"1\" /><path clip-path=\"url(#clip030)\" d=\"M46.0847 703.765 Q46.0847 710.863 47.7079 713.6 Q49.3312 716.338 53.2461 716.338 Q56.3653 716.338 58.2114 714.301 Q60.0256 712.232 60.0256 708.699 Q60.0256 703.829 56.5881 700.901 Q53.1188 697.941 47.3897 697.941 L46.0847 697.941 L46.0847 703.765 M43.6657 692.084 L64.0042 692.084 L64.0042 697.941 L58.5933 697.941 Q61.8398 699.946 63.3994 702.938 Q64.9272 705.93 64.9272 710.258 Q64.9272 715.733 61.8716 718.979 Q58.7843 722.194 53.6281 722.194 Q47.6125 722.194 44.5569 718.184 Q41.5014 714.141 41.5014 706.153 L41.5014 697.941 L40.9285 697.941 Q36.8862 697.941 34.6901 700.614 Q32.4621 703.256 32.4621 708.062 Q32.4621 711.118 33.1941 714.014 Q33.9262 716.911 35.3903 719.584 L29.9795 719.584 Q28.7381 716.369 28.1334 713.346 Q27.4968 710.322 27.4968 707.457 Q27.4968 699.723 31.5072 695.904 Q35.5176 692.084 43.6657 692.084 Z\" fill=\"#000000\" fill-rule=\"nonzero\" fill-opacity=\"1\" /><path clip-path=\"url(#clip030)\" d=\"M18.2347 674.228 L28.3562 674.228 L28.3562 662.165 L32.9077 662.165 L32.9077 674.228 L52.2594 674.228 Q56.6199 674.228 57.8613 673.051 Q59.1026 671.841 59.1026 668.181 L59.1026 662.165 L64.0042 662.165 L64.0042 668.181 Q64.0042 674.961 61.4897 677.539 Q58.9434 680.117 52.2594 680.117 L32.9077 680.117 L32.9077 684.414 L28.3562 684.414 L28.3562 680.117 L18.2347 680.117 L18.2347 674.228 Z\" fill=\"#000000\" fill-rule=\"nonzero\" fill-opacity=\"1\" /><path clip-path=\"url(#clip030)\" d=\"M28.3562 654.463 L28.3562 648.607 L64.0042 648.607 L64.0042 654.463 L28.3562 654.463 M14.479 654.463 L14.479 648.607 L21.895 648.607 L21.895 654.463 L14.479 654.463 Z\" fill=\"#000000\" fill-rule=\"nonzero\" fill-opacity=\"1\" /><path clip-path=\"url(#clip030)\" d=\"M32.4621 622.539 Q32.4621 627.25 36.1542 629.987 Q39.8145 632.724 46.212 632.724 Q52.6095 632.724 56.3017 630.019 Q59.9619 627.281 59.9619 622.539 Q59.9619 617.86 56.2698 615.123 Q52.5777 612.386 46.212 612.386 Q39.8781 612.386 36.186 615.123 Q32.4621 617.86 32.4621 622.539 M27.4968 622.539 Q27.4968 614.9 32.4621 610.54 Q37.4273 606.179 46.212 606.179 Q54.9649 606.179 59.9619 610.54 Q64.9272 614.9 64.9272 622.539 Q64.9272 630.21 59.9619 634.57 Q54.9649 638.899 46.212 638.899 Q37.4273 638.899 32.4621 634.57 Q27.4968 630.21 27.4968 622.539 Z\" fill=\"#000000\" fill-rule=\"nonzero\" fill-opacity=\"1\" /><path clip-path=\"url(#clip030)\" d=\"M42.4881 566.839 L64.0042 566.839 L64.0042 572.695 L42.679 572.695 Q37.6183 572.695 35.1038 574.669 Q32.5894 576.642 32.5894 580.589 Q32.5894 585.331 35.6131 588.069 Q38.6368 590.806 43.8567 590.806 L64.0042 590.806 L64.0042 596.694 L28.3562 596.694 L28.3562 590.806 L33.8944 590.806 Q30.6797 588.705 29.0883 585.872 Q27.4968 583.008 27.4968 579.284 Q27.4968 573.141 31.3163 569.99 Q35.1038 566.839 42.4881 566.839 Z\" fill=\"#000000\" fill-rule=\"nonzero\" fill-opacity=\"1\" /><path clip-path=\"url(#clip030)\" d=\"M14.5426 520.369 Q21.8632 524.634 29.0246 526.703 Q36.186 528.772 43.5384 528.772 Q50.8908 528.772 58.1159 526.703 Q65.3091 524.603 72.5979 520.369 L72.5979 525.462 Q65.1182 530.236 57.8931 532.623 Q50.668 534.979 43.5384 534.979 Q36.4406 534.979 29.2474 532.623 Q22.0542 530.268 14.5426 525.462 L14.5426 520.369 Z\" fill=\"#000000\" fill-rule=\"nonzero\" fill-opacity=\"1\" /><path clip-path=\"url(#clip030)\" d=\"M35.1993 481.252 Q31.2526 479.056 29.3747 476 Q27.4968 472.945 27.4968 468.807 Q27.4968 463.237 31.4117 460.213 Q35.2948 457.19 42.4881 457.19 L64.0042 457.19 L64.0042 463.078 L42.679 463.078 Q37.5546 463.078 35.072 464.892 Q32.5894 466.706 32.5894 470.43 Q32.5894 474.982 35.6131 477.624 Q38.6368 480.265 43.8567 480.265 L64.0042 480.265 L64.0042 486.154 L42.679 486.154 Q37.5228 486.154 35.072 487.968 Q32.5894 489.782 32.5894 493.57 Q32.5894 498.058 35.6449 500.699 Q38.6686 503.341 43.8567 503.341 L64.0042 503.341 L64.0042 509.229 L28.3562 509.229 L28.3562 503.341 L33.8944 503.341 Q30.616 501.336 29.0564 498.535 Q27.4968 495.734 27.4968 491.883 Q27.4968 488 29.4702 485.294 Q31.4436 482.557 35.1993 481.252 Z\" fill=\"#000000\" fill-rule=\"nonzero\" fill-opacity=\"1\" /><path clip-path=\"url(#clip030)\" d=\"M45.7664 422.051 Q39.4007 422.051 35.8996 424.693 Q32.3984 427.303 32.3984 432.045 Q32.3984 436.756 35.8996 439.398 Q39.4007 442.008 45.7664 442.008 Q52.1003 442.008 55.6014 439.398 Q59.1026 436.756 59.1026 432.045 Q59.1026 427.303 55.6014 424.693 Q52.1003 422.051 45.7664 422.051 M59.58 416.195 Q68.683 416.195 73.1071 420.237 Q77.5631 424.279 77.5631 432.618 Q77.5631 435.705 77.0857 438.443 Q76.6401 441.18 75.6852 443.758 L69.9879 443.758 Q71.3884 441.18 72.0568 438.666 Q72.7252 436.151 72.7252 433.541 Q72.7252 427.78 69.7015 424.916 Q66.7096 422.051 60.6303 422.051 L57.7339 422.051 Q60.885 423.865 62.4446 426.698 Q64.0042 429.531 64.0042 433.477 Q64.0042 440.034 59.0071 444.045 Q54.01 448.055 45.7664 448.055 Q37.491 448.055 32.4939 444.045 Q27.4968 440.034 27.4968 433.477 Q27.4968 429.531 29.0564 426.698 Q30.616 423.865 33.7671 422.051 L28.3562 422.051 L28.3562 416.195 L59.58 416.195 Z\" fill=\"#000000\" fill-rule=\"nonzero\" fill-opacity=\"1\" /><path clip-path=\"url(#clip030)\" d=\"M16.4842 393.724 L16.4842 388.313 L70.0516 404.864 L70.0516 410.274 L16.4842 393.724 Z\" fill=\"#000000\" fill-rule=\"nonzero\" fill-opacity=\"1\" /><path clip-path=\"url(#clip030)\" d=\"M16.4842 381.915 L16.4842 375.486 L58.5933 375.486 L58.5933 352.347 L64.0042 352.347 L64.0042 381.915 L16.4842 381.915 Z\" fill=\"#000000\" fill-rule=\"nonzero\" fill-opacity=\"1\" /><path clip-path=\"url(#clip030)\" d=\"M14.5426 346.777 L14.5426 341.684 Q22.0542 336.91 29.2474 334.554 Q36.4406 332.167 43.5384 332.167 Q50.668 332.167 57.8931 334.554 Q65.1182 336.91 72.5979 341.684 L72.5979 346.777 Q65.3091 342.543 58.1159 340.475 Q50.8908 338.374 43.5384 338.374 Q36.186 338.374 29.0246 340.475 Q21.8632 342.543 14.5426 346.777 Z\" fill=\"#000000\" fill-rule=\"nonzero\" fill-opacity=\"1\" /><polyline clip-path=\"url(#clip032)\" style=\"stroke:#009af9; stroke-linecap:round; stroke-linejoin:round; stroke-width:4; stroke-opacity:1; fill:none\" points=\"237.067,86.1857 241.175,108.234 245.283,129.918 249.392,151.244 253.5,172.214 257.608,192.834 261.716,213.106 265.824,233.036 269.932,252.627 274.04,271.883 278.149,290.807 282.257,309.405 286.365,327.679 290.473,345.634 294.581,363.272 298.689,380.598 302.797,397.616 306.905,414.329 311.014,430.74 315.122,446.853 319.23,462.672 323.338,478.201 327.446,493.441 331.554,508.398 335.662,523.074 339.771,537.472 343.879,551.597 347.987,565.45 352.095,579.036 356.203,592.358 360.311,605.418 364.419,618.221 368.527,630.768 372.636,643.063 376.744,655.109 380.852,666.909 384.96,678.467 389.068,689.784 393.176,700.864 397.284,711.709 401.393,722.324 405.501,732.709 409.609,742.869 413.717,752.806 417.825,762.522 421.933,772.021 426.041,781.305 430.149,790.376 434.258,799.237 438.366,807.892 442.474,816.342 446.582,824.589 450.69,832.637 454.798,840.488 458.906,848.145 463.015,855.609 467.123,862.883 471.231,869.97 475.339,876.872 479.447,883.591 483.555,890.13 487.663,896.49 491.771,902.674 495.88,908.685 499.988,914.524 504.096,920.194 508.204,925.697 512.312,931.035 516.42,936.209 520.528,941.223 524.637,946.078 528.745,950.777 532.853,955.321 536.961,959.712 541.069,963.952 545.177,968.044 549.285,971.988 553.393,975.788 557.502,979.445 561.61,982.961 565.718,986.337 569.826,989.576 573.934,992.679 578.042,995.649 582.15,998.486 586.259,1001.19 590.367,1003.77 594.475,1006.22 598.583,1008.55 602.691,1010.75 606.799,1012.83 610.907,1014.8 615.015,1016.64 619.124,1018.36 623.232,1019.98 627.34,1021.47 631.448,1022.86 635.556,1024.13 639.664,1025.3 643.772,1026.35 647.881,1027.3 651.989,1028.15 656.097,1028.89 660.205,1029.53 664.313,1030.08 668.421,1030.52 672.529,1030.86 676.637,1031.11 680.746,1031.27 684.854,1031.33 688.962,1031.3 693.07,1031.17 697.178,1030.96 701.286,1030.66 705.394,1030.27 709.503,1029.8 713.611,1029.25 717.719,1028.61 721.827,1027.88 725.935,1027.08 730.043,1026.2 734.151,1025.24 738.259,1024.2 742.368,1023.09 746.476,1021.9 750.584,1020.64 754.692,1019.3 758.8,1017.9 762.908,1016.42 767.016,1014.87 771.125,1013.26 775.233,1011.58 779.341,1009.83 783.449,1008.02 787.557,1006.14 791.665,1004.2 795.773,1002.2 799.881,1000.14 803.99,998.013 808.098,995.831 812.206,993.59 816.314,991.291 820.422,988.937 824.53,986.527 828.638,984.062 832.747,981.544 836.855,978.973 840.963,976.35 845.071,973.676 849.179,970.952 853.287,968.178 857.395,976.793 861.503,989.966 865.612,1002.86 869.72,1015.48 873.828,1027.83 877.936,1039.91 882.044,1051.73 886.152,1063.29 890.26,1074.58 894.369,1085.63 898.477,1096.42 902.585,1106.96 906.693,1117.26 910.801,1127.31 914.909,1137.12 919.017,1146.7 923.125,1156.05 927.234,1165.16 931.342,1174.05 935.45,1182.71 939.558,1191.14 943.666,1199.36 947.774,1207.36 951.882,1215.15 955.991,1222.73 960.099,1230.1 964.207,1237.26 968.315,1244.22 972.423,1250.97 976.531,1257.53 980.639,1263.9 984.747,1270.07 988.856,1276.05 992.964,1281.84 997.072,1287.44 1001.18,1292.87 1005.29,1298.11 1009.4,1303.17 1013.5,1308.06 1017.61,1312.77 1021.72,1317.31 1025.83,1321.68 1029.94,1325.88 1034.05,1329.92 1038.15,1333.79 1042.26,1337.51 1046.37,1341.06 1050.48,1344.46 1054.59,1347.71 1058.69,1350.8 1062.8,1353.74 1066.91,1356.53 1071.02,1359.18 1075.13,1361.68 1079.23,1364.04 1083.34,1366.26 1087.45,1368.34 1091.56,1370.28 1095.67,1372.09 1099.78,1373.76 1103.88,1375.31 1107.99,1376.72 1112.1,1378.01 1116.21,1379.17 1120.32,1380.21 1124.42,1381.12 1128.53,1381.92 1132.64,1382.59 1136.75,1383.15 1140.86,1383.59 1144.96,1383.92 1149.07,1384.13 1153.18,1384.24 1157.29,1384.23 1161.4,1384.12 1165.51,1383.9 1169.61,1383.58 1173.72,1383.15 1177.83,1382.63 1181.94,1382 1186.05,1381.27 1190.15,1380.45 1194.26,1379.53 1198.37,1378.52 1202.48,1377.41 1206.59,1376.21 1210.69,1374.92 1214.8,1373.55 1218.91,1372.08 1223.02,1370.53 1227.13,1368.9 1231.24,1367.18 1235.34,1365.38 1239.45,1363.49 1243.56,1361.53 1247.67,1359.49 1251.78,1357.37 1255.88,1355.18 1259.99,1352.91 1264.1,1350.57 1268.21,1348.15 1272.32,1345.66 1276.42,1343.11 1280.53,1340.48 1284.64,1337.79 1288.75,1335.03 1292.86,1332.2 1296.97,1329.31 1301.07,1326.35 1305.18,1323.33 1309.29,1320.25 1313.4,1317.11 1317.51,1313.91 1321.61,1310.66 1325.72,1307.34 1329.83,1303.97 1333.94,1300.54 1338.05,1297.06 1342.16,1293.52 1346.26,1289.93 1350.37,1286.29 1354.48,1282.6 1358.59,1278.86 1362.7,1275.06 1366.8,1271.22 1370.91,1267.34 1375.02,1263.4 1379.13,1259.43 1383.24,1255.4 1387.34,1251.33 1391.45,1247.22 1395.56,1243.07 1399.67,1238.87 1403.78,1234.64 1407.89,1230.36 1411.99,1226.05 1416.1,1221.7 1420.21,1217.3 1424.32,1212.88 1428.43,1208.41 1432.53,1203.91 1436.64,1199.38 1440.75,1194.81 1444.86,1190.21 1448.97,1185.57 1453.07,1180.91 1457.18,1176.21 1461.29,1171.48 1465.4,1166.72 1469.51,1161.94 1473.62,1157.12 1477.72,1152.28 1481.83,1147.41 1485.94,1142.51 1490.05,1137.58 1494.16,1132.63 1498.26,1127.66 1502.37,1122.66 1506.48,1117.64 1510.59,1112.59 1514.7,1107.52 1518.8,1102.43 1522.91,1097.32 1527.02,1092.19 1531.13,1087.04 1535.24,1081.86 1539.35,1076.67 1543.45,1071.46 1547.56,1066.23 1551.67,1060.98 1555.78,1055.72 1559.89,1050.44 1563.99,1045.14 1568.1,1039.82 1572.21,1034.5 1576.32,1029.15 1580.43,1023.79 1584.53,1018.42 1588.64,1013.04 1592.75,1007.64 1596.86,1002.23 1600.97,996.802 1605.08,991.367 1609.18,985.921 1613.29,980.463 1617.4,974.995 1621.51,969.518 1625.62,964.03 1629.72,958.533 1633.83,953.027 1637.94,947.513 1642.05,941.991 1646.16,936.461 1650.27,930.923 1654.37,925.379 1658.48,919.828 1662.59,914.271 1666.7,908.707 1670.81,903.138 1674.91,897.564 1679.02,891.985 1683.13,886.402 1687.24,880.814 1691.35,875.222 1695.45,869.627 1699.56,864.029 1703.67,858.427 1707.78,852.823 1711.89,847.216 1716,841.608 1720.1,835.997 1724.21,830.385 1728.32,824.772 1732.43,819.158 1736.54,813.544 1740.64,807.929 1744.75,802.313 1748.86,796.698 1752.97,791.084 1757.08,785.47 1761.18,779.857 1765.29,774.246 1769.4,768.636 1773.51,763.027 1777.62,757.42 1781.73,751.816 1785.83,746.214 1789.94,740.615 1794.05,735.018 1798.16,729.425 1802.27,723.834 1806.37,718.248 1810.48,712.665 1814.59,707.086 1818.7,701.511 1822.81,695.94 1826.91,690.374 1831.02,684.813 1835.13,679.257 1839.24,673.705 1843.35,668.159 1847.46,662.619 1851.56,657.084 1855.67,651.555 1859.78,646.033 1863.89,640.516 1868,635.006 1872.1,629.502 1876.21,624.005 1880.32,618.515 1884.43,613.031 1888.54,607.556 1892.64,602.087 1896.75,596.626 1900.86,591.172 1904.97,585.727 1909.08,580.289 1913.19,574.859 1917.29,569.438 1921.4,564.025 1925.51,558.62 1929.62,553.224 1933.73,547.837 1937.83,542.458 1941.94,537.089 1946.05,531.729 1950.16,526.378 1954.27,521.036 1958.38,515.704 1962.48,510.381 1966.59,505.069 1970.7,499.766 1974.81,494.472 1978.92,489.189 1983.02,483.916 1987.13,478.654 1991.24,473.401 1995.35,468.16 1999.46,462.928 2003.56,457.707 2007.67,452.497 2011.78,447.298 2015.89,442.11 2020,436.933 2024.11,431.766 2028.21,426.611 2032.32,421.468 2036.43,416.335 2040.54,411.214 2044.65,406.104 2048.75,401.006 2052.86,395.92 2056.97,390.845 2061.08,385.782 2065.19,380.731 2069.29,375.692 2073.4,370.665 2077.51,365.65 2081.62,360.646 2085.73,355.656 2089.84,350.677 2093.94,345.71 2098.05,340.756 2102.16,335.815 2106.27,330.885 2110.38,325.969 2114.48,321.065 2118.59,316.173 2122.7,311.294 2126.81,306.428 2130.92,301.574 2135.02,296.734 2139.13,291.906 2143.24,287.091 2147.35,282.289 2151.46,277.5 2155.57,272.724 2159.67,267.96 2163.78,263.21 2167.89,258.474 2172,253.75 2176.11,249.039 2180.21,244.342 2184.32,239.658 2188.43,234.987 2192.54,230.329 2196.65,225.685 2200.75,221.054 2204.86,216.437 2208.97,211.833 2213.08,207.242 2217.19,202.665 2221.3,198.101 2225.4,193.551 2229.51,189.014 2233.62,184.491 2237.73,179.981 2241.84,175.485 2245.94,171.002 2250.05,166.533 2254.16,162.078 2258.27,157.636 2262.38,153.208 2266.49,148.794 2270.59,144.393 2274.7,140.006 2278.81,135.633 2282.92,131.273 2287.03,126.927 2291.13,122.594 \"/>\n",
              "</svg>\n"
            ],
            "text/html": [
              "<?xml version=\"1.0\" encoding=\"utf-8\"?>\n",
              "<svg xmlns=\"http://www.w3.org/2000/svg\" xmlns:xlink=\"http://www.w3.org/1999/xlink\" width=\"600\" height=\"400\" viewBox=\"0 0 2400 1600\">\n",
              "<defs>\n",
              "  <clipPath id=\"clip080\">\n",
              "    <rect x=\"0\" y=\"0\" width=\"2400\" height=\"1600\"/>\n",
              "  </clipPath>\n",
              "</defs>\n",
              "<path clip-path=\"url(#clip080)\" d=\"M0 1600 L2400 1600 L2400 0 L0 0  Z\" fill=\"#ffffff\" fill-rule=\"evenodd\" fill-opacity=\"1\"/>\n",
              "<defs>\n",
              "  <clipPath id=\"clip081\">\n",
              "    <rect x=\"480\" y=\"0\" width=\"1681\" height=\"1600\"/>\n",
              "  </clipPath>\n",
              "</defs>\n",
              "<path clip-path=\"url(#clip080)\" d=\"M175.445 1423.18 L2352.76 1423.18 L2352.76 47.2441 L175.445 47.2441  Z\" fill=\"#ffffff\" fill-rule=\"evenodd\" fill-opacity=\"1\"/>\n",
              "<defs>\n",
              "  <clipPath id=\"clip082\">\n",
              "    <rect x=\"175\" y=\"47\" width=\"2178\" height=\"1377\"/>\n",
              "  </clipPath>\n",
              "</defs>\n",
              "<polyline clip-path=\"url(#clip082)\" style=\"stroke:#000000; stroke-linecap:round; stroke-linejoin:round; stroke-width:2; stroke-opacity:0.1; fill:none\" points=\"237.067,1423.18 237.067,47.2441 \"/>\n",
              "<polyline clip-path=\"url(#clip082)\" style=\"stroke:#000000; stroke-linecap:round; stroke-linejoin:round; stroke-width:2; stroke-opacity:0.1; fill:none\" points=\"647.881,1423.18 647.881,47.2441 \"/>\n",
              "<polyline clip-path=\"url(#clip082)\" style=\"stroke:#000000; stroke-linecap:round; stroke-linejoin:round; stroke-width:2; stroke-opacity:0.1; fill:none\" points=\"1058.69,1423.18 1058.69,47.2441 \"/>\n",
              "<polyline clip-path=\"url(#clip082)\" style=\"stroke:#000000; stroke-linecap:round; stroke-linejoin:round; stroke-width:2; stroke-opacity:0.1; fill:none\" points=\"1469.51,1423.18 1469.51,47.2441 \"/>\n",
              "<polyline clip-path=\"url(#clip082)\" style=\"stroke:#000000; stroke-linecap:round; stroke-linejoin:round; stroke-width:2; stroke-opacity:0.1; fill:none\" points=\"1880.32,1423.18 1880.32,47.2441 \"/>\n",
              "<polyline clip-path=\"url(#clip082)\" style=\"stroke:#000000; stroke-linecap:round; stroke-linejoin:round; stroke-width:2; stroke-opacity:0.1; fill:none\" points=\"2291.13,1423.18 2291.13,47.2441 \"/>\n",
              "<polyline clip-path=\"url(#clip080)\" style=\"stroke:#000000; stroke-linecap:round; stroke-linejoin:round; stroke-width:4; stroke-opacity:1; fill:none\" points=\"175.445,1423.18 2352.76,1423.18 \"/>\n",
              "<polyline clip-path=\"url(#clip080)\" style=\"stroke:#000000; stroke-linecap:round; stroke-linejoin:round; stroke-width:4; stroke-opacity:1; fill:none\" points=\"237.067,1423.18 237.067,1404.28 \"/>\n",
              "<polyline clip-path=\"url(#clip080)\" style=\"stroke:#000000; stroke-linecap:round; stroke-linejoin:round; stroke-width:4; stroke-opacity:1; fill:none\" points=\"647.881,1423.18 647.881,1404.28 \"/>\n",
              "<polyline clip-path=\"url(#clip080)\" style=\"stroke:#000000; stroke-linecap:round; stroke-linejoin:round; stroke-width:4; stroke-opacity:1; fill:none\" points=\"1058.69,1423.18 1058.69,1404.28 \"/>\n",
              "<polyline clip-path=\"url(#clip080)\" style=\"stroke:#000000; stroke-linecap:round; stroke-linejoin:round; stroke-width:4; stroke-opacity:1; fill:none\" points=\"1469.51,1423.18 1469.51,1404.28 \"/>\n",
              "<polyline clip-path=\"url(#clip080)\" style=\"stroke:#000000; stroke-linecap:round; stroke-linejoin:round; stroke-width:4; stroke-opacity:1; fill:none\" points=\"1880.32,1423.18 1880.32,1404.28 \"/>\n",
              "<polyline clip-path=\"url(#clip080)\" style=\"stroke:#000000; stroke-linecap:round; stroke-linejoin:round; stroke-width:4; stroke-opacity:1; fill:none\" points=\"2291.13,1423.18 2291.13,1404.28 \"/>\n",
              "<path clip-path=\"url(#clip080)\" d=\"M237.067 1454.1 Q233.456 1454.1 231.627 1457.66 Q229.822 1461.2 229.822 1468.33 Q229.822 1475.44 231.627 1479.01 Q233.456 1482.55 237.067 1482.55 Q240.701 1482.55 242.507 1479.01 Q244.336 1475.44 244.336 1468.33 Q244.336 1461.2 242.507 1457.66 Q240.701 1454.1 237.067 1454.1 M237.067 1450.39 Q242.877 1450.39 245.933 1455 Q249.012 1459.58 249.012 1468.33 Q249.012 1477.06 245.933 1481.67 Q242.877 1486.25 237.067 1486.25 Q231.257 1486.25 228.178 1481.67 Q225.123 1477.06 225.123 1468.33 Q225.123 1459.58 228.178 1455 Q231.257 1450.39 237.067 1450.39 Z\" fill=\"#000000\" fill-rule=\"nonzero\" fill-opacity=\"1\" /><path clip-path=\"url(#clip080)\" d=\"M622.568 1481.64 L630.207 1481.64 L630.207 1455.28 L621.897 1456.95 L621.897 1452.69 L630.161 1451.02 L634.837 1451.02 L634.837 1481.64 L642.475 1481.64 L642.475 1485.58 L622.568 1485.58 L622.568 1481.64 Z\" fill=\"#000000\" fill-rule=\"nonzero\" fill-opacity=\"1\" /><path clip-path=\"url(#clip080)\" d=\"M661.92 1454.1 Q658.309 1454.1 656.48 1457.66 Q654.674 1461.2 654.674 1468.33 Q654.674 1475.44 656.48 1479.01 Q658.309 1482.55 661.92 1482.55 Q665.554 1482.55 667.36 1479.01 Q669.188 1475.44 669.188 1468.33 Q669.188 1461.2 667.36 1457.66 Q665.554 1454.1 661.92 1454.1 M661.92 1450.39 Q667.73 1450.39 670.786 1455 Q673.864 1459.58 673.864 1468.33 Q673.864 1477.06 670.786 1481.67 Q667.73 1486.25 661.92 1486.25 Q656.11 1486.25 653.031 1481.67 Q649.975 1477.06 649.975 1468.33 Q649.975 1459.58 653.031 1455 Q656.11 1450.39 661.92 1450.39 Z\" fill=\"#000000\" fill-rule=\"nonzero\" fill-opacity=\"1\" /><path clip-path=\"url(#clip080)\" d=\"M1037.47 1481.64 L1053.79 1481.64 L1053.79 1485.58 L1031.84 1485.58 L1031.84 1481.64 Q1034.5 1478.89 1039.09 1474.26 Q1043.69 1469.61 1044.87 1468.27 Q1047.12 1465.74 1048 1464.01 Q1048.9 1462.25 1048.9 1460.56 Q1048.9 1457.8 1046.96 1456.07 Q1045.04 1454.33 1041.93 1454.33 Q1039.74 1454.33 1037.28 1455.09 Q1034.85 1455.86 1032.07 1457.41 L1032.07 1452.69 Q1034.9 1451.55 1037.35 1450.97 Q1039.81 1450.39 1041.84 1450.39 Q1047.21 1450.39 1050.41 1453.08 Q1053.6 1455.77 1053.6 1460.26 Q1053.6 1462.39 1052.79 1464.31 Q1052 1466.2 1049.9 1468.8 Q1049.32 1469.47 1046.22 1472.69 Q1043.12 1475.88 1037.47 1481.64 Z\" fill=\"#000000\" fill-rule=\"nonzero\" fill-opacity=\"1\" /><path clip-path=\"url(#clip080)\" d=\"M1073.6 1454.1 Q1069.99 1454.1 1068.16 1457.66 Q1066.36 1461.2 1066.36 1468.33 Q1066.36 1475.44 1068.16 1479.01 Q1069.99 1482.55 1073.6 1482.55 Q1077.24 1482.55 1079.04 1479.01 Q1080.87 1475.44 1080.87 1468.33 Q1080.87 1461.2 1079.04 1457.66 Q1077.24 1454.1 1073.6 1454.1 M1073.6 1450.39 Q1079.41 1450.39 1082.47 1455 Q1085.55 1459.58 1085.55 1468.33 Q1085.55 1477.06 1082.47 1481.67 Q1079.41 1486.25 1073.6 1486.25 Q1067.79 1486.25 1064.71 1481.67 Q1061.66 1477.06 1061.66 1468.33 Q1061.66 1459.58 1064.71 1455 Q1067.79 1450.39 1073.6 1450.39 Z\" fill=\"#000000\" fill-rule=\"nonzero\" fill-opacity=\"1\" /><path clip-path=\"url(#clip080)\" d=\"M1458.35 1466.95 Q1461.71 1467.66 1463.58 1469.93 Q1465.48 1472.2 1465.48 1475.53 Q1465.48 1480.65 1461.96 1483.45 Q1458.44 1486.25 1451.96 1486.25 Q1449.79 1486.25 1447.47 1485.81 Q1445.18 1485.39 1442.72 1484.54 L1442.72 1480.02 Q1444.67 1481.16 1446.98 1481.74 Q1449.3 1482.32 1451.82 1482.32 Q1456.22 1482.32 1458.51 1480.58 Q1460.83 1478.84 1460.83 1475.53 Q1460.83 1472.48 1458.67 1470.77 Q1456.54 1469.03 1452.72 1469.03 L1448.7 1469.03 L1448.7 1465.19 L1452.91 1465.19 Q1456.36 1465.19 1458.19 1463.82 Q1460.02 1462.43 1460.02 1459.84 Q1460.02 1457.18 1458.12 1455.77 Q1456.24 1454.33 1452.72 1454.33 Q1450.8 1454.33 1448.6 1454.75 Q1446.41 1455.16 1443.77 1456.04 L1443.77 1451.88 Q1446.43 1451.14 1448.74 1450.77 Q1451.08 1450.39 1453.14 1450.39 Q1458.47 1450.39 1461.57 1452.83 Q1464.67 1455.23 1464.67 1459.35 Q1464.67 1462.22 1463.03 1464.21 Q1461.38 1466.18 1458.35 1466.95 Z\" fill=\"#000000\" fill-rule=\"nonzero\" fill-opacity=\"1\" /><path clip-path=\"url(#clip080)\" d=\"M1484.35 1454.1 Q1480.73 1454.1 1478.91 1457.66 Q1477.1 1461.2 1477.1 1468.33 Q1477.1 1475.44 1478.91 1479.01 Q1480.73 1482.55 1484.35 1482.55 Q1487.98 1482.55 1489.78 1479.01 Q1491.61 1475.44 1491.61 1468.33 Q1491.61 1461.2 1489.78 1457.66 Q1487.98 1454.1 1484.35 1454.1 M1484.35 1450.39 Q1490.16 1450.39 1493.21 1455 Q1496.29 1459.58 1496.29 1468.33 Q1496.29 1477.06 1493.21 1481.67 Q1490.16 1486.25 1484.35 1486.25 Q1478.53 1486.25 1475.46 1481.67 Q1472.4 1477.06 1472.4 1468.33 Q1472.4 1459.58 1475.46 1455 Q1478.53 1450.39 1484.35 1450.39 Z\" fill=\"#000000\" fill-rule=\"nonzero\" fill-opacity=\"1\" /><path clip-path=\"url(#clip080)\" d=\"M1868.49 1455.09 L1856.69 1473.54 L1868.49 1473.54 L1868.49 1455.09 M1867.27 1451.02 L1873.14 1451.02 L1873.14 1473.54 L1878.08 1473.54 L1878.08 1477.43 L1873.14 1477.43 L1873.14 1485.58 L1868.49 1485.58 L1868.49 1477.43 L1852.89 1477.43 L1852.89 1472.92 L1867.27 1451.02 Z\" fill=\"#000000\" fill-rule=\"nonzero\" fill-opacity=\"1\" /><path clip-path=\"url(#clip080)\" d=\"M1895.81 1454.1 Q1892.2 1454.1 1890.37 1457.66 Q1888.56 1461.2 1888.56 1468.33 Q1888.56 1475.44 1890.37 1479.01 Q1892.2 1482.55 1895.81 1482.55 Q1899.44 1482.55 1901.25 1479.01 Q1903.08 1475.44 1903.08 1468.33 Q1903.08 1461.2 1901.25 1457.66 Q1899.44 1454.1 1895.81 1454.1 M1895.81 1450.39 Q1901.62 1450.39 1904.67 1455 Q1907.75 1459.58 1907.75 1468.33 Q1907.75 1477.06 1904.67 1481.67 Q1901.62 1486.25 1895.81 1486.25 Q1890 1486.25 1886.92 1481.67 Q1883.86 1477.06 1883.86 1468.33 Q1883.86 1459.58 1886.92 1455 Q1890 1450.39 1895.81 1450.39 Z\" fill=\"#000000\" fill-rule=\"nonzero\" fill-opacity=\"1\" /><path clip-path=\"url(#clip080)\" d=\"M2265.83 1451.02 L2284.19 1451.02 L2284.19 1454.96 L2270.12 1454.96 L2270.12 1463.43 Q2271.13 1463.08 2272.15 1462.92 Q2273.17 1462.73 2274.19 1462.73 Q2279.98 1462.73 2283.36 1465.9 Q2286.74 1469.08 2286.74 1474.49 Q2286.74 1480.07 2283.26 1483.17 Q2279.79 1486.25 2273.47 1486.25 Q2271.3 1486.25 2269.03 1485.88 Q2266.78 1485.51 2264.37 1484.77 L2264.37 1480.07 Q2266.46 1481.2 2268.68 1481.76 Q2270.9 1482.32 2273.38 1482.32 Q2277.38 1482.32 2279.72 1480.21 Q2282.06 1478.1 2282.06 1474.49 Q2282.06 1470.88 2279.72 1468.77 Q2277.38 1466.67 2273.38 1466.67 Q2271.5 1466.67 2269.63 1467.08 Q2267.78 1467.5 2265.83 1468.38 L2265.83 1451.02 Z\" fill=\"#000000\" fill-rule=\"nonzero\" fill-opacity=\"1\" /><path clip-path=\"url(#clip080)\" d=\"M2305.95 1454.1 Q2302.34 1454.1 2300.51 1457.66 Q2298.7 1461.2 2298.7 1468.33 Q2298.7 1475.44 2300.51 1479.01 Q2302.34 1482.55 2305.95 1482.55 Q2309.58 1482.55 2311.39 1479.01 Q2313.22 1475.44 2313.22 1468.33 Q2313.22 1461.2 2311.39 1457.66 Q2309.58 1454.1 2305.95 1454.1 M2305.95 1450.39 Q2311.76 1450.39 2314.81 1455 Q2317.89 1459.58 2317.89 1468.33 Q2317.89 1477.06 2314.81 1481.67 Q2311.76 1486.25 2305.95 1486.25 Q2300.14 1486.25 2297.06 1481.67 Q2294 1477.06 2294 1468.33 Q2294 1459.58 2297.06 1455 Q2300.14 1450.39 2305.95 1450.39 Z\" fill=\"#000000\" fill-rule=\"nonzero\" fill-opacity=\"1\" /><path clip-path=\"url(#clip080)\" d=\"M830.676 1525.81 L830.676 1562.76 L838.442 1562.76 Q848.277 1562.76 852.828 1558.3 Q857.411 1553.85 857.411 1544.24 Q857.411 1534.69 852.828 1530.26 Q848.277 1525.81 838.442 1525.81 L830.676 1525.81 M824.246 1520.52 L837.455 1520.52 Q851.269 1520.52 857.73 1526.28 Q864.191 1532.01 864.191 1544.24 Q864.191 1556.52 857.698 1562.28 Q851.205 1568.04 837.455 1568.04 L824.246 1568.04 L824.246 1520.52 Z\" fill=\"#000000\" fill-rule=\"nonzero\" fill-opacity=\"1\" /><path clip-path=\"url(#clip080)\" d=\"M874.185 1532.4 L880.042 1532.4 L880.042 1568.04 L874.185 1568.04 L874.185 1532.4 M874.185 1518.52 L880.042 1518.52 L880.042 1525.93 L874.185 1525.93 L874.185 1518.52 Z\" fill=\"#000000\" fill-rule=\"nonzero\" fill-opacity=\"1\" /><path clip-path=\"url(#clip080)\" d=\"M915.021 1533.45 L915.021 1538.98 Q912.538 1537.71 909.865 1537.07 Q907.191 1536.44 904.327 1536.44 Q899.966 1536.44 897.77 1537.77 Q895.606 1539.11 895.606 1541.79 Q895.606 1543.82 897.165 1545 Q898.725 1546.15 903.436 1547.2 L905.441 1547.64 Q911.679 1548.98 914.289 1551.43 Q916.931 1553.85 916.931 1558.21 Q916.931 1563.17 912.984 1566.07 Q909.069 1568.97 902.194 1568.97 Q899.33 1568.97 896.21 1568.39 Q893.123 1567.85 889.686 1566.74 L889.686 1560.69 Q892.932 1562.38 896.083 1563.24 Q899.234 1564.07 902.322 1564.07 Q906.459 1564.07 908.687 1562.66 Q910.915 1561.23 910.915 1558.65 Q910.915 1556.27 909.292 1554.99 Q907.701 1553.72 902.258 1552.54 L900.221 1552.07 Q894.778 1550.92 892.359 1548.56 Q889.94 1546.18 889.94 1542.04 Q889.94 1537.01 893.505 1534.27 Q897.07 1531.54 903.627 1531.54 Q906.873 1531.54 909.738 1532.01 Q912.602 1532.49 915.021 1533.45 Z\" fill=\"#000000\" fill-rule=\"nonzero\" fill-opacity=\"1\" /><path clip-path=\"url(#clip080)\" d=\"M932.049 1522.27 L932.049 1532.4 L944.112 1532.4 L944.112 1536.95 L932.049 1536.95 L932.049 1556.3 Q932.049 1560.66 933.227 1561.9 Q934.437 1563.14 938.097 1563.14 L944.112 1563.14 L944.112 1568.04 L938.097 1568.04 Q931.317 1568.04 928.739 1565.53 Q926.161 1562.98 926.161 1556.3 L926.161 1536.95 L921.864 1536.95 L921.864 1532.4 L926.161 1532.4 L926.161 1522.27 L932.049 1522.27 Z\" fill=\"#000000\" fill-rule=\"nonzero\" fill-opacity=\"1\" /><path clip-path=\"url(#clip080)\" d=\"M968.016 1550.12 Q960.918 1550.12 958.181 1551.75 Q955.443 1553.37 955.443 1557.29 Q955.443 1560.4 957.48 1562.25 Q959.549 1564.07 963.082 1564.07 Q967.952 1564.07 970.88 1560.63 Q973.84 1557.16 973.84 1551.43 L973.84 1550.12 L968.016 1550.12 M979.697 1547.71 L979.697 1568.04 L973.84 1568.04 L973.84 1562.63 Q971.835 1565.88 968.843 1567.44 Q965.851 1568.97 961.523 1568.97 Q956.048 1568.97 952.802 1565.91 Q949.587 1562.82 949.587 1557.67 Q949.587 1551.65 953.597 1548.6 Q957.64 1545.54 965.628 1545.54 L973.84 1545.54 L973.84 1544.97 Q973.84 1540.93 971.167 1538.73 Q968.525 1536.5 963.719 1536.5 Q960.663 1536.5 957.767 1537.23 Q954.87 1537.97 952.197 1539.43 L952.197 1534.02 Q955.412 1532.78 958.435 1532.17 Q961.459 1531.54 964.324 1531.54 Q972.058 1531.54 975.877 1535.55 Q979.697 1539.56 979.697 1547.71 Z\" fill=\"#000000\" fill-rule=\"nonzero\" fill-opacity=\"1\" /><path clip-path=\"url(#clip080)\" d=\"M1021.39 1546.53 L1021.39 1568.04 L1015.54 1568.04 L1015.54 1546.72 Q1015.54 1541.66 1013.56 1539.14 Q1011.59 1536.63 1007.64 1536.63 Q1002.9 1536.63 1000.16 1539.65 Q997.425 1542.68 997.425 1547.9 L997.425 1568.04 L991.537 1568.04 L991.537 1532.4 L997.425 1532.4 L997.425 1537.93 Q999.526 1534.72 1002.36 1533.13 Q1005.22 1531.54 1008.95 1531.54 Q1015.09 1531.54 1018.24 1535.36 Q1021.39 1539.14 1021.39 1546.53 Z\" fill=\"#000000\" fill-rule=\"nonzero\" fill-opacity=\"1\" /><path clip-path=\"url(#clip080)\" d=\"M1058.73 1533.76 L1058.73 1539.24 Q1056.24 1537.87 1053.73 1537.2 Q1051.25 1536.5 1048.7 1536.5 Q1043 1536.5 1039.85 1540.13 Q1036.7 1543.73 1036.7 1550.25 Q1036.7 1556.78 1039.85 1560.4 Q1043 1564 1048.7 1564 Q1051.25 1564 1053.73 1563.33 Q1056.24 1562.63 1058.73 1561.26 L1058.73 1566.68 Q1056.28 1567.82 1053.63 1568.39 Q1051.02 1568.97 1048.06 1568.97 Q1040.01 1568.97 1035.27 1563.91 Q1030.53 1558.85 1030.53 1550.25 Q1030.53 1541.53 1035.3 1536.53 Q1040.11 1531.54 1048.45 1531.54 Q1051.15 1531.54 1053.73 1532.11 Q1056.31 1532.65 1058.73 1533.76 Z\" fill=\"#000000\" fill-rule=\"nonzero\" fill-opacity=\"1\" /><path clip-path=\"url(#clip080)\" d=\"M1099.4 1548.76 L1099.4 1551.62 L1072.48 1551.62 Q1072.86 1557.67 1076.11 1560.85 Q1079.38 1564 1085.21 1564 Q1088.58 1564 1091.73 1563.17 Q1094.92 1562.35 1098.04 1560.69 L1098.04 1566.23 Q1094.88 1567.57 1091.57 1568.27 Q1088.26 1568.97 1084.86 1568.97 Q1076.33 1568.97 1071.33 1564 Q1066.37 1559.04 1066.37 1550.57 Q1066.37 1541.82 1071.08 1536.69 Q1075.82 1531.54 1083.84 1531.54 Q1091.03 1531.54 1095.2 1536.18 Q1099.4 1540.8 1099.4 1548.76 M1093.55 1547.04 Q1093.48 1542.23 1090.84 1539.37 Q1088.23 1536.5 1083.9 1536.5 Q1079 1536.5 1076.04 1539.27 Q1073.11 1542.04 1072.67 1547.07 L1093.55 1547.04 Z\" fill=\"#000000\" fill-rule=\"nonzero\" fill-opacity=\"1\" /><path clip-path=\"url(#clip080)\" d=\"M1136.42 1525.81 L1136.42 1562.76 L1144.19 1562.76 Q1154.02 1562.76 1158.57 1558.3 Q1163.16 1553.85 1163.16 1544.24 Q1163.16 1534.69 1158.57 1530.26 Q1154.02 1525.81 1144.19 1525.81 L1136.42 1525.81 M1129.99 1520.52 L1143.2 1520.52 Q1157.01 1520.52 1163.47 1526.28 Q1169.94 1532.01 1169.94 1544.24 Q1169.94 1556.52 1163.44 1562.28 Q1156.95 1568.04 1143.2 1568.04 L1129.99 1568.04 L1129.99 1520.52 Z\" fill=\"#000000\" fill-rule=\"nonzero\" fill-opacity=\"1\" /><path clip-path=\"url(#clip080)\" d=\"M1193.74 1536.5 Q1189.03 1536.5 1186.3 1540.19 Q1183.56 1543.85 1183.56 1550.25 Q1183.56 1556.65 1186.26 1560.34 Q1189 1564 1193.74 1564 Q1198.42 1564 1201.16 1560.31 Q1203.9 1556.62 1203.9 1550.25 Q1203.9 1543.92 1201.16 1540.23 Q1198.42 1536.5 1193.74 1536.5 M1193.74 1531.54 Q1201.38 1531.54 1205.74 1536.5 Q1210.1 1541.47 1210.1 1550.25 Q1210.1 1559 1205.74 1564 Q1201.38 1568.97 1193.74 1568.97 Q1186.07 1568.97 1181.71 1564 Q1177.38 1559 1177.38 1550.25 Q1177.38 1541.47 1181.71 1536.5 Q1186.07 1531.54 1193.74 1531.54 Z\" fill=\"#000000\" fill-rule=\"nonzero\" fill-opacity=\"1\" /><path clip-path=\"url(#clip080)\" d=\"M1216.41 1532.4 L1222.26 1532.4 L1229.58 1560.21 L1236.87 1532.4 L1243.78 1532.4 L1251.1 1560.21 L1258.39 1532.4 L1264.24 1532.4 L1254.92 1568.04 L1248.01 1568.04 L1240.34 1538.83 L1232.64 1568.04 L1225.73 1568.04 L1216.41 1532.4 Z\" fill=\"#000000\" fill-rule=\"nonzero\" fill-opacity=\"1\" /><path clip-path=\"url(#clip080)\" d=\"M1302.76 1546.53 L1302.76 1568.04 L1296.9 1568.04 L1296.9 1546.72 Q1296.9 1541.66 1294.93 1539.14 Q1292.95 1536.63 1289.01 1536.63 Q1284.26 1536.63 1281.53 1539.65 Q1278.79 1542.68 1278.79 1547.9 L1278.79 1568.04 L1272.9 1568.04 L1272.9 1532.4 L1278.79 1532.4 L1278.79 1537.93 Q1280.89 1534.72 1283.72 1533.13 Q1286.59 1531.54 1290.31 1531.54 Q1296.45 1531.54 1299.61 1535.36 Q1302.76 1539.14 1302.76 1546.53 Z\" fill=\"#000000\" fill-rule=\"nonzero\" fill-opacity=\"1\" /><path clip-path=\"url(#clip080)\" d=\"M1337.16 1533.45 L1337.16 1538.98 Q1334.68 1537.71 1332.01 1537.07 Q1329.33 1536.44 1326.47 1536.44 Q1322.11 1536.44 1319.91 1537.77 Q1317.75 1539.11 1317.75 1541.79 Q1317.75 1543.82 1319.31 1545 Q1320.87 1546.15 1325.58 1547.2 L1327.58 1547.64 Q1333.82 1548.98 1336.43 1551.43 Q1339.07 1553.85 1339.07 1558.21 Q1339.07 1563.17 1335.13 1566.07 Q1331.21 1568.97 1324.34 1568.97 Q1321.47 1568.97 1318.35 1568.39 Q1315.26 1567.85 1311.83 1566.74 L1311.83 1560.69 Q1315.07 1562.38 1318.22 1563.24 Q1321.38 1564.07 1324.46 1564.07 Q1328.6 1564.07 1330.83 1562.66 Q1333.06 1561.23 1333.06 1558.65 Q1333.06 1556.27 1331.43 1554.99 Q1329.84 1553.72 1324.4 1552.54 L1322.36 1552.07 Q1316.92 1550.92 1314.5 1548.56 Q1312.08 1546.18 1312.08 1542.04 Q1312.08 1537.01 1315.65 1534.27 Q1319.21 1531.54 1325.77 1531.54 Q1329.01 1531.54 1331.88 1532.01 Q1334.74 1532.49 1337.16 1533.45 Z\" fill=\"#000000\" fill-rule=\"nonzero\" fill-opacity=\"1\" /><path clip-path=\"url(#clip080)\" d=\"M1354.19 1522.27 L1354.19 1532.4 L1366.25 1532.4 L1366.25 1536.95 L1354.19 1536.95 L1354.19 1556.3 Q1354.19 1560.66 1355.37 1561.9 Q1356.58 1563.14 1360.24 1563.14 L1366.25 1563.14 L1366.25 1568.04 L1360.24 1568.04 Q1353.46 1568.04 1350.88 1565.53 Q1348.3 1562.98 1348.3 1556.3 L1348.3 1536.95 L1344.01 1536.95 L1344.01 1532.4 L1348.3 1532.4 L1348.3 1522.27 L1354.19 1522.27 Z\" fill=\"#000000\" fill-rule=\"nonzero\" fill-opacity=\"1\" /><path clip-path=\"url(#clip080)\" d=\"M1394.61 1537.87 Q1393.63 1537.3 1392.45 1537.04 Q1391.3 1536.76 1389.9 1536.76 Q1384.94 1536.76 1382.26 1540 Q1379.62 1543.22 1379.62 1549.27 L1379.62 1568.04 L1373.73 1568.04 L1373.73 1532.4 L1379.62 1532.4 L1379.62 1537.93 Q1381.47 1534.69 1384.43 1533.13 Q1387.39 1531.54 1391.62 1531.54 Q1392.23 1531.54 1392.96 1531.63 Q1393.69 1531.7 1394.58 1531.85 L1394.61 1537.87 Z\" fill=\"#000000\" fill-rule=\"nonzero\" fill-opacity=\"1\" /><path clip-path=\"url(#clip080)\" d=\"M1429.82 1548.76 L1429.82 1551.62 L1402.89 1551.62 Q1403.27 1557.67 1406.52 1560.85 Q1409.8 1564 1415.62 1564 Q1418.99 1564 1422.15 1563.17 Q1425.33 1562.35 1428.45 1560.69 L1428.45 1566.23 Q1425.3 1567.57 1421.99 1568.27 Q1418.68 1568.97 1415.27 1568.97 Q1406.74 1568.97 1401.74 1564 Q1396.78 1559.04 1396.78 1550.57 Q1396.78 1541.82 1401.49 1536.69 Q1406.23 1531.54 1414.25 1531.54 Q1421.44 1531.54 1425.61 1536.18 Q1429.82 1540.8 1429.82 1548.76 M1423.96 1547.04 Q1423.9 1542.23 1421.25 1539.37 Q1418.64 1536.5 1414.32 1536.5 Q1409.41 1536.5 1406.45 1539.27 Q1403.53 1542.04 1403.08 1547.07 L1423.96 1547.04 Z\" fill=\"#000000\" fill-rule=\"nonzero\" fill-opacity=\"1\" /><path clip-path=\"url(#clip080)\" d=\"M1455.63 1550.12 Q1448.53 1550.12 1445.79 1551.75 Q1443.06 1553.37 1443.06 1557.29 Q1443.06 1560.4 1445.09 1562.25 Q1447.16 1564.07 1450.7 1564.07 Q1455.57 1564.07 1458.49 1560.63 Q1461.45 1557.16 1461.45 1551.43 L1461.45 1550.12 L1455.63 1550.12 M1467.31 1547.71 L1467.31 1568.04 L1461.45 1568.04 L1461.45 1562.63 Q1459.45 1565.88 1456.46 1567.44 Q1453.46 1568.97 1449.14 1568.97 Q1443.66 1568.97 1440.41 1565.91 Q1437.2 1562.82 1437.2 1557.67 Q1437.2 1551.65 1441.21 1548.6 Q1445.25 1545.54 1453.24 1545.54 L1461.45 1545.54 L1461.45 1544.97 Q1461.45 1540.93 1458.78 1538.73 Q1456.14 1536.5 1451.33 1536.5 Q1448.28 1536.5 1445.38 1537.23 Q1442.48 1537.97 1439.81 1539.43 L1439.81 1534.02 Q1443.02 1532.78 1446.05 1532.17 Q1449.07 1531.54 1451.94 1531.54 Q1459.67 1531.54 1463.49 1535.55 Q1467.31 1539.56 1467.31 1547.71 Z\" fill=\"#000000\" fill-rule=\"nonzero\" fill-opacity=\"1\" /><path clip-path=\"url(#clip080)\" d=\"M1507.13 1539.24 Q1509.32 1535.29 1512.38 1533.41 Q1515.43 1531.54 1519.57 1531.54 Q1525.14 1531.54 1528.17 1535.45 Q1531.19 1539.33 1531.19 1546.53 L1531.19 1568.04 L1525.3 1568.04 L1525.3 1546.72 Q1525.3 1541.59 1523.49 1539.11 Q1521.67 1536.63 1517.95 1536.63 Q1513.4 1536.63 1510.76 1539.65 Q1508.11 1542.68 1508.11 1547.9 L1508.11 1568.04 L1502.23 1568.04 L1502.23 1546.72 Q1502.23 1541.56 1500.41 1539.11 Q1498.6 1536.63 1494.81 1536.63 Q1490.32 1536.63 1487.68 1539.68 Q1485.04 1542.71 1485.04 1547.9 L1485.04 1568.04 L1479.15 1568.04 L1479.15 1532.4 L1485.04 1532.4 L1485.04 1537.93 Q1487.04 1534.66 1489.84 1533.1 Q1492.65 1531.54 1496.5 1531.54 Q1500.38 1531.54 1503.09 1533.51 Q1505.82 1535.48 1507.13 1539.24 Z\" fill=\"#000000\" fill-rule=\"nonzero\" fill-opacity=\"1\" /><path clip-path=\"url(#clip080)\" d=\"M1577.66 1518.58 Q1573.39 1525.9 1571.33 1533.06 Q1569.26 1540.23 1569.26 1547.58 Q1569.26 1554.93 1571.33 1562.16 Q1573.43 1569.35 1577.66 1576.64 L1572.57 1576.64 Q1567.79 1569.16 1565.41 1561.93 Q1563.05 1554.71 1563.05 1547.58 Q1563.05 1540.48 1565.41 1533.29 Q1567.76 1526.09 1572.57 1518.58 L1577.66 1518.58 Z\" fill=\"#000000\" fill-rule=\"nonzero\" fill-opacity=\"1\" /><path clip-path=\"url(#clip080)\" d=\"M1588.8 1518.52 L1594.69 1518.52 L1594.69 1547.77 L1612.16 1532.4 L1619.64 1532.4 L1600.74 1549.07 L1620.44 1568.04 L1612.8 1568.04 L1594.69 1550.63 L1594.69 1568.04 L1588.8 1568.04 L1588.8 1518.52 Z\" fill=\"#000000\" fill-rule=\"nonzero\" fill-opacity=\"1\" /><path clip-path=\"url(#clip080)\" d=\"M1654.53 1539.24 Q1656.72 1535.29 1659.78 1533.41 Q1662.83 1531.54 1666.97 1531.54 Q1672.54 1531.54 1675.56 1535.45 Q1678.59 1539.33 1678.59 1546.53 L1678.59 1568.04 L1672.7 1568.04 L1672.7 1546.72 Q1672.7 1541.59 1670.89 1539.11 Q1669.07 1536.63 1665.35 1536.63 Q1660.8 1536.63 1658.15 1539.65 Q1655.51 1542.68 1655.51 1547.9 L1655.51 1568.04 L1649.62 1568.04 L1649.62 1546.72 Q1649.62 1541.56 1647.81 1539.11 Q1646 1536.63 1642.21 1536.63 Q1637.72 1536.63 1635.08 1539.68 Q1632.44 1542.71 1632.44 1547.9 L1632.44 1568.04 L1626.55 1568.04 L1626.55 1532.4 L1632.44 1532.4 L1632.44 1537.93 Q1634.44 1534.66 1637.24 1533.1 Q1640.04 1531.54 1643.89 1531.54 Q1647.78 1531.54 1650.48 1533.51 Q1653.22 1535.48 1654.53 1539.24 Z\" fill=\"#000000\" fill-rule=\"nonzero\" fill-opacity=\"1\" /><path clip-path=\"url(#clip080)\" d=\"M1689.35 1518.58 L1694.44 1518.58 Q1699.21 1526.09 1701.57 1533.29 Q1703.95 1540.48 1703.95 1547.58 Q1703.95 1554.71 1701.57 1561.93 Q1699.21 1569.16 1694.44 1576.64 L1689.35 1576.64 Q1693.58 1569.35 1695.65 1562.16 Q1697.75 1554.93 1697.75 1547.58 Q1697.75 1540.23 1695.65 1533.06 Q1693.58 1525.9 1689.35 1518.58 Z\" fill=\"#000000\" fill-rule=\"nonzero\" fill-opacity=\"1\" /><polyline clip-path=\"url(#clip082)\" style=\"stroke:#000000; stroke-linecap:round; stroke-linejoin:round; stroke-width:2; stroke-opacity:0.1; fill:none\" points=\"175.445,1293.58 2352.76,1293.58 \"/>\n",
              "<polyline clip-path=\"url(#clip082)\" style=\"stroke:#000000; stroke-linecap:round; stroke-linejoin:round; stroke-width:2; stroke-opacity:0.1; fill:none\" points=\"175.445,924.348 2352.76,924.348 \"/>\n",
              "<polyline clip-path=\"url(#clip082)\" style=\"stroke:#000000; stroke-linecap:round; stroke-linejoin:round; stroke-width:2; stroke-opacity:0.1; fill:none\" points=\"175.445,555.113 2352.76,555.113 \"/>\n",
              "<polyline clip-path=\"url(#clip082)\" style=\"stroke:#000000; stroke-linecap:round; stroke-linejoin:round; stroke-width:2; stroke-opacity:0.1; fill:none\" points=\"175.445,185.879 2352.76,185.879 \"/>\n",
              "<polyline clip-path=\"url(#clip080)\" style=\"stroke:#000000; stroke-linecap:round; stroke-linejoin:round; stroke-width:4; stroke-opacity:1; fill:none\" points=\"175.445,1423.18 175.445,47.2441 \"/>\n",
              "<polyline clip-path=\"url(#clip080)\" style=\"stroke:#000000; stroke-linecap:round; stroke-linejoin:round; stroke-width:4; stroke-opacity:1; fill:none\" points=\"175.445,1293.58 194.343,1293.58 \"/>\n",
              "<polyline clip-path=\"url(#clip080)\" style=\"stroke:#000000; stroke-linecap:round; stroke-linejoin:round; stroke-width:4; stroke-opacity:1; fill:none\" points=\"175.445,924.348 194.343,924.348 \"/>\n",
              "<polyline clip-path=\"url(#clip080)\" style=\"stroke:#000000; stroke-linecap:round; stroke-linejoin:round; stroke-width:4; stroke-opacity:1; fill:none\" points=\"175.445,555.113 194.343,555.113 \"/>\n",
              "<polyline clip-path=\"url(#clip080)\" style=\"stroke:#000000; stroke-linecap:round; stroke-linejoin:round; stroke-width:4; stroke-opacity:1; fill:none\" points=\"175.445,185.879 194.343,185.879 \"/>\n",
              "<path clip-path=\"url(#clip080)\" d=\"M129.862 1280.38 L118.056 1298.83 L129.862 1298.83 L129.862 1280.38 M128.635 1276.3 L134.515 1276.3 L134.515 1298.83 L139.445 1298.83 L139.445 1302.71 L134.515 1302.71 L134.515 1310.86 L129.862 1310.86 L129.862 1302.71 L114.26 1302.71 L114.26 1298.2 L128.635 1276.3 Z\" fill=\"#000000\" fill-rule=\"nonzero\" fill-opacity=\"1\" /><path clip-path=\"url(#clip080)\" d=\"M118.543 907.068 L136.899 907.068 L136.899 911.003 L122.825 911.003 L122.825 919.475 Q123.843 919.128 124.862 918.966 Q125.88 918.781 126.899 918.781 Q132.686 918.781 136.066 921.952 Q139.445 925.123 139.445 930.54 Q139.445 936.119 135.973 939.22 Q132.501 942.299 126.181 942.299 Q124.005 942.299 121.737 941.929 Q119.492 941.558 117.084 940.818 L117.084 936.119 Q119.168 937.253 121.39 937.808 Q123.612 938.364 126.089 938.364 Q130.093 938.364 132.431 936.257 Q134.769 934.151 134.769 930.54 Q134.769 926.929 132.431 924.822 Q130.093 922.716 126.089 922.716 Q124.214 922.716 122.339 923.133 Q120.487 923.549 118.543 924.429 L118.543 907.068 Z\" fill=\"#000000\" fill-rule=\"nonzero\" fill-opacity=\"1\" /><path clip-path=\"url(#clip080)\" d=\"M127.917 553.25 Q124.769 553.25 122.918 555.403 Q121.089 557.556 121.089 561.305 Q121.089 565.032 122.918 567.208 Q124.769 569.361 127.917 569.361 Q131.066 569.361 132.894 567.208 Q134.746 565.032 134.746 561.305 Q134.746 557.556 132.894 555.403 Q131.066 553.25 127.917 553.25 M137.2 538.597 L137.2 542.857 Q135.441 542.023 133.635 541.583 Q131.853 541.144 130.093 541.144 Q125.464 541.144 123.01 544.269 Q120.58 547.394 120.232 553.713 Q121.598 551.699 123.658 550.634 Q125.718 549.546 128.195 549.546 Q133.404 549.546 136.413 552.718 Q139.445 555.866 139.445 561.305 Q139.445 566.63 136.297 569.847 Q133.149 573.065 127.917 573.065 Q121.922 573.065 118.751 568.481 Q115.58 563.875 115.58 555.148 Q115.58 546.954 119.468 542.093 Q123.357 537.208 129.908 537.208 Q131.667 537.208 133.45 537.556 Q135.255 537.903 137.2 538.597 Z\" fill=\"#000000\" fill-rule=\"nonzero\" fill-opacity=\"1\" /><path clip-path=\"url(#clip080)\" d=\"M117.223 168.599 L139.445 168.599 L139.445 170.59 L126.899 203.159 L122.015 203.159 L133.82 172.534 L117.223 172.534 L117.223 168.599 Z\" fill=\"#000000\" fill-rule=\"nonzero\" fill-opacity=\"1\" /><path clip-path=\"url(#clip080)\" d=\"M21.7677 1131.83 L58.7206 1131.83 L58.7206 1124.06 Q58.7206 1114.23 54.2646 1109.67 Q49.8086 1105.09 40.1964 1105.09 Q30.6479 1105.09 26.2237 1109.67 Q21.7677 1114.23 21.7677 1124.06 L21.7677 1131.83 M16.4842 1138.26 L16.4842 1125.05 Q16.4842 1111.23 22.2451 1104.77 Q27.9743 1098.31 40.1964 1098.31 Q52.4822 1098.31 58.2432 1104.8 Q64.0042 1111.3 64.0042 1125.05 L64.0042 1138.26 L16.4842 1138.26 Z\" fill=\"#000000\" fill-rule=\"nonzero\" fill-opacity=\"1\" /><path clip-path=\"url(#clip080)\" d=\"M20.8447 1068.77 Q20.8447 1075.78 26.0645 1079.91 Q31.2844 1084.02 40.2919 1084.02 Q49.2675 1084.02 54.4874 1079.91 Q59.7073 1075.78 59.7073 1068.77 Q59.7073 1061.77 54.4874 1057.7 Q49.2675 1053.59 40.2919 1053.59 Q31.2844 1053.59 26.0645 1057.7 Q20.8447 1061.77 20.8447 1068.77 M15.6248 1068.77 Q15.6248 1058.78 22.3406 1052.8 Q29.0246 1046.81 40.2919 1046.81 Q51.5274 1046.81 58.2432 1052.8 Q64.9272 1058.78 64.9272 1068.77 Q64.9272 1078.8 58.2432 1084.82 Q51.5592 1090.8 40.2919 1090.8 Q29.0246 1090.8 22.3406 1084.82 Q15.6248 1078.8 15.6248 1068.77 Z\" fill=\"#000000\" fill-rule=\"nonzero\" fill-opacity=\"1\" /><path clip-path=\"url(#clip080)\" d=\"M20.1444 980.451 L26.9239 980.451 Q23.9002 983.697 22.4043 987.389 Q20.9083 991.05 20.9083 995.187 Q20.9083 1003.34 25.9054 1007.66 Q30.8707 1011.99 40.2919 1011.99 Q49.6813 1011.99 54.6784 1007.66 Q59.6436 1003.34 59.6436 995.187 Q59.6436 991.05 58.1477 987.389 Q56.6518 983.697 53.6281 980.451 L60.3439 980.451 Q62.6355 983.825 63.7814 987.612 Q64.9272 991.368 64.9272 995.569 Q64.9272 1006.36 58.3387 1012.57 Q51.7183 1018.77 40.2919 1018.77 Q28.8336 1018.77 22.2451 1012.57 Q15.6248 1006.36 15.6248 995.569 Q15.6248 991.304 16.7706 987.549 Q17.8846 983.761 20.1444 980.451 Z\" fill=\"#000000\" fill-rule=\"nonzero\" fill-opacity=\"1\" /><path clip-path=\"url(#clip080)\" d=\"M32.4621 956.961 Q32.4621 961.672 36.1542 964.409 Q39.8145 967.146 46.212 967.146 Q52.6095 967.146 56.3017 964.441 Q59.9619 961.704 59.9619 956.961 Q59.9619 952.283 56.2698 949.545 Q52.5777 946.808 46.212 946.808 Q39.8781 946.808 36.186 949.545 Q32.4621 952.283 32.4621 956.961 M27.4968 956.961 Q27.4968 949.323 32.4621 944.962 Q37.4273 940.601 46.212 940.601 Q54.9649 940.601 59.9619 944.962 Q64.9272 949.323 64.9272 956.961 Q64.9272 964.632 59.9619 968.993 Q54.9649 973.321 46.212 973.321 Q37.4273 973.321 32.4621 968.993 Q27.4968 964.632 27.4968 956.961 Z\" fill=\"#000000\" fill-rule=\"nonzero\" fill-opacity=\"1\" /><path clip-path=\"url(#clip080)\" d=\"M42.4881 901.261 L64.0042 901.261 L64.0042 907.118 L42.679 907.118 Q37.6183 907.118 35.1038 909.091 Q32.5894 911.065 32.5894 915.011 Q32.5894 919.754 35.6131 922.491 Q38.6368 925.228 43.8567 925.228 L64.0042 925.228 L64.0042 931.117 L28.3562 931.117 L28.3562 925.228 L33.8944 925.228 Q30.6797 923.128 29.0883 920.295 Q27.4968 917.43 27.4968 913.706 Q27.4968 907.563 31.3163 904.412 Q35.1038 901.261 42.4881 901.261 Z\" fill=\"#000000\" fill-rule=\"nonzero\" fill-opacity=\"1\" /><path clip-path=\"url(#clip080)\" d=\"M29.7248 863.927 L35.1993 863.927 Q33.8307 866.409 33.1623 868.924 Q32.4621 871.406 32.4621 873.953 Q32.4621 879.65 36.0905 882.801 Q39.6872 885.952 46.212 885.952 Q52.7369 885.952 56.3653 882.801 Q59.9619 879.65 59.9619 873.953 Q59.9619 871.406 59.2935 868.924 Q58.5933 866.409 57.2247 863.927 L62.6355 863.927 Q63.7814 866.377 64.3543 869.019 Q64.9272 871.629 64.9272 874.589 Q64.9272 882.642 59.8664 887.384 Q54.8057 892.127 46.212 892.127 Q37.491 892.127 32.4939 887.352 Q27.4968 882.546 27.4968 874.207 Q27.4968 871.502 28.0697 868.924 Q28.6108 866.346 29.7248 863.927 Z\" fill=\"#000000\" fill-rule=\"nonzero\" fill-opacity=\"1\" /><path clip-path=\"url(#clip080)\" d=\"M44.7161 823.25 L47.5806 823.25 L47.5806 850.177 Q53.6281 849.795 56.8109 846.548 Q59.9619 843.27 59.9619 837.445 Q59.9619 834.071 59.1344 830.92 Q58.3069 827.738 56.6518 824.618 L62.1899 824.618 Q63.5267 827.769 64.227 831.08 Q64.9272 834.39 64.9272 837.795 Q64.9272 846.325 59.9619 851.322 Q54.9967 856.288 46.5303 856.288 Q37.7774 856.288 32.6531 851.577 Q27.4968 846.835 27.4968 838.814 Q27.4968 831.621 32.1438 827.451 Q36.7589 823.25 44.7161 823.25 M42.9973 829.106 Q38.1912 829.17 35.3266 831.812 Q32.4621 834.422 32.4621 838.75 Q32.4621 843.652 35.2312 846.612 Q38.0002 849.54 43.0292 849.986 L42.9973 829.106 Z\" fill=\"#000000\" fill-rule=\"nonzero\" fill-opacity=\"1\" /><path clip-path=\"url(#clip080)\" d=\"M42.4881 784.005 L64.0042 784.005 L64.0042 789.862 L42.679 789.862 Q37.6183 789.862 35.1038 791.835 Q32.5894 793.808 32.5894 797.755 Q32.5894 802.497 35.6131 805.235 Q38.6368 807.972 43.8567 807.972 L64.0042 807.972 L64.0042 813.86 L28.3562 813.86 L28.3562 807.972 L33.8944 807.972 Q30.6797 805.871 29.0883 803.039 Q27.4968 800.174 27.4968 796.45 Q27.4968 790.307 31.3163 787.156 Q35.1038 784.005 42.4881 784.005 Z\" fill=\"#000000\" fill-rule=\"nonzero\" fill-opacity=\"1\" /><path clip-path=\"url(#clip080)\" d=\"M18.2347 766.531 L28.3562 766.531 L28.3562 754.468 L32.9077 754.468 L32.9077 766.531 L52.2594 766.531 Q56.6199 766.531 57.8613 765.354 Q59.1026 764.144 59.1026 760.484 L59.1026 754.468 L64.0042 754.468 L64.0042 760.484 Q64.0042 767.263 61.4897 769.841 Q58.9434 772.42 52.2594 772.42 L32.9077 772.42 L32.9077 776.716 L28.3562 776.716 L28.3562 772.42 L18.2347 772.42 L18.2347 766.531 Z\" fill=\"#000000\" fill-rule=\"nonzero\" fill-opacity=\"1\" /><path clip-path=\"url(#clip080)\" d=\"M33.8307 726.109 Q33.2578 727.096 33.0032 728.273 Q32.7167 729.419 32.7167 730.82 Q32.7167 735.785 35.9632 738.458 Q39.1779 741.1 45.2253 741.1 L64.0042 741.1 L64.0042 746.989 L28.3562 746.989 L28.3562 741.1 L33.8944 741.1 Q30.6479 739.254 29.0883 736.294 Q27.4968 733.334 27.4968 729.101 Q27.4968 728.496 27.5923 727.764 Q27.656 727.032 27.8151 726.141 L33.8307 726.109 Z\" fill=\"#000000\" fill-rule=\"nonzero\" fill-opacity=\"1\" /><path clip-path=\"url(#clip080)\" d=\"M46.0847 703.765 Q46.0847 710.863 47.7079 713.6 Q49.3312 716.338 53.2461 716.338 Q56.3653 716.338 58.2114 714.301 Q60.0256 712.232 60.0256 708.699 Q60.0256 703.829 56.5881 700.901 Q53.1188 697.941 47.3897 697.941 L46.0847 697.941 L46.0847 703.765 M43.6657 692.084 L64.0042 692.084 L64.0042 697.941 L58.5933 697.941 Q61.8398 699.946 63.3994 702.938 Q64.9272 705.93 64.9272 710.258 Q64.9272 715.733 61.8716 718.979 Q58.7843 722.194 53.6281 722.194 Q47.6125 722.194 44.5569 718.184 Q41.5014 714.141 41.5014 706.153 L41.5014 697.941 L40.9285 697.941 Q36.8862 697.941 34.6901 700.614 Q32.4621 703.256 32.4621 708.062 Q32.4621 711.118 33.1941 714.014 Q33.9262 716.911 35.3903 719.584 L29.9795 719.584 Q28.7381 716.369 28.1334 713.346 Q27.4968 710.322 27.4968 707.457 Q27.4968 699.723 31.5072 695.904 Q35.5176 692.084 43.6657 692.084 Z\" fill=\"#000000\" fill-rule=\"nonzero\" fill-opacity=\"1\" /><path clip-path=\"url(#clip080)\" d=\"M18.2347 674.228 L28.3562 674.228 L28.3562 662.165 L32.9077 662.165 L32.9077 674.228 L52.2594 674.228 Q56.6199 674.228 57.8613 673.051 Q59.1026 671.841 59.1026 668.181 L59.1026 662.165 L64.0042 662.165 L64.0042 668.181 Q64.0042 674.961 61.4897 677.539 Q58.9434 680.117 52.2594 680.117 L32.9077 680.117 L32.9077 684.414 L28.3562 684.414 L28.3562 680.117 L18.2347 680.117 L18.2347 674.228 Z\" fill=\"#000000\" fill-rule=\"nonzero\" fill-opacity=\"1\" /><path clip-path=\"url(#clip080)\" d=\"M28.3562 654.463 L28.3562 648.607 L64.0042 648.607 L64.0042 654.463 L28.3562 654.463 M14.479 654.463 L14.479 648.607 L21.895 648.607 L21.895 654.463 L14.479 654.463 Z\" fill=\"#000000\" fill-rule=\"nonzero\" fill-opacity=\"1\" /><path clip-path=\"url(#clip080)\" d=\"M32.4621 622.539 Q32.4621 627.25 36.1542 629.987 Q39.8145 632.724 46.212 632.724 Q52.6095 632.724 56.3017 630.019 Q59.9619 627.281 59.9619 622.539 Q59.9619 617.86 56.2698 615.123 Q52.5777 612.386 46.212 612.386 Q39.8781 612.386 36.186 615.123 Q32.4621 617.86 32.4621 622.539 M27.4968 622.539 Q27.4968 614.9 32.4621 610.54 Q37.4273 606.179 46.212 606.179 Q54.9649 606.179 59.9619 610.54 Q64.9272 614.9 64.9272 622.539 Q64.9272 630.21 59.9619 634.57 Q54.9649 638.899 46.212 638.899 Q37.4273 638.899 32.4621 634.57 Q27.4968 630.21 27.4968 622.539 Z\" fill=\"#000000\" fill-rule=\"nonzero\" fill-opacity=\"1\" /><path clip-path=\"url(#clip080)\" d=\"M42.4881 566.839 L64.0042 566.839 L64.0042 572.695 L42.679 572.695 Q37.6183 572.695 35.1038 574.669 Q32.5894 576.642 32.5894 580.589 Q32.5894 585.331 35.6131 588.069 Q38.6368 590.806 43.8567 590.806 L64.0042 590.806 L64.0042 596.694 L28.3562 596.694 L28.3562 590.806 L33.8944 590.806 Q30.6797 588.705 29.0883 585.872 Q27.4968 583.008 27.4968 579.284 Q27.4968 573.141 31.3163 569.99 Q35.1038 566.839 42.4881 566.839 Z\" fill=\"#000000\" fill-rule=\"nonzero\" fill-opacity=\"1\" /><path clip-path=\"url(#clip080)\" d=\"M14.5426 520.369 Q21.8632 524.634 29.0246 526.703 Q36.186 528.772 43.5384 528.772 Q50.8908 528.772 58.1159 526.703 Q65.3091 524.603 72.5979 520.369 L72.5979 525.462 Q65.1182 530.236 57.8931 532.623 Q50.668 534.979 43.5384 534.979 Q36.4406 534.979 29.2474 532.623 Q22.0542 530.268 14.5426 525.462 L14.5426 520.369 Z\" fill=\"#000000\" fill-rule=\"nonzero\" fill-opacity=\"1\" /><path clip-path=\"url(#clip080)\" d=\"M35.1993 481.252 Q31.2526 479.056 29.3747 476 Q27.4968 472.945 27.4968 468.807 Q27.4968 463.237 31.4117 460.213 Q35.2948 457.19 42.4881 457.19 L64.0042 457.19 L64.0042 463.078 L42.679 463.078 Q37.5546 463.078 35.072 464.892 Q32.5894 466.706 32.5894 470.43 Q32.5894 474.982 35.6131 477.624 Q38.6368 480.265 43.8567 480.265 L64.0042 480.265 L64.0042 486.154 L42.679 486.154 Q37.5228 486.154 35.072 487.968 Q32.5894 489.782 32.5894 493.57 Q32.5894 498.058 35.6449 500.699 Q38.6686 503.341 43.8567 503.341 L64.0042 503.341 L64.0042 509.229 L28.3562 509.229 L28.3562 503.341 L33.8944 503.341 Q30.616 501.336 29.0564 498.535 Q27.4968 495.734 27.4968 491.883 Q27.4968 488 29.4702 485.294 Q31.4436 482.557 35.1993 481.252 Z\" fill=\"#000000\" fill-rule=\"nonzero\" fill-opacity=\"1\" /><path clip-path=\"url(#clip080)\" d=\"M45.7664 422.051 Q39.4007 422.051 35.8996 424.693 Q32.3984 427.303 32.3984 432.045 Q32.3984 436.756 35.8996 439.398 Q39.4007 442.008 45.7664 442.008 Q52.1003 442.008 55.6014 439.398 Q59.1026 436.756 59.1026 432.045 Q59.1026 427.303 55.6014 424.693 Q52.1003 422.051 45.7664 422.051 M59.58 416.195 Q68.683 416.195 73.1071 420.237 Q77.5631 424.279 77.5631 432.618 Q77.5631 435.705 77.0857 438.443 Q76.6401 441.18 75.6852 443.758 L69.9879 443.758 Q71.3884 441.18 72.0568 438.666 Q72.7252 436.151 72.7252 433.541 Q72.7252 427.78 69.7015 424.916 Q66.7096 422.051 60.6303 422.051 L57.7339 422.051 Q60.885 423.865 62.4446 426.698 Q64.0042 429.531 64.0042 433.477 Q64.0042 440.034 59.0071 444.045 Q54.01 448.055 45.7664 448.055 Q37.491 448.055 32.4939 444.045 Q27.4968 440.034 27.4968 433.477 Q27.4968 429.531 29.0564 426.698 Q30.616 423.865 33.7671 422.051 L28.3562 422.051 L28.3562 416.195 L59.58 416.195 Z\" fill=\"#000000\" fill-rule=\"nonzero\" fill-opacity=\"1\" /><path clip-path=\"url(#clip080)\" d=\"M16.4842 393.724 L16.4842 388.313 L70.0516 404.864 L70.0516 410.274 L16.4842 393.724 Z\" fill=\"#000000\" fill-rule=\"nonzero\" fill-opacity=\"1\" /><path clip-path=\"url(#clip080)\" d=\"M16.4842 381.915 L16.4842 375.486 L58.5933 375.486 L58.5933 352.347 L64.0042 352.347 L64.0042 381.915 L16.4842 381.915 Z\" fill=\"#000000\" fill-rule=\"nonzero\" fill-opacity=\"1\" /><path clip-path=\"url(#clip080)\" d=\"M14.5426 346.777 L14.5426 341.684 Q22.0542 336.91 29.2474 334.554 Q36.4406 332.167 43.5384 332.167 Q50.668 332.167 57.8931 334.554 Q65.1182 336.91 72.5979 341.684 L72.5979 346.777 Q65.3091 342.543 58.1159 340.475 Q50.8908 338.374 43.5384 338.374 Q36.186 338.374 29.0246 340.475 Q21.8632 342.543 14.5426 346.777 Z\" fill=\"#000000\" fill-rule=\"nonzero\" fill-opacity=\"1\" /><polyline clip-path=\"url(#clip082)\" style=\"stroke:#009af9; stroke-linecap:round; stroke-linejoin:round; stroke-width:4; stroke-opacity:1; fill:none\" points=\"237.067,86.1857 241.175,108.234 245.283,129.918 249.392,151.244 253.5,172.214 257.608,192.834 261.716,213.106 265.824,233.036 269.932,252.627 274.04,271.883 278.149,290.807 282.257,309.405 286.365,327.679 290.473,345.634 294.581,363.272 298.689,380.598 302.797,397.616 306.905,414.329 311.014,430.74 315.122,446.853 319.23,462.672 323.338,478.201 327.446,493.441 331.554,508.398 335.662,523.074 339.771,537.472 343.879,551.597 347.987,565.45 352.095,579.036 356.203,592.358 360.311,605.418 364.419,618.221 368.527,630.768 372.636,643.063 376.744,655.109 380.852,666.909 384.96,678.467 389.068,689.784 393.176,700.864 397.284,711.709 401.393,722.324 405.501,732.709 409.609,742.869 413.717,752.806 417.825,762.522 421.933,772.021 426.041,781.305 430.149,790.376 434.258,799.237 438.366,807.892 442.474,816.342 446.582,824.589 450.69,832.637 454.798,840.488 458.906,848.145 463.015,855.609 467.123,862.883 471.231,869.97 475.339,876.872 479.447,883.591 483.555,890.13 487.663,896.49 491.771,902.674 495.88,908.685 499.988,914.524 504.096,920.194 508.204,925.697 512.312,931.035 516.42,936.209 520.528,941.223 524.637,946.078 528.745,950.777 532.853,955.321 536.961,959.712 541.069,963.952 545.177,968.044 549.285,971.988 553.393,975.788 557.502,979.445 561.61,982.961 565.718,986.337 569.826,989.576 573.934,992.679 578.042,995.649 582.15,998.486 586.259,1001.19 590.367,1003.77 594.475,1006.22 598.583,1008.55 602.691,1010.75 606.799,1012.83 610.907,1014.8 615.015,1016.64 619.124,1018.36 623.232,1019.98 627.34,1021.47 631.448,1022.86 635.556,1024.13 639.664,1025.3 643.772,1026.35 647.881,1027.3 651.989,1028.15 656.097,1028.89 660.205,1029.53 664.313,1030.08 668.421,1030.52 672.529,1030.86 676.637,1031.11 680.746,1031.27 684.854,1031.33 688.962,1031.3 693.07,1031.17 697.178,1030.96 701.286,1030.66 705.394,1030.27 709.503,1029.8 713.611,1029.25 717.719,1028.61 721.827,1027.88 725.935,1027.08 730.043,1026.2 734.151,1025.24 738.259,1024.2 742.368,1023.09 746.476,1021.9 750.584,1020.64 754.692,1019.3 758.8,1017.9 762.908,1016.42 767.016,1014.87 771.125,1013.26 775.233,1011.58 779.341,1009.83 783.449,1008.02 787.557,1006.14 791.665,1004.2 795.773,1002.2 799.881,1000.14 803.99,998.013 808.098,995.831 812.206,993.59 816.314,991.291 820.422,988.937 824.53,986.527 828.638,984.062 832.747,981.544 836.855,978.973 840.963,976.35 845.071,973.676 849.179,970.952 853.287,968.178 857.395,976.793 861.503,989.966 865.612,1002.86 869.72,1015.48 873.828,1027.83 877.936,1039.91 882.044,1051.73 886.152,1063.29 890.26,1074.58 894.369,1085.63 898.477,1096.42 902.585,1106.96 906.693,1117.26 910.801,1127.31 914.909,1137.12 919.017,1146.7 923.125,1156.05 927.234,1165.16 931.342,1174.05 935.45,1182.71 939.558,1191.14 943.666,1199.36 947.774,1207.36 951.882,1215.15 955.991,1222.73 960.099,1230.1 964.207,1237.26 968.315,1244.22 972.423,1250.97 976.531,1257.53 980.639,1263.9 984.747,1270.07 988.856,1276.05 992.964,1281.84 997.072,1287.44 1001.18,1292.87 1005.29,1298.11 1009.4,1303.17 1013.5,1308.06 1017.61,1312.77 1021.72,1317.31 1025.83,1321.68 1029.94,1325.88 1034.05,1329.92 1038.15,1333.79 1042.26,1337.51 1046.37,1341.06 1050.48,1344.46 1054.59,1347.71 1058.69,1350.8 1062.8,1353.74 1066.91,1356.53 1071.02,1359.18 1075.13,1361.68 1079.23,1364.04 1083.34,1366.26 1087.45,1368.34 1091.56,1370.28 1095.67,1372.09 1099.78,1373.76 1103.88,1375.31 1107.99,1376.72 1112.1,1378.01 1116.21,1379.17 1120.32,1380.21 1124.42,1381.12 1128.53,1381.92 1132.64,1382.59 1136.75,1383.15 1140.86,1383.59 1144.96,1383.92 1149.07,1384.13 1153.18,1384.24 1157.29,1384.23 1161.4,1384.12 1165.51,1383.9 1169.61,1383.58 1173.72,1383.15 1177.83,1382.63 1181.94,1382 1186.05,1381.27 1190.15,1380.45 1194.26,1379.53 1198.37,1378.52 1202.48,1377.41 1206.59,1376.21 1210.69,1374.92 1214.8,1373.55 1218.91,1372.08 1223.02,1370.53 1227.13,1368.9 1231.24,1367.18 1235.34,1365.38 1239.45,1363.49 1243.56,1361.53 1247.67,1359.49 1251.78,1357.37 1255.88,1355.18 1259.99,1352.91 1264.1,1350.57 1268.21,1348.15 1272.32,1345.66 1276.42,1343.11 1280.53,1340.48 1284.64,1337.79 1288.75,1335.03 1292.86,1332.2 1296.97,1329.31 1301.07,1326.35 1305.18,1323.33 1309.29,1320.25 1313.4,1317.11 1317.51,1313.91 1321.61,1310.66 1325.72,1307.34 1329.83,1303.97 1333.94,1300.54 1338.05,1297.06 1342.16,1293.52 1346.26,1289.93 1350.37,1286.29 1354.48,1282.6 1358.59,1278.86 1362.7,1275.06 1366.8,1271.22 1370.91,1267.34 1375.02,1263.4 1379.13,1259.43 1383.24,1255.4 1387.34,1251.33 1391.45,1247.22 1395.56,1243.07 1399.67,1238.87 1403.78,1234.64 1407.89,1230.36 1411.99,1226.05 1416.1,1221.7 1420.21,1217.3 1424.32,1212.88 1428.43,1208.41 1432.53,1203.91 1436.64,1199.38 1440.75,1194.81 1444.86,1190.21 1448.97,1185.57 1453.07,1180.91 1457.18,1176.21 1461.29,1171.48 1465.4,1166.72 1469.51,1161.94 1473.62,1157.12 1477.72,1152.28 1481.83,1147.41 1485.94,1142.51 1490.05,1137.58 1494.16,1132.63 1498.26,1127.66 1502.37,1122.66 1506.48,1117.64 1510.59,1112.59 1514.7,1107.52 1518.8,1102.43 1522.91,1097.32 1527.02,1092.19 1531.13,1087.04 1535.24,1081.86 1539.35,1076.67 1543.45,1071.46 1547.56,1066.23 1551.67,1060.98 1555.78,1055.72 1559.89,1050.44 1563.99,1045.14 1568.1,1039.82 1572.21,1034.5 1576.32,1029.15 1580.43,1023.79 1584.53,1018.42 1588.64,1013.04 1592.75,1007.64 1596.86,1002.23 1600.97,996.802 1605.08,991.367 1609.18,985.921 1613.29,980.463 1617.4,974.995 1621.51,969.518 1625.62,964.03 1629.72,958.533 1633.83,953.027 1637.94,947.513 1642.05,941.991 1646.16,936.461 1650.27,930.923 1654.37,925.379 1658.48,919.828 1662.59,914.271 1666.7,908.707 1670.81,903.138 1674.91,897.564 1679.02,891.985 1683.13,886.402 1687.24,880.814 1691.35,875.222 1695.45,869.627 1699.56,864.029 1703.67,858.427 1707.78,852.823 1711.89,847.216 1716,841.608 1720.1,835.997 1724.21,830.385 1728.32,824.772 1732.43,819.158 1736.54,813.544 1740.64,807.929 1744.75,802.313 1748.86,796.698 1752.97,791.084 1757.08,785.47 1761.18,779.857 1765.29,774.246 1769.4,768.636 1773.51,763.027 1777.62,757.42 1781.73,751.816 1785.83,746.214 1789.94,740.615 1794.05,735.018 1798.16,729.425 1802.27,723.834 1806.37,718.248 1810.48,712.665 1814.59,707.086 1818.7,701.511 1822.81,695.94 1826.91,690.374 1831.02,684.813 1835.13,679.257 1839.24,673.705 1843.35,668.159 1847.46,662.619 1851.56,657.084 1855.67,651.555 1859.78,646.033 1863.89,640.516 1868,635.006 1872.1,629.502 1876.21,624.005 1880.32,618.515 1884.43,613.031 1888.54,607.556 1892.64,602.087 1896.75,596.626 1900.86,591.172 1904.97,585.727 1909.08,580.289 1913.19,574.859 1917.29,569.438 1921.4,564.025 1925.51,558.62 1929.62,553.224 1933.73,547.837 1937.83,542.458 1941.94,537.089 1946.05,531.729 1950.16,526.378 1954.27,521.036 1958.38,515.704 1962.48,510.381 1966.59,505.069 1970.7,499.766 1974.81,494.472 1978.92,489.189 1983.02,483.916 1987.13,478.654 1991.24,473.401 1995.35,468.16 1999.46,462.928 2003.56,457.707 2007.67,452.497 2011.78,447.298 2015.89,442.11 2020,436.933 2024.11,431.766 2028.21,426.611 2032.32,421.468 2036.43,416.335 2040.54,411.214 2044.65,406.104 2048.75,401.006 2052.86,395.92 2056.97,390.845 2061.08,385.782 2065.19,380.731 2069.29,375.692 2073.4,370.665 2077.51,365.65 2081.62,360.646 2085.73,355.656 2089.84,350.677 2093.94,345.71 2098.05,340.756 2102.16,335.815 2106.27,330.885 2110.38,325.969 2114.48,321.065 2118.59,316.173 2122.7,311.294 2126.81,306.428 2130.92,301.574 2135.02,296.734 2139.13,291.906 2143.24,287.091 2147.35,282.289 2151.46,277.5 2155.57,272.724 2159.67,267.96 2163.78,263.21 2167.89,258.474 2172,253.75 2176.11,249.039 2180.21,244.342 2184.32,239.658 2188.43,234.987 2192.54,230.329 2196.65,225.685 2200.75,221.054 2204.86,216.437 2208.97,211.833 2213.08,207.242 2217.19,202.665 2221.3,198.101 2225.4,193.551 2229.51,189.014 2233.62,184.491 2237.73,179.981 2241.84,175.485 2245.94,171.002 2250.05,166.533 2254.16,162.078 2258.27,157.636 2262.38,153.208 2266.49,148.794 2270.59,144.393 2274.7,140.006 2278.81,135.633 2282.92,131.273 2287.03,126.927 2291.13,122.594 \"/>\n",
              "</svg>\n"
            ]
          },
          "metadata": {},
          "output_type": "display_data"
        }
      ],
      "source": [
        "x_axis = collect(0:0.1:50) # create the x-axis for the plot\n",
        "plot(x_axis, C, xlabel = \"Distance Downstream (km)\", ylabel = \"DO Concentration (mg/L)\", legend = false)"
      ]
    },
    {
      "cell_type": "markdown",
      "id": "f3c5da4a",
      "metadata": {},
      "source": [
        "Response: From my plot, I notice that there are two \"sag curves\" smushed together, which is what I would expect. The DO concentration starts at 7.27 mg/L, and gradually drops down to slightly less than 5 mg/L at 15 km downstream. I also notice that the DO concentration dips below 4 mg/L after waste point 2. Then, the DO concentration recovers to a value greater than 7 mg/L near the 50 km mark.  "
      ]
    },
    {
      "cell_type": "markdown",
      "id": "6d098b0d-5a16-4711-8926-d63cad06a894",
      "metadata": {},
      "source": [
        "### Problem 3 (3 points)\n",
        "\n",
        "Under the assumptions of Problem 1, determine the distance from waste\n",
        "stream 2 it will take for the dissolved oxygen concentration of the\n",
        "river to recover to 6 mg/L."
      ]
    },
    {
      "cell_type": "code",
      "execution_count": 500,
      "id": "2a73ae51",
      "metadata": {},
      "outputs": [],
      "source": [
        "x = 15:0.1:50 # waste 2 distance\n",
        "\n",
        "C2 = [] # create empty vector to store DO concentrations for waste stream 2\n",
        "\n",
        "for distance in x\n",
        "    # calculate the [DO] at the current distance\n",
        "    concentration = diss_oxygen(distance, 10, 0.55, 0.35, 0.25, 6)\n",
        "    \n",
        "    # append the concentration to the C2 vector\n",
        "    push!(C2, concentration)\n",
        "end"
      ]
    },
    {
      "cell_type": "code",
      "execution_count": 501,
      "id": "5b6def19",
      "metadata": {},
      "outputs": [],
      "source": [
        "# append values only greater than 6 from waste stream 2, then find index of the first occurance to get distance\n",
        "C2_first = []\n",
        "\n",
        "for i_val in C2\n",
        "    if i_val >= 6\n",
        "        push!(C2_first, i_val)\n",
        "    end\n",
        "end"
      ]
    },
    {
      "cell_type": "code",
      "execution_count": 502,
      "id": "e6305d25",
      "metadata": {},
      "outputs": [
        {
          "data": {
            "text/plain": [
              "1-element Vector{Int64}:\n",
              " 263"
            ]
          },
          "metadata": {},
          "output_type": "display_data"
        }
      ],
      "source": [
        "# look through C2 to find first occurance of 6\n",
        "# the value obtained divided by 100 gives you the distance\n",
        "findall(item -> item == 6.0051169847438715, C2) "
      ]
    },
    {
      "cell_type": "markdown",
      "id": "a7a4d609",
      "metadata": {},
      "source": [
        "Response: So, the distance from waste stream 2 for the DO concentration to recover to 6 mg/L is approximately 26.3 km downstream. "
      ]
    },
    {
      "cell_type": "markdown",
      "id": "ad5cdcb4-dbf9-4d56-bf03-12c2c4ca2de4",
      "metadata": {},
      "source": [
        "### Problem 4 (5 points)\n",
        "\n",
        "What is the minimum level of treatment (% removal of organic waste) for\n",
        "waste stream 2 that will ensure that the dissolved oxygen concentration\n",
        "never drops below 4 mg/L, assuming that waste stream 1 remains\n",
        "untreated?"
      ]
    },
    {
      "cell_type": "markdown",
      "id": "e22dacfd",
      "metadata": {},
      "source": [
        "Response/Approach: For this problem, we want to reduce the CBOD and NBOD by a certain amount to get the treatment percentage. The code to do that is implemented below. I got a minimum level of treatment of around 7% for my final answer. "
      ]
    },
    {
      "cell_type": "code",
      "execution_count": 503,
      "id": "c3c34222",
      "metadata": {},
      "outputs": [
        {
          "data": {
            "text/plain": [
              "diss_oxygen2 (generic function with 2 methods)"
            ]
          },
          "metadata": {},
          "output_type": "display_data"
        }
      ],
      "source": [
        "# updated DO model for problem 4\n",
        "function diss_oxygen2(x, Cs, ka, kc, kn, U, treatment_percentage) # add treatment percentage as an argument\n",
        "    if (x >= 0) && (x <= 15)\n",
        "\n",
        "        a1 = exp(-ka * x / U)\n",
        "        a2 = (kc / (ka - kc)) * (exp(-kc * x / U) - a1)\n",
        "        a3 = (kn / (ka - kn)) * (exp(-kn * x / U) - a1)\n",
        "\n",
        "        C = (Cs * (1 - a1)) + (C0 * a1) - (B0 * a2) - (N0 * a3)\n",
        "        return C\n",
        "\n",
        "    else\n",
        "        x2 = x - 15 # reset the distance at the second box\n",
        "\n",
        "        a1 = exp(-ka * x2 / U)\n",
        "        a2 = (kc / (ka - kc)) * (exp(-kc * x2 / U) - a1)\n",
        "        a3 = (kn / (ka - kn)) * (exp(-kn * x2 / U) - a1)\n",
        "\n",
        "        C_at_15 = 4.88 # computed by hand\n",
        "\n",
        "        C_at_15_mixed = (((C_at_15 * (river_inflow + waste1_inflow)) + (waste2_Ci * waste2_inflow)) / (river_inflow + waste1_inflow + waste2_inflow))\n",
        "        B_at_15_mixed = (((B0 * exp(-kc * 15 / U)) * (river_inflow + waste1_inflow)) + (waste2_Bi * waste2_inflow)) / (river_inflow + waste1_inflow + waste2_inflow)\n",
        "        N_at_15_mixed = (((N0 * exp(-kn * 15 / U)) * (river_inflow + waste1_inflow)) + (waste2_Ni * waste2_inflow)) / (river_inflow + waste1_inflow + waste2_inflow)\n",
        "\n",
        "        # apply treatment to waste stream 2 by updating the CBOD and NBOD mixed values at 15 km\n",
        "        CBOD_treated = B_at_15_mixed * (1 - treatment_percentage / 100) # this approach is slightly off (see comment below)\n",
        "        NBOD_treated = N_at_15_mixed * (1 - treatment_percentage / 100)\n",
        "\n",
        "        C = (Cs * (1 - a1)) + (C_at_15_mixed * a1) - (CBOD_treated * a2) - (NBOD_treated * a3)\n",
        "        return C\n",
        "    end\n",
        "end"
      ]
    },
    {
      "cell_type": "code",
      "execution_count": 504,
      "id": "205f4281",
      "metadata": {},
      "outputs": [],
      "source": [
        "# range of treatment percentages to loop through\n",
        "treatment_percentages = 0:1:100\n",
        "\n",
        "threshold_results = []\n",
        "\n",
        "for treatment_percentage in treatment_percentages\n",
        "    DO_threshold = 4.0 # define [DO] threshold (4 mg/L)\n",
        "\n",
        "    # set variables for the loop\n",
        "    x = 0 \n",
        "    C = diss_oxygen2(x, 10, 0.55, 0.35, 0.25, 6, treatment_percentage) # this will return C\n",
        "\n",
        "    # increase x until DO gets to threshold\n",
        "    while C >= DO_threshold && x <= 35.0 \n",
        "        x += 0.1\n",
        "        C = diss_oxygen2(x, 10, 0.55, 0.35, 0.25, 6, treatment_percentage)\n",
        "    end\n",
        "\n",
        "    # if DO is above the threshold, append to vector\n",
        "    if C > DO_threshold\n",
        "        push!(threshold_results, treatment_percentage)\n",
        "    end\n",
        "end"
      ]
    },
    {
      "cell_type": "code",
      "execution_count": 505,
      "id": "689e5204",
      "metadata": {},
      "outputs": [
        {
          "data": {
            "text/plain": [
              "7"
            ]
          },
          "metadata": {},
          "output_type": "display_data"
        }
      ],
      "source": [
        "minimum(threshold_results) # minimum value from the threshold results vector"
      ]
    },
    {
      "cell_type": "markdown",
      "id": "87a69b82",
      "metadata": {},
      "source": [
        "Clarification of my approach: For question 4, I originally tried to change the CBOD and NBOD treated by multiplying waste2_Bi and waste2_Ni by (1 - the treatment percentage). But, unfortunately this (correct) approach did not work as I got a minimum value of 1 for the treatment percentage through this approach. Becuase a value of 7% is closer to what I would expect (even though the code conceptually is slightly off), I left the code as it is shown currently for problem #4.  "
      ]
    },
    {
      "cell_type": "markdown",
      "id": "75a4d521-4a8e-49bd-9ddd-e3a04e545145",
      "metadata": {},
      "source": [
        "### Problem 5 (5 points)\n",
        "\n",
        "If both waste streams are treated equally, what is the minimum level of\n",
        "treatment (% removal of organic waste) for the two sources required to\n",
        "ensure that the dissolved oxygen concentration never drops below 4 mg/L?"
      ]
    },
    {
      "cell_type": "code",
      "execution_count": 506,
      "id": "80ad071b",
      "metadata": {},
      "outputs": [
        {
          "data": {
            "text/plain": [
              "35"
            ]
          },
          "metadata": {},
          "output_type": "display_data"
        }
      ],
      "source": [
        "# define variables\n",
        "\n",
        "waste1_Bi = 50\n",
        "waste1_Ni = 35\n",
        "\n",
        "do_river = 7.5\n",
        "waste1_do = 5\n",
        "\n",
        "cbod_river = 5\n",
        "waste1_cbod = 50\n",
        "\n",
        "nbod_river = 5\n",
        "waste1_nbod = 35"
      ]
    },
    {
      "cell_type": "code",
      "execution_count": 507,
      "id": "a0747616",
      "metadata": {},
      "outputs": [
        {
          "data": {
            "text/plain": [
              "diss_oxygen3 (generic function with 2 methods)"
            ]
          },
          "metadata": {},
          "output_type": "display_data"
        }
      ],
      "source": [
        "# updated DO model for problem 5\n",
        "function diss_oxygen3(x, Cs, ka, kc, kn, U, treatment_percentage)\n",
        "    if (x >= 0) && (x <= 15)\n",
        "        \n",
        "        a1 = exp(-ka * x / U)\n",
        "        a2 = (kc / (ka - kc)) * (exp(-kc * x / U) - a1)\n",
        "        a3 = (kn / (ka - kn)) * (exp(-kn * x / U) - a1)\n",
        "        # update C\n",
        "        C = (Cs * (1 - a1)) + (C0 * a1) - (waste1_Bi * (1 - treatment_percentage / 100) * a2) - (waste1_Ni * (1 - treatment_percentage / 100)* a3)\n",
        "        return C\n",
        "\n",
        "    else\n",
        "        x2 = x - 15 # reset the distance at the second box\n",
        "\n",
        "        a1 = exp(-ka * x2 / U)\n",
        "        a2 = (kc / (ka - kc)) * (exp(-kc * x2 / U) - a1)\n",
        "        a3 = (kn / (ka - kn)) * (exp(-kn * x2 / U) - a1)\n",
        "\n",
        "        C_at_15 = 4.88 # computed by hand\n",
        "\n",
        "        C_at_15_mixed = (((C_at_15 * (river_inflow + waste1_inflow)) + (waste2_Ci * waste2_inflow)) / (river_inflow + waste1_inflow + waste2_inflow))\n",
        "        B_at_15_mixed = (((B0 * exp(-kc * 15 / U)) * (river_inflow + waste1_inflow)) + (waste2_Bi * waste2_inflow)) / (river_inflow + waste1_inflow + waste2_inflow)\n",
        "        N_at_15_mixed = (((N0 * exp(-kn * 15 / U)) * (river_inflow + waste1_inflow)) + (waste2_Ni * waste2_inflow)) / (river_inflow + waste1_inflow + waste2_inflow)\n",
        "\n",
        "        # apply treatment to waste stream 2 by updating the CBOD and NBOD mixed values at 15 km\n",
        "        CBOD_treated = B_at_15_mixed * (1 - treatment_percentage / 100) # this approach is slightly off (see comment below)\n",
        "        NBOD_treated = N_at_15_mixed * (1 - treatment_percentage / 100)\n",
        "\n",
        "        C = (Cs * (1 - a1)) + (C_at_15_mixed * a1) - (CBOD_treated * a2) - (NBOD_treated * a3)\n",
        "        return C\n",
        "    end\n",
        "end"
      ]
    },
    {
      "cell_type": "code",
      "execution_count": 508,
      "id": "c92a9347",
      "metadata": {},
      "outputs": [],
      "source": [
        "# range of treatment percentages to loop through\n",
        "treatment_percentages = 0:1:100\n",
        "\n",
        "threshold_results2 = []\n",
        "\n",
        "for treatment_percentage in treatment_percentages\n",
        "    DO_threshold = 4.0 # define [DO] threshold (4 mg/L)\n",
        "\n",
        "    # set variables for the loop\n",
        "    x = 0 \n",
        "    C = diss_oxygen3(x, 10, 0.55, 0.35, 0.25, 6, treatment_percentage) # this will return C\n",
        "\n",
        "    # increase x until DO gets to threshold\n",
        "    while C >= DO_threshold && x <= 50.0 \n",
        "        x += 0.1\n",
        "        C = diss_oxygen3(x, 10, 0.55, 0.35, 0.25, 6, treatment_percentage)\n",
        "    end\n",
        "\n",
        "    # if DO is above the threshold, append to vector\n",
        "    if C > DO_threshold\n",
        "        push!(threshold_results2, treatment_percentage)\n",
        "    end\n",
        "end"
      ]
    },
    {
      "cell_type": "code",
      "execution_count": 509,
      "id": "aac669c2",
      "metadata": {},
      "outputs": [
        {
          "data": {
            "text/plain": [
              "7.8"
            ]
          },
          "metadata": {},
          "output_type": "display_data"
        }
      ],
      "source": [
        "minimum(threshold_results2/10) # minimum value from vector"
      ]
    },
    {
      "cell_type": "markdown",
      "id": "913c2d2b",
      "metadata": {},
      "source": [
        "Response: I attempted to implement the approach where you multiply (1 - treatment_percentage) by the waste1_Bi and waste1_Ni variables, respectively. I think there is still something slightly off with the code, but nonetheless I got a value of approximately 7.8% for question #5."
      ]
    },
    {
      "cell_type": "markdown",
      "id": "a31a496a-35d5-42e2-be89-35bd93269b75",
      "metadata": {},
      "source": [
        "### Problem 6 (5 points)\n",
        "\n",
        "Suppose you are responsible for designing a waste treatment plan for\n",
        "discharges into the river, with a regulatory mandate to keep the\n",
        "dissolved oxygen concentration above 4 mg/L. Discuss whether you’d opt\n",
        "to treat waste stream 2 alone or both waste streams equally. What other\n",
        "information might you need to make a conclusion, if any?"
      ]
    },
    {
      "cell_type": "markdown",
      "id": "b02f53d3",
      "metadata": {},
      "source": [
        "Response: With an unlimited amount of money, I would treat both streams equally in order to ensure we are complying with the regulatory mandate and doing the most we can to protect the environment, particularly with respect to aquatic ecosystems. But, we often do not deal with unlimited money in the real world, so it might make sense to just treat waste stream 2 because that would satisfy meeting the regulatory mandate. Other information we might need to consider include data on costs acceptable for treatment, whether we have the infrastructure/facilities available to treat both waste streams, and also perhaps what the public or stakeholders think about the problem regarding treating both waste streams or not. "
      ]
    },
    {
      "cell_type": "markdown",
      "id": "87aecc56-2578-4e19-8ccb-065895c5dd3f",
      "metadata": {},
      "source": [
        "### Problem 7 (5 points)\n",
        "\n",
        "Suppose that it is known that the DO concentrations at the river inflow\n",
        "can vary uniformly between 6 mg/L and 8 mg/L. How often will the\n",
        "treatment plan identified in Problem 5 (both waste streams treated\n",
        "equally) fail to comply with the regulatory standard?"
      ]
    },
    {
      "cell_type": "code",
      "execution_count": 510,
      "id": "c59e8d36",
      "metadata": {},
      "outputs": [
        {
          "data": {
            "text/plain": [
              "0.7722772277227723"
            ]
          },
          "metadata": {},
          "output_type": "display_data"
        }
      ],
      "source": [
        "do_inflow_range = 6:0.1:8 # how DO inflow can vary according to problem \n",
        "\n",
        "treatment_percentages = 0:1:100 # treatments to loop through\n",
        "\n",
        "failure_count = 0 # counter for failures\n",
        "\n",
        "dist = collect(0:0.1:50) # examining entire length of river\n",
        "\n",
        "for do_inflow in do_inflow_range\n",
        "    for treatment_percentage in treatment_percentages\n",
        "        for di in dist # need to loop through the distances along the entire river\n",
        "            final_DO = diss_oxygen3(di, 10, 0.55, 0.35, 0.25, do_inflow, treatment_percentage) # call the function from question 5\n",
        "            # check if the treatment plan fails to comply with regulatory standard\n",
        "            if final_DO < 4\n",
        "                failure_count += 1\n",
        "                break  # need to exit loop once DO gets below 4 mg/L\n",
        "            end\n",
        "        end\n",
        "    end\n",
        "end\n",
        "\n",
        "# calculate failure rate\n",
        "# because we have a range of DO inflows and a range of treatments, we need to multiply these results together\n",
        "all_options = length(do_inflow_range) * length(treatment_percentages) \n",
        "failure_frac = failure_count / all_options"
      ]
    },
    {
      "cell_type": "code",
      "execution_count": 511,
      "id": "f81d1bf4",
      "metadata": {},
      "outputs": [
        {
          "data": {
            "text/plain": [
              "77.0"
            ]
          },
          "metadata": {},
          "output_type": "display_data"
        }
      ],
      "source": [
        "round(failure_frac*100)"
      ]
    },
    {
      "cell_type": "markdown",
      "id": "b2c57c81",
      "metadata": {},
      "source": [
        "Response: I recognize that there are still some carry-over issues from problem 5. Nonetheless, I believe my approach for this problem is generally correct, leading me to get a failure percentage of approximately 77% for the treatment plan from problem 5. \n",
        "\n",
        "So, my overall approach is to loop through various DO inflow values (ranging from 6 to 8), treatment percentages, and distances along the river to get an understanding of the success of the treatment plan under different conditions. So, ultimately the `failure_frac` variable provides me with an estimate of how often the plan fails to comply with the regulatory standard of 4 mg/L."
      ]
    },
    {
      "cell_type": "markdown",
      "id": "049f84b1-c21c-4539-83e8-ea8a441d18d1",
      "metadata": {},
      "source": [
        "### Problem 8 (5 points)\n",
        "\n",
        "A factory is planning a third wastewater discharge into the river\n",
        "downstream of the second plant. This discharge would consist of 5\n",
        "m<sup>3</sup>/day of wastewater with a dissolved oxygen content of 4.5\n",
        "mg/L and CBOD and NBOD levels of 50 and 45 mg/L, respectively.\n",
        "\n",
        "Assume that the treatment plan you identified in Problem 5 is still in\n",
        "place for the existing discharges. If the third discharge will not be\n",
        "treated, under the original inflow conditions (7.5 mg/L DO), how far\n",
        "downstream from the second discharge does this third discharge need to\n",
        "be placed to keep the river concentration from dropping below 4 mg/L?"
      ]
    },
    {
      "cell_type": "code",
      "execution_count": 512,
      "id": "9b33fe04",
      "metadata": {},
      "outputs": [
        {
          "data": {
            "text/plain": [
              "7.7272727272727275"
            ]
          },
          "metadata": {},
          "output_type": "display_data"
        }
      ],
      "source": [
        "# define variables\n",
        "do_inflow = 7.5 \n",
        "waste3_inflow = 5000 # waste stream 3\n",
        "waste3_DO = 4.5 # waste stream 3\n",
        "waste3_CBOD = 50.0 # waste stream 3\n",
        "waste3_NBOD = 45.0 # waste stream 3\n",
        "ka = 0.55\n",
        "kc = 0.35\n",
        "kn = 0.25\n",
        "U = 6\n",
        "Cs = 10\n",
        "\n",
        "# set initial conditions of river\n",
        "C0 = 7.27\n",
        "B0 = (((cbod_river * river_inflow) + (waste1_cbod * waste1_inflow)) / (river_inflow + waste1_inflow))\n",
        "N0 = (((nbod_river * river_inflow ) + (waste1_nbod * waste1_inflow)) / (river_inflow + waste1_inflow))"
      ]
    },
    {
      "cell_type": "code",
      "execution_count": 513,
      "id": "70afa913",
      "metadata": {},
      "outputs": [
        {
          "data": {
            "text/plain": [
              "calculate_mixed_DO (generic function with 1 method)"
            ]
          },
          "metadata": {},
          "output_type": "display_data"
        }
      ],
      "source": [
        "# function to calculate mixed [DO] \n",
        "# here, update the code from problem 5\n",
        "function calculate_mixed_DO(x, treatment_percentage)\n",
        "    if (x >= 0) && (x <= 15)\n",
        "        a1 = exp(-ka * x / U)\n",
        "        a2 = (kc / (ka - kc)) * (exp(-kc * x / U) - a1)\n",
        "        a3 = (kn / (ka - kn)) * (exp(-kn * x / U) - a1)\n",
        "\n",
        "        # update C using the treatment for waste stream 1\n",
        "        C = (Cs * (1 - a1)) + (C0 * a1) - (waste1_Bi * (1 - treatment_percentage / 100) * a2) - (waste1_Ni * (1 - treatment_percentage / 100) * a3)\n",
        "        return C\n",
        "    else\n",
        "        x2 = x - 15 # reset the distance at the second box\n",
        "\n",
        "        a1 = exp(-ka * x2 / U)\n",
        "        a2 = (kc / (ka - kc)) * (exp(-kc * x2 / U) - a1)\n",
        "        a3 = (kn / (ka - kn)) * (exp(-kn * x2 / U) - a1)\n",
        "\n",
        "        # calculate mixed values at 15 km\n",
        "        C_at_15 = 4.88 # Computed by hand\n",
        "        B_at_15_mixed = (((B0 * exp(-kc * 15 / U)) * (river_inflow + waste1_inflow)) + (waste2_Bi * waste2_inflow)) / (river_inflow + waste1_inflow + waste2_inflow)\n",
        "        N_at_15_mixed = (((N0 * exp(-kn * 15 / U)) * (river_inflow + waste1_inflow)) + (waste2_Ni * waste2_inflow)) / (river_inflow + waste1_inflow + waste2_inflow)\n",
        "\n",
        "        # apply treatment to waste stream 2 by updating the CBOD and NBOD mixed values at 15 km\n",
        "        CBOD_treated = B_at_15_mixed * (1 - treatment_percentage / 100)\n",
        "        NBOD_treated = N_at_15_mixed * (1 - treatment_percentage / 100)\n",
        "\n",
        "        # calculate mixed DO concentration beyond the first box\n",
        "        C_mixed = (C_at_15 * (1 - a1)) + (C0 * a1) - (CBOD_treated * a2) - (NBOD_treated * a3)\n",
        "\n",
        "        return C_mixed\n",
        "    end\n",
        "end"
      ]
    },
    {
      "cell_type": "markdown",
      "id": "99989673",
      "metadata": {},
      "source": [
        "Note: I think I need to implement a loop after this to find the minimum distance from waste stream 2 to put the third discharge (i.e., loop over a vector of distances). But I'm not sure how to implement. I am trying to modify the code from problem 5 to tackle this problem, but am having some difficulties.  "
      ]
    },
    {
      "cell_type": "markdown",
      "id": "beaf7155-2b73-4559-a2d2-b41e2eb1e1de",
      "metadata": {},
      "source": [
        "## References\n",
        "\n",
        "List any external references consulted, including classmates.\n",
        "\n",
        "I consulted with Akshara during parts of this assignment. \n",
        "\n",
        "This link showed me how to use the `findall` function: https://docs.julialang.org/en/v1/base/arrays/#Base.findall-Tuple{Any}\n",
        "\n",
        "This link showed me how to use the `collect` function: https://docs.julialang.org/en/v1/manual/arrays/#man-array-concatenation"
      ]
    }
  ],
  "metadata": {
    "kernelspec": {
      "display_name": "Julia 1.9.2",
      "language": "julia",
      "name": "julia-1.9"
    },
    "language_info": {
      "file_extension": ".jl",
      "mimetype": "application/julia",
      "name": "julia",
      "version": "1.9.2"
    }
  },
  "nbformat": 4,
  "nbformat_minor": 5
}
